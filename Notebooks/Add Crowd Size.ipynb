{
 "cells": [
  {
   "cell_type": "code",
   "execution_count": 32,
   "metadata": {},
   "outputs": [],
   "source": [
    "import requests\n",
    "from newspaper import Article\n",
    "import pandas as pd\n",
    "from time import sleep\n",
    "import os \n",
    "from slugify import slugify\n",
    "import ast\n",
    "import numpy as np\n",
    "\n"
   ]
  },
  {
   "cell_type": "code",
   "execution_count": 42,
   "metadata": {},
   "outputs": [],
   "source": [
    "import spacy\n",
    "nlp = spacy.load(\"en_core_web_md\")\n",
    "\n"
   ]
  },
  {
   "cell_type": "code",
   "execution_count": 22,
   "metadata": {},
   "outputs": [],
   "source": [
    "df = pd.read_csv('../BLM-GFAABT.csv')\n",
    "\n"
   ]
  },
  {
   "cell_type": "code",
   "execution_count": 27,
   "metadata": {},
   "outputs": [
    {
     "data": {
      "text/plain": [
       "5606"
      ]
     },
     "execution_count": 27,
     "metadata": {},
     "output_type": "execute_result"
    }
   ],
   "source": [
    "def str_2_list(links):\n",
    "    try:\n",
    "        return ast.literal_eval(links)\n",
    "    except:\n",
    "        return links\n",
    "\n",
    "    \n",
    "def good(url):\n",
    "    if 'twitter.com' in url:\n",
    "        return False\n",
    "    elif 'facebook.com' in url:\n",
    "        return False\n",
    "    return True\n",
    "\n",
    "df['urls'] = df['urls'].apply(str_2_list)\n",
    "urls = list(set([item for sublist in df['urls'].values for item in sublist]))\n",
    "\n",
    "\n",
    "\n",
    "urls = [u for u in urls if good(u) == True]\n",
    "len(urls)"
   ]
  },
  {
   "cell_type": "code",
   "execution_count": 28,
   "metadata": {},
   "outputs": [],
   "source": [
    "def get_html(url):\n",
    "    \"\"\"Attempt to open a file based on the url.\"\"\"\n",
    "    location = locate(url)\n",
    "\n",
    "    with open(location, \"r\") as infile:\n",
    "        html = infile.read()\n",
    "    return html\n",
    "\n",
    "def locate(url):\n",
    "    \"\"\"Create file name and place in directory\"\"\"\n",
    "    file_name = slugify(url)\n",
    "    location = os.path.join(\"blm-html\", file_name)\n",
    "    return location\n",
    "\n",
    "def get_article_info(url):\n",
    "    \"\"\"Load and parse a newspaper url.\"\"\"\n",
    "    html = get_html(url)\n",
    "    article = Article(url)\n",
    "    article.html = html\n",
    "    article.download_state = 2\n",
    "    article.parse()\n",
    "\n",
    "    article_details = {\n",
    "        \"title\": article.title,\n",
    "        \"text\": article.text,\n",
    "        \"url\": article.url,\n",
    "        \"authors\": article.authors,\n",
    "        \"html\": article.html,\n",
    "        \"date\": article.publish_date,\n",
    "        \"description\": article.meta_description,\n",
    "    }\n",
    "    return article_details"
   ]
  },
  {
   "cell_type": "code",
   "execution_count": 33,
   "metadata": {},
   "outputs": [],
   "source": [
    "parsed = []\n",
    "for url in list(urls):\n",
    "    try:\n",
    "        parsed.append(get_article_info(url))\n",
    "    except (FileNotFoundError, OSError):\n",
    "        pass\n",
    "    "
   ]
  },
  {
   "cell_type": "code",
   "execution_count": 36,
   "metadata": {},
   "outputs": [
    {
     "data": {
      "text/plain": [
       "3082"
      ]
     },
     "execution_count": 36,
     "metadata": {},
     "output_type": "execute_result"
    }
   ],
   "source": [
    "df = pd.DataFrame(parsed)\n",
    "len(df)"
   ]
  },
  {
   "cell_type": "code",
   "execution_count": 47,
   "metadata": {},
   "outputs": [],
   "source": [
    "import re\n",
    "\n",
    "def extract_size(text):\n",
    "    \n",
    "    # shorten text to avoid later discussion of other protests stuff\n",
    "    doc = nlp(text)\n",
    "    text = ' '.join([s.text for s in list(doc.sents)][:5])\n",
    "    \n",
    "    s = text.lower()\n",
    "    for prefix in ['up to', 'more than','around','at least', 'about', 'approximately', 'over', 'almost']:\n",
    "        for suffix in ['protesters', 'people', 'town residents']:\n",
    "            h = re.findall('%s \\d+(?:,\\d+)? %s' % (prefix, suffix), s)\n",
    "            if len(h) > 0:\n",
    "                return h[0]\n",
    "    if 'hundreds of protesters' in s:\n",
    "        return 'hundreds'\n",
    "    if 'hundreds of people' in s:\n",
    "        return 'hundreds'\n",
    "    if 'few hundred people' in s:\n",
    "        return 'hundreds'\n",
    "    if 'few hundred people' in s:\n",
    "        return 'hundreds'\n",
    "    if 'hundreds of protestors' in s:\n",
    "        return 'hundreds'\n",
    "    if 'over a hundred' in s:\n",
    "        return 'hundred'\n",
    "\n",
    "    for d in ['dozens of protestors', 'few dozen' , 'at least a dozen']:\n",
    "        if d in s:\n",
    "            return d\n",
    "\n",
    "    \n",
    "    size = []\n",
    "    \n",
    "    verbs = ['protested', 'marched', 'demonstrated', 'gathered', 'attended' , 'participated', 'formed']\n",
    "    for chunk in doc.noun_chunks:\n",
    "        if chunk.root.head.text in verbs:\n",
    "            size.append([chunk.text + ' ' +                    chunk.root.head.text])\n",
    "\n",
    "    return size \n",
    "\n"
   ]
  },
  {
   "cell_type": "code",
   "execution_count": 51,
   "metadata": {},
   "outputs": [
    {
     "data": {
      "text/plain": [
       "2447                                                   []\n",
       "941     [[Demonstrators gathered], [Crowds gathered], ...\n",
       "2493                                                   []\n",
       "1708    [[the crowd gathered], [The crowd marched], [t...\n",
       "1755    [[protesters marched], [more than two miles ma...\n",
       "1157         [[Anti-police brutality activists gathered]]\n",
       "1215                                                   []\n",
       "1401                                 more than 150 people\n",
       "458                                                    []\n",
       "701                                                    []\n",
       "561                                                    []\n",
       "1689                                             hundreds\n",
       "524                                [[Protesters marched]]\n",
       "3061                                                   []\n",
       "2844                                                   []\n",
       "1485                                  more than 30 people\n",
       "389                                                    []\n",
       "2922                                                   []\n",
       "1864                                                   []\n",
       "129                                                    []\n",
       "Name: text, dtype: object"
      ]
     },
     "execution_count": 51,
     "metadata": {},
     "output_type": "execute_result"
    }
   ],
   "source": [
    "df['text'].sample(20).fillna('').apply(extract_size)"
   ]
  },
  {
   "cell_type": "code",
   "execution_count": null,
   "metadata": {},
   "outputs": [],
   "source": []
  }
 ],
 "metadata": {
  "kernelspec": {
   "display_name": "Python 3",
   "language": "python",
   "name": "python3"
  },
  "language_info": {
   "codemirror_mode": {
    "name": "ipython",
    "version": 3
   },
   "file_extension": ".py",
   "mimetype": "text/x-python",
   "name": "python",
   "nbconvert_exporter": "python",
   "pygments_lexer": "ipython3",
   "version": "3.8.3"
  }
 },
 "nbformat": 4,
 "nbformat_minor": 4
}
