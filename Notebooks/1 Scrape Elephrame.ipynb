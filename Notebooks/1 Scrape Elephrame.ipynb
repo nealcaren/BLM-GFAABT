{
 "cells": [
  {
   "cell_type": "code",
   "execution_count": 1,
   "metadata": {},
   "outputs": [],
   "source": [
    "%load_ext blackcellmagic\n",
    "\n",
    "import requests\n",
    "import pandas as pd\n",
    "import re\n",
    "from time import sleep\n"
   ]
  },
  {
   "cell_type": "code",
   "execution_count": 2,
   "metadata": {},
   "outputs": [],
   "source": [
    "url = \"https://elephrame.com/gather\"\n",
    "payload = {\"page\": 5, \"contentType\": \"blm\", \"search\": \"\"}\n",
    "\n",
    "header = {\n",
    "    \"Content-Type\": \"application/x-www-form-urlencoded; charset=UTF-8\",\n",
    "    \"Referer\": \"https://elephrame.com/textbook/BLM\",\n",
    "    \"Accept\": \"text/html, */*; q=0.01\",\n",
    "    \"User-Agent\": (\n",
    "        \"Mozilla/5.0 (Macintosh; Intel Mac OS X 10_12) \"\n",
    "        \"AppleWebKit/602.1.50 (KHTML, like Gecko) \"\n",
    "        \"Version/10.0 Safari/602.1.50\"\n",
    "    ),\n",
    "    \"Origin\": \"https://elephrame.com\",\n",
    "}"
   ]
  },
  {
   "cell_type": "code",
   "execution_count": 3,
   "metadata": {},
   "outputs": [],
   "source": [
    "def scrape_elephrame(html):\n",
    "    events = []\n",
    "    for section in html.split('item-chart-header\"')[1:]:\n",
    "        id_no =    \"\".join(re.findall('id=\"(.*?)\"', section))\n",
    "        location = \"\".join(re.findall('item-protest-location\">(.*?)<', section))\n",
    "        size = \"\".join(re.findall(\"Participant\\(s\\):</b> (.*?)<\", section))\n",
    "        date = \"\".join(re.findall('protest-start\">.*?, (.*?)<', section))\n",
    "        time = \"\".join(re.findall(\"<b>Time:<\\/b>(.*?)<\\/li\", section, re.DOTALL))\n",
    "        description = \"\".join(\n",
    "            re.findall(\"<b>Description:<\\/b>(.*?)<\\/li\", section, re.DOTALL)\n",
    "        )\n",
    "        subject = \"\".join(re.findall(\"Subject.*?>(.*?)<\", section))\n",
    "        links = re.findall('href=\"(.*?)\"', section)\n",
    "        events.append((id_no, location, size, date, subject, description, time, links))\n",
    "    new_df = pd.DataFrame(\n",
    "        events,\n",
    "        columns=[\"ID\", \"Location\", \"Size\", \"Date\", \"Subject\", \"Description\", \"Time\", \"Links\"],\n",
    "    )\n",
    "    return new_df"
   ]
  },
  {
   "cell_type": "code",
   "execution_count": 4,
   "metadata": {},
   "outputs": [],
   "source": [
    "dfs = []\n",
    "\n",
    "for page in range(0, 40):\n",
    "    payload[\"page\"] = page\n",
    "    r = requests.post(url, data=payload, headers=header)\n",
    "    html = r.text\n",
    "    new_df = scrape_elephrame(html)\n",
    "    dfs.append(new_df)\n",
    "    sleep(3)"
   ]
  },
  {
   "cell_type": "code",
   "execution_count": 5,
   "metadata": {},
   "outputs": [],
   "source": [
    "ele_df = pd.concat(dfs)"
   ]
  },
  {
   "cell_type": "code",
   "execution_count": 6,
   "metadata": {},
   "outputs": [],
   "source": [
    "ele_df['Collection'] = 'Elephrame'"
   ]
  },
  {
   "cell_type": "code",
   "execution_count": 7,
   "metadata": {},
   "outputs": [
    {
     "data": {
      "text/html": [
       "<div>\n",
       "<style scoped>\n",
       "    .dataframe tbody tr th:only-of-type {\n",
       "        vertical-align: middle;\n",
       "    }\n",
       "\n",
       "    .dataframe tbody tr th {\n",
       "        vertical-align: top;\n",
       "    }\n",
       "\n",
       "    .dataframe thead th {\n",
       "        text-align: right;\n",
       "    }\n",
       "</style>\n",
       "<table border=\"1\" class=\"dataframe\">\n",
       "  <thead>\n",
       "    <tr style=\"text-align: right;\">\n",
       "      <th></th>\n",
       "      <th>ID</th>\n",
       "      <th>Location</th>\n",
       "      <th>Size</th>\n",
       "      <th>Date</th>\n",
       "      <th>Subject</th>\n",
       "      <th>Description</th>\n",
       "      <th>Time</th>\n",
       "      <th>Links</th>\n",
       "      <th>Collection</th>\n",
       "    </tr>\n",
       "  </thead>\n",
       "  <tbody>\n",
       "    <tr>\n",
       "      <th>9</th>\n",
       "      <td>3427</td>\n",
       "      <td>Elmira, NY</td>\n",
       "      <td>40-50 (est.) demonstrators</td>\n",
       "      <td>June 5, 2020</td>\n",
       "      <td>#WhiteCoatsForBlackLives, George Floyd, Breon...</td>\n",
       "      <td>Walkout of healthcare workers at Arnot Ogden ...</td>\n",
       "      <td>Unclear</td>\n",
       "      <td>[https://www.weny.com/story/42216709/health-ca...</td>\n",
       "      <td>Elephrame</td>\n",
       "    </tr>\n",
       "    <tr>\n",
       "      <th>0</th>\n",
       "      <td>3254</td>\n",
       "      <td>Williamsburg, VA</td>\n",
       "      <td>Hundreds of demonstrators</td>\n",
       "      <td>June 1, 2020</td>\n",
       "      <td>George Floyd, Breonna Taylor, Ahmaud Arbery, ...</td>\n",
       "      <td>No details included for this demonstration.</td>\n",
       "      <td>Evening</td>\n",
       "      <td>[https://wydaily.com/local-news/2020/06/01/i-c...</td>\n",
       "      <td>Elephrame</td>\n",
       "    </tr>\n",
       "    <tr>\n",
       "      <th>1</th>\n",
       "      <td>3363</td>\n",
       "      <td>Carmel, NY</td>\n",
       "      <td>100 (est.) demonstrators</td>\n",
       "      <td>June 3, 2020</td>\n",
       "      <td>George Floyd, Breonna Taylor, Ahmaud Arbery, ...</td>\n",
       "      <td>No details included for this demonstration.</td>\n",
       "      <td>Afternoon</td>\n",
       "      <td>[https://www.lohud.com/story/news/local/putnam...</td>\n",
       "      <td>Elephrame</td>\n",
       "    </tr>\n",
       "  </tbody>\n",
       "</table>\n",
       "</div>"
      ],
      "text/plain": [
       "     ID          Location                        Size          Date  \\\n",
       "9  3427        Elmira, NY  40-50 (est.) demonstrators  June 5, 2020   \n",
       "0  3254  Williamsburg, VA   Hundreds of demonstrators  June 1, 2020   \n",
       "1  3363        Carmel, NY    100 (est.) demonstrators  June 3, 2020   \n",
       "\n",
       "                                             Subject  \\\n",
       "9   #WhiteCoatsForBlackLives, George Floyd, Breon...   \n",
       "0   George Floyd, Breonna Taylor, Ahmaud Arbery, ...   \n",
       "1   George Floyd, Breonna Taylor, Ahmaud Arbery, ...   \n",
       "\n",
       "                                         Description        Time  \\\n",
       "9   Walkout of healthcare workers at Arnot Ogden ...     Unclear   \n",
       "0        No details included for this demonstration.     Evening   \n",
       "1        No details included for this demonstration.   Afternoon   \n",
       "\n",
       "                                               Links Collection  \n",
       "9  [https://www.weny.com/story/42216709/health-ca...  Elephrame  \n",
       "0  [https://wydaily.com/local-news/2020/06/01/i-c...  Elephrame  \n",
       "1  [https://www.lohud.com/story/news/local/putnam...  Elephrame  "
      ]
     },
     "execution_count": 7,
     "metadata": {},
     "output_type": "execute_result"
    }
   ],
   "source": [
    "ele_df.sample(3)"
   ]
  },
  {
   "cell_type": "code",
   "execution_count": 8,
   "metadata": {},
   "outputs": [],
   "source": [
    "ele_df.to_csv('Elephrame.csv', index=False)"
   ]
  },
  {
   "cell_type": "code",
   "execution_count": null,
   "metadata": {},
   "outputs": [],
   "source": []
  }
 ],
 "metadata": {
  "kernelspec": {
   "display_name": "Python 3",
   "language": "python",
   "name": "python3"
  },
  "language_info": {
   "codemirror_mode": {
    "name": "ipython",
    "version": 3
   },
   "file_extension": ".py",
   "mimetype": "text/x-python",
   "name": "python",
   "nbconvert_exporter": "python",
   "pygments_lexer": "ipython3",
   "version": "3.8.3"
  }
 },
 "nbformat": 4,
 "nbformat_minor": 2
}
