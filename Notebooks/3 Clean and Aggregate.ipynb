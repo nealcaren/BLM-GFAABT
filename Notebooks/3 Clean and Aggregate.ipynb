{
 "cells": [
  {
   "cell_type": "code",
   "execution_count": 33,
   "metadata": {},
   "outputs": [
    {
     "name": "stdout",
     "output_type": "stream",
     "text": [
      "The blackcellmagic extension is already loaded. To reload it, use:\n",
      "  %reload_ext blackcellmagic\n"
     ]
    }
   ],
   "source": [
    "%load_ext blackcellmagic\n",
    "%matplotlib inline\n",
    "\n",
    "\n",
    "import pandas as pd\n",
    "import requests\n",
    "import re\n",
    "import ast\n",
    "import numpy as np\n",
    "import seaborn as sns\n",
    "\n",
    "from collections import defaultdict"
   ]
  },
  {
   "cell_type": "code",
   "execution_count": 34,
   "metadata": {},
   "outputs": [],
   "source": [
    "ccc_df = pd.read_csv(\"ccc_blm.csv\")\n",
    "ele_df = pd.read_csv(\"ele.csv\")\n",
    "cl_df = pd.read_csv(\"cl_blm.csv\")\n",
    "\n",
    "dfs = [ccc_df, ele_df, cl_df]"
   ]
  },
  {
   "cell_type": "code",
   "execution_count": 35,
   "metadata": {},
   "outputs": [
    {
     "data": {
      "text/plain": [
       "3892"
      ]
     },
     "execution_count": 35,
     "metadata": {},
     "output_type": "execute_result"
    }
   ],
   "source": [
    "df = pd.concat(dfs).reset_index(drop=True)\n",
    "len(df)"
   ]
  },
  {
   "cell_type": "code",
   "execution_count": 36,
   "metadata": {},
   "outputs": [
    {
     "data": {
      "text/plain": [
       "3892"
      ]
     },
     "execution_count": 36,
     "metadata": {},
     "output_type": "execute_result"
    }
   ],
   "source": [
    "# fix stay commas\n",
    "\n",
    "df['city_st'] = df['city_st'].str.replace(' , ', ', ')\n",
    "df['city_st'] = df['city_st'].str.strip()\n",
    "\n",
    "\n",
    "len(df)"
   ]
  },
  {
   "cell_type": "code",
   "execution_count": 37,
   "metadata": {},
   "outputs": [
    {
     "data": {
      "text/plain": [
       "3851"
      ]
     },
     "execution_count": 37,
     "metadata": {},
     "output_type": "execute_result"
    }
   ],
   "source": [
    "# eliminate non US events\n",
    "\n",
    "countries = [\n",
    "    \"Finland\",\n",
    "    \"England\",\n",
    "    \"Wales\",\n",
    "    \"Canada\",\n",
    "    \"Scotland\",\n",
    "    \"Germany\",\n",
    "    \"Ireland\", 'Sweden'\n",
    "    \"Netherlands\",\n",
    "    \"New Zealand\",\n",
    "    \"Denmark\",\n",
    "    \"Australia\",\n",
    "    \"Belgium\",\n",
    "    \"France\", 'Hungary',\n",
    "]\n",
    "\n",
    "\n",
    "def in_us(city_st):\n",
    "    for c in countries:\n",
    "        c2 = \", \" + c\n",
    "        if c2 in city_st:\n",
    "            return False\n",
    "\n",
    "    return True\n",
    "\n",
    "\n",
    "df = df[df[\"city_st\"].apply(in_us)].copy()\n",
    "len(df)"
   ]
  },
  {
   "cell_type": "code",
   "execution_count": 38,
   "metadata": {},
   "outputs": [],
   "source": [
    "errors = {'Albuqeurque, NM' : 'Albuquerque, NM',\n",
    "         'Bilings, MT' : 'Billings, MT',\n",
    "         'Breckinridge, CO' : 'Breckinridge, CO',\n",
    "          \"Longbranch, NJ\" : \"Long Branch, NJ\",\n",
    "          'Lousiville, KY' : 'Louisville, KY',\n",
    "          'Merrick, New York' : 'Merrick, NY',\n",
    "          'Pittsfield Charter Township, MI' : 'Pittsfield, MI',\n",
    "          'Pittsfield Township, MI' : 'Pittsfield, MI',\n",
    "          'Phillipsburg, PA' : 'Philipsburg, PA',\n",
    "          'South Sacramento, CA' :  'Sacramento, CA',\n",
    "          'Shelbourne Falls, MA' : 'Shelburne Falls, MA',\n",
    "          'Tallahasee, FL' : 'Tallahassee, FL',\n",
    "          'Tampa Bay, FL' : \"Tampa, Fl\",\n",
    "          'Voorhees Township, NJ' : 'Voorhees, NJ',\n",
    "          'Warren Township, NJ' : 'Warren, NJ', \n",
    "          'Summerlin, NV' : 'Las Vegas, NV',\n",
    "          'Stockton, TX' : 'Fort Stockton, TX',\n",
    "          'Standford, CA' : 'Stanford, CA',\n",
    "        \n",
    "          \n",
    "         }\n",
    "\n",
    "for city in errors:\n",
    "    df['city_st'] = df['city_st'].str.replace(city, errors[city])"
   ]
  },
  {
   "cell_type": "code",
   "execution_count": 39,
   "metadata": {},
   "outputs": [],
   "source": [
    "#uniform saint to st\n",
    "df['city_st'] = df['city_st'].str.replace('Saint ', 'St. ')"
   ]
  },
  {
   "cell_type": "code",
   "execution_count": 40,
   "metadata": {},
   "outputs": [
    {
     "data": {
      "text/plain": [
       "0       False\n",
       "1       False\n",
       "2       False\n",
       "3       False\n",
       "4       False\n",
       "        ...  \n",
       "3887    False\n",
       "3888    False\n",
       "3889    False\n",
       "3890    False\n",
       "3891    False\n",
       "Name: urls, Length: 3851, dtype: bool"
      ]
     },
     "execution_count": 40,
     "metadata": {},
     "output_type": "execute_result"
    }
   ],
   "source": [
    "df['urls'] == \"['https://kfor.com/news/local/protester-hit-by-vehicle-during-protest-in-tulsa-over-george-floyds-death/']'\""
   ]
  },
  {
   "cell_type": "code",
   "execution_count": null,
   "metadata": {},
   "outputs": [],
   "source": []
  },
  {
   "cell_type": "code",
   "execution_count": 41,
   "metadata": {},
   "outputs": [],
   "source": [
    "df['events'] = 1\n",
    "df['size'] = df['size'].replace(0,np.nan)\n",
    "df['size_imp'] = df['size'].fillna(11)\n",
    "\n",
    "\n",
    "df = pd.concat([df, pd.get_dummies(df['collection'])], axis=1)"
   ]
  },
  {
   "cell_type": "code",
   "execution_count": 42,
   "metadata": {},
   "outputs": [],
   "source": [
    "# extract urls to make them variables\n",
    "\n",
    "def str_2_list(links):\n",
    "    return ast.literal_eval(links)\n",
    "\n",
    "df['url_list'] = df['urls'].apply(str_2_list)\n",
    "\n",
    "\n",
    "urls = set([item for sublist in df['url_list'].values for item in sublist])\n",
    "\n",
    "for url in urls:\n",
    "    df[url] = df['urls'].str.contains(url)"
   ]
  },
  {
   "cell_type": "markdown",
   "metadata": {},
   "source": [
    "First Pass at Aggregation"
   ]
  },
  {
   "cell_type": "code",
   "execution_count": 43,
   "metadata": {},
   "outputs": [],
   "source": [
    "# first sum by collection for multiple events by city\n",
    "df_cd = df.groupby(['collection', 'date', 'city_st']).sum().reset_index()"
   ]
  },
  {
   "cell_type": "code",
   "execution_count": 44,
   "metadata": {},
   "outputs": [],
   "source": [
    "df_cd['size_imp'] = df_cd['size'].fillna(11)\n",
    "\n"
   ]
  },
  {
   "cell_type": "code",
   "execution_count": 45,
   "metadata": {},
   "outputs": [],
   "source": [
    "for v in [\"CCC\", \n",
    "    \"Count Love\", \n",
    "    \"Elephrame\"]:\n",
    "    df_cd[v] = df_cd[v] > 0\n",
    "    df_cd[v] = df_cd[v].astype(int)"
   ]
  },
  {
   "cell_type": "code",
   "execution_count": 46,
   "metadata": {},
   "outputs": [],
   "source": [
    "\n",
    "aggregation = {\n",
    "    \"events\": \"max\",\n",
    "    \"size\": \"max\",\n",
    "    \"size_imp\" : \"max\",\n",
    "    \"CCC\" : \"max\",\n",
    "    \"Count Love\" : \"max\",\n",
    "    \"Elephrame\" : \"max\"\n",
    "}\n",
    "\n",
    "\n",
    "for url in urls:\n",
    "    aggregation[url] = 'max'\n",
    "\n",
    "df_cd = df_cd.groupby([\"date\", \"city_st\"]).agg(aggregation).reset_index()"
   ]
  },
  {
   "cell_type": "code",
   "execution_count": 47,
   "metadata": {},
   "outputs": [],
   "source": [
    "# Create list of URLs\n",
    "\n",
    "index_dict = defaultdict(list)\n",
    "\n",
    "http_urls = [u for u in df_cd.keys() if 'http' in u]\n",
    "\n",
    "for url in http_urls:\n",
    "    for i in df_cd[df_cd[url] == True].index.values:\n",
    "        index_dict[i].append(url)\n",
    "\n",
    "url_df = pd.Series(index_dict).to_frame(name='urls')\n",
    "\n"
   ]
  },
  {
   "cell_type": "code",
   "execution_count": null,
   "metadata": {},
   "outputs": [],
   "source": []
  },
  {
   "cell_type": "code",
   "execution_count": 48,
   "metadata": {},
   "outputs": [],
   "source": [
    "keep = [\n",
    "    \"date\",\n",
    "    \"city_st\",\n",
    "    \"events\",\n",
    "    \"size\",\n",
    "    \"size_imp\",\n",
    "    \"CCC\",\n",
    "    \"Count Love\",\n",
    "    \"Elephrame\",\n",
    "\n",
    "]"
   ]
  },
  {
   "cell_type": "code",
   "execution_count": 49,
   "metadata": {},
   "outputs": [],
   "source": [
    "df_cd = df_cd[keep].merge(url_df, left_index=True, right_index=True)"
   ]
  },
  {
   "cell_type": "code",
   "execution_count": 50,
   "metadata": {},
   "outputs": [],
   "source": [
    "df_cd['size'] = df_cd['size'].replace(0, np.nan)\n",
    "df_cd['size_imp'] = df_cd['size'].replace(0, np.nan)\n",
    "df_cd['size_imp'] = df_cd['size'].fillna(11)"
   ]
  },
  {
   "cell_type": "code",
   "execution_count": 51,
   "metadata": {},
   "outputs": [],
   "source": [
    "date_start = pd.to_datetime('2020-05-24')\n",
    "df_cd = df_cd[pd.to_datetime(df_cd['date']) >= date_start].copy()\n",
    "\n"
   ]
  },
  {
   "cell_type": "code",
   "execution_count": 52,
   "metadata": {},
   "outputs": [],
   "source": [
    "\n",
    "\n",
    "df_cd.to_csv('../BLM-GFAABT.csv', index =False)\n",
    "\n",
    "\n"
   ]
  },
  {
   "cell_type": "code",
   "execution_count": 57,
   "metadata": {},
   "outputs": [
    {
     "data": {
      "image/png": "[encoded data removed]",
      "text/plain": [
       "<Figure size 432x288 with 1 Axes>"
      ]
     },
     "metadata": {
      "needs_background": "light"
     },
     "output_type": "display_data"
    }
   ],
   "source": [
    "df_cd.groupby('date')['events'].sum().plot();"
   ]
  },
  {
   "cell_type": "code",
   "execution_count": 53,
   "metadata": {},
   "outputs": [
    {
     "data": {
      "image/png": "[encoded data removed]",
      "text/plain": [
       "<Figure size 432x288 with 1 Axes>"
      ]
     },
     "metadata": {
      "needs_background": "light"
     },
     "output_type": "display_data"
    }
   ],
   "source": [
    "df_cd.groupby('date')['size_imp'].sum().plot();"
   ]
  },
  {
   "cell_type": "code",
   "execution_count": 54,
   "metadata": {
    "scrolled": true
   },
   "outputs": [
    {
     "data": {
      "text/plain": [
       "1125864.5"
      ]
     },
     "execution_count": 54,
     "metadata": {},
     "output_type": "execute_result"
    }
   ],
   "source": [
    "df_cd['size_imp'].sum()"
   ]
  },
  {
   "cell_type": "code",
   "execution_count": 55,
   "metadata": {},
   "outputs": [
    {
     "data": {
      "text/plain": [
       "1118087.5"
      ]
     },
     "execution_count": 55,
     "metadata": {},
     "output_type": "execute_result"
    }
   ],
   "source": [
    "df_cd['size'].sum()"
   ]
  },
  {
   "cell_type": "code",
   "execution_count": 56,
   "metadata": {
    "scrolled": true
   },
   "outputs": [
    {
     "data": {
      "text/html": [
       "<div>\n",
       "<style scoped>\n",
       "    .dataframe tbody tr th:only-of-type {\n",
       "        vertical-align: middle;\n",
       "    }\n",
       "\n",
       "    .dataframe tbody tr th {\n",
       "        vertical-align: top;\n",
       "    }\n",
       "\n",
       "    .dataframe thead th {\n",
       "        text-align: right;\n",
       "    }\n",
       "</style>\n",
       "<table border=\"1\" class=\"dataframe\">\n",
       "  <thead>\n",
       "    <tr style=\"text-align: right;\">\n",
       "      <th></th>\n",
       "      <th>CCC</th>\n",
       "      <th>Count Love</th>\n",
       "      <th>Elephrame</th>\n",
       "      <th>events</th>\n",
       "    </tr>\n",
       "  </thead>\n",
       "  <tbody>\n",
       "    <tr>\n",
       "      <th>0</th>\n",
       "      <td>0</td>\n",
       "      <td>0</td>\n",
       "      <td>1</td>\n",
       "      <td>236</td>\n",
       "    </tr>\n",
       "    <tr>\n",
       "      <th>1</th>\n",
       "      <td>0</td>\n",
       "      <td>1</td>\n",
       "      <td>0</td>\n",
       "      <td>781</td>\n",
       "    </tr>\n",
       "    <tr>\n",
       "      <th>2</th>\n",
       "      <td>0</td>\n",
       "      <td>1</td>\n",
       "      <td>1</td>\n",
       "      <td>103</td>\n",
       "    </tr>\n",
       "    <tr>\n",
       "      <th>3</th>\n",
       "      <td>1</td>\n",
       "      <td>0</td>\n",
       "      <td>0</td>\n",
       "      <td>508</td>\n",
       "    </tr>\n",
       "    <tr>\n",
       "      <th>4</th>\n",
       "      <td>1</td>\n",
       "      <td>0</td>\n",
       "      <td>1</td>\n",
       "      <td>50</td>\n",
       "    </tr>\n",
       "    <tr>\n",
       "      <th>5</th>\n",
       "      <td>1</td>\n",
       "      <td>1</td>\n",
       "      <td>0</td>\n",
       "      <td>312</td>\n",
       "    </tr>\n",
       "    <tr>\n",
       "      <th>6</th>\n",
       "      <td>1</td>\n",
       "      <td>1</td>\n",
       "      <td>1</td>\n",
       "      <td>141</td>\n",
       "    </tr>\n",
       "  </tbody>\n",
       "</table>\n",
       "</div>"
      ],
      "text/plain": [
       "   CCC  Count Love  Elephrame  events\n",
       "0    0           0          1     236\n",
       "1    0           1          0     781\n",
       "2    0           1          1     103\n",
       "3    1           0          0     508\n",
       "4    1           0          1      50\n",
       "5    1           1          0     312\n",
       "6    1           1          1     141"
      ]
     },
     "execution_count": 56,
     "metadata": {},
     "output_type": "execute_result"
    }
   ],
   "source": [
    "df_cd.groupby([\"CCC\", \"Count Love\", 'Elephrame'])['events'].count().reset_index()"
   ]
  },
  {
   "cell_type": "code",
   "execution_count": null,
   "metadata": {},
   "outputs": [],
   "source": []
  }
 ],
 "metadata": {
  "kernelspec": {
   "display_name": "Python 3",
   "language": "python",
   "name": "python3"
  },
  "language_info": {
   "codemirror_mode": {
    "name": "ipython",
    "version": 3
   },
   "file_extension": ".py",
   "mimetype": "text/x-python",
   "name": "python",
   "nbconvert_exporter": "python",
   "pygments_lexer": "ipython3",
   "version": "3.8.3"
  }
 },
 "nbformat": 4,
 "nbformat_minor": 4
}
