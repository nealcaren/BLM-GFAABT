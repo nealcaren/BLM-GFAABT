{
 "cells": [
  {
   "cell_type": "code",
   "execution_count": 1,
   "metadata": {},
   "outputs": [],
   "source": [
    "import pandas as pd\n",
    "# If we go w/ spaCy\n",
    "import spacy\n",
    "import re"
   ]
  },
  {
   "cell_type": "code",
   "execution_count": 2,
   "metadata": {},
   "outputs": [],
   "source": [
    "nlp = spacy.load(\"en_core_web_md\")"
   ]
  },
  {
   "cell_type": "code",
   "execution_count": 3,
   "metadata": {},
   "outputs": [],
   "source": [
    "wiki = pd.read_json('data/wiki_protest.json')"
   ]
  },
  {
   "cell_type": "code",
   "execution_count": 4,
   "metadata": {},
   "outputs": [
    {
     "name": "stdout",
     "output_type": "stream",
     "text": [
      "An estimated 1,000 CARDINAL\n",
      "May 31 DATE\n",
      "May 31 DATE\n",
      "the afternoon TIME\n",
      "May 29 DATE\n"
     ]
    }
   ],
   "source": [
    "# Maybe try entities?\n",
    "\n",
    "test = nlp(\"An estimated 1,000 people gathered on May 31 On May 31, a large crowd gathered peacefully On the afternoon of May 29, approximately 150\")\n",
    "\n",
    "for ent in test.ents:\n",
    "    print(ent.text, ent.label_)"
   ]
  },
  {
   "cell_type": "code",
   "execution_count": 5,
   "metadata": {},
   "outputs": [],
   "source": [
    "state_ab = pd.read_csv('data/state_ab.csv').set_index('State')['Code'].to_dict()\n",
    "state_ab['New York (state)'] = 'NY'\n",
    "state_ab['Washington (state)'] = 'WA'\n",
    "\n",
    "\n",
    "wiki.replace({'state': state_ab}, inplace = True)"
   ]
  },
  {
   "cell_type": "code",
   "execution_count": 6,
   "metadata": {},
   "outputs": [],
   "source": [
    "# function to get dates: \n",
    "\n",
    "def extract_dates(text):\n",
    "    dates = []\n",
    "    doc = nlp(text)\n",
    "    for ent in doc.ents:\n",
    "        if ent.label_=='DATE':\n",
    "            dates.append(ent.text)\n",
    "    return '; '.join(dates)"
   ]
  },
  {
   "cell_type": "code",
   "execution_count": 7,
   "metadata": {},
   "outputs": [],
   "source": [
    "wiki['dates'] = wiki['text'].apply(extract_dates)"
   ]
  },
  {
   "cell_type": "code",
   "execution_count": 8,
   "metadata": {},
   "outputs": [],
   "source": [
    "# function to get size: \n",
    "\n",
    "def extract_size(text):\n",
    "    doc = nlp(text)\n",
    "    \n",
    "    \n",
    "    s = text.lower()\n",
    "    for prefix in ['up to', 'more than','around','at least', 'about', 'approximately', 'over', 'almost']:\n",
    "        for suffix in ['protesters', 'people', 'town residents']:\n",
    "            h = re.findall('%s \\d+(?:,\\d+)? %s' % (prefix, suffix), s)\n",
    "            if len(h) > 0:\n",
    "                return h[0]\n",
    "    if 'hundreds of protesters' in s:\n",
    "        return 'hundreds'\n",
    "    if 'hundreds of people' in s:\n",
    "        return 'hundreds'\n",
    "    if 'few hundred people' in s:\n",
    "        return 'hundreds'\n",
    "    if 'few hundred people' in s:\n",
    "        return 'hundreds'\n",
    "    if 'hundreds of protestors' in s:\n",
    "        return 'hundreds'\n",
    "    if 'over a hundred' in s:\n",
    "        return 'hundred'\n",
    "\n",
    "    for d in ['dozens of protestors', 'few dozen' , 'at least a dozen']:\n",
    "        if d in s:\n",
    "            return d\n",
    "\n",
    "\n",
    "    size = []\n",
    "    \n",
    "    for ent in doc.ents:\n",
    "        if ent.label_=='CARDINAL':\n",
    "            size.append(ent.text)\n",
    "    return ', '.join(size)"
   ]
  },
  {
   "cell_type": "code",
   "execution_count": 9,
   "metadata": {},
   "outputs": [],
   "source": [
    "wiki['size_str'] = wiki['text'].apply(extract_size)"
   ]
  },
  {
   "cell_type": "code",
   "execution_count": 10,
   "metadata": {},
   "outputs": [
    {
     "data": {
      "text/html": [
       "<div>\n",
       "<style scoped>\n",
       "    .dataframe tbody tr th:only-of-type {\n",
       "        vertical-align: middle;\n",
       "    }\n",
       "\n",
       "    .dataframe tbody tr th {\n",
       "        vertical-align: top;\n",
       "    }\n",
       "\n",
       "    .dataframe thead th {\n",
       "        text-align: right;\n",
       "    }\n",
       "</style>\n",
       "<table border=\"1\" class=\"dataframe\">\n",
       "  <thead>\n",
       "    <tr style=\"text-align: right;\">\n",
       "      <th></th>\n",
       "      <th>city</th>\n",
       "      <th>text</th>\n",
       "      <th>state</th>\n",
       "      <th>references</th>\n",
       "      <th>dates</th>\n",
       "      <th>size_str</th>\n",
       "    </tr>\n",
       "  </thead>\n",
       "  <tbody>\n",
       "    <tr>\n",
       "      <th>138</th>\n",
       "      <td>Phoenix</td>\n",
       "      <td>Phoenix saw demonstrations for four straight n...</td>\n",
       "      <td>AZ</td>\n",
       "      <td>[https://www.azcentral.com/story/news/local/ph...</td>\n",
       "      <td>May 28</td>\n",
       "      <td>Hundreds</td>\n",
       "    </tr>\n",
       "    <tr>\n",
       "      <th>748</th>\n",
       "      <td>North Canton</td>\n",
       "      <td>About 50 people withstood a rainstorm and pro...</td>\n",
       "      <td>OH</td>\n",
       "      <td>[https://www.cantonrep.com/news/20200604/prote...</td>\n",
       "      <td>June 4</td>\n",
       "      <td>about 50 people</td>\n",
       "    </tr>\n",
       "    <tr>\n",
       "      <th>572</th>\n",
       "      <td>Grand Island</td>\n",
       "      <td>A group estimated at 300 people marched toward...</td>\n",
       "      <td>NE</td>\n",
       "      <td>[https://www.theindependent.com/news/local/clo...</td>\n",
       "      <td>June 1, 2020</td>\n",
       "      <td>300</td>\n",
       "    </tr>\n",
       "    <tr>\n",
       "      <th>330</th>\n",
       "      <td>Greenwich</td>\n",
       "      <td>Several dozen protesters rallied near the Gree...</td>\n",
       "      <td>CT</td>\n",
       "      <td>[https://www.greenwichtime.com/local/article/W...</td>\n",
       "      <td>June 1</td>\n",
       "      <td>Several dozen</td>\n",
       "    </tr>\n",
       "    <tr>\n",
       "      <th>360</th>\n",
       "      <td>Palm Coast</td>\n",
       "      <td>On June 3, around 200 protesters peacefully p...</td>\n",
       "      <td>FL</td>\n",
       "      <td>[https://www.news-journalonline.com/news/20200...</td>\n",
       "      <td>June 3</td>\n",
       "      <td>around 200 protesters</td>\n",
       "    </tr>\n",
       "    <tr>\n",
       "      <th>455</th>\n",
       "      <td>Mason City</td>\n",
       "      <td>May 31: About 30 people held signs along North...</td>\n",
       "      <td>IA</td>\n",
       "      <td>[https://www.kimt.com/content/news/Protesters-...</td>\n",
       "      <td>May 31</td>\n",
       "      <td>about 30 people</td>\n",
       "    </tr>\n",
       "    <tr>\n",
       "      <th>153</th>\n",
       "      <td>Bay Area</td>\n",
       "      <td>Berkeley: 3,000-4,000 protesters marched in So...</td>\n",
       "      <td>CA</td>\n",
       "      <td>[https://www.berkeleyside.com/2020/06/06/thous...</td>\n",
       "      <td>June 6</td>\n",
       "      <td>3,000</td>\n",
       "    </tr>\n",
       "    <tr>\n",
       "      <th>235</th>\n",
       "      <td>La Crescenta-Montrose</td>\n",
       "      <td>June 1:  Around 20 protested at Demoret Park....</td>\n",
       "      <td>CA</td>\n",
       "      <td>[https://www.montrosepress.com/news/residents-...</td>\n",
       "      <td>June 1; June 2:</td>\n",
       "      <td>around 100 protesters</td>\n",
       "    </tr>\n",
       "    <tr>\n",
       "      <th>428</th>\n",
       "      <td>Tinley Park</td>\n",
       "      <td>The Chicago suburb ordered a curfew on the nig...</td>\n",
       "      <td>IL</td>\n",
       "      <td>[https://www.nbcchicago.com/news/local/chicago...</td>\n",
       "      <td></td>\n",
       "      <td></td>\n",
       "    </tr>\n",
       "    <tr>\n",
       "      <th>375</th>\n",
       "      <td>Palm Beach (town)</td>\n",
       "      <td>On May 31, the Palm Beach Police Department i...</td>\n",
       "      <td>FL</td>\n",
       "      <td>[https://www.palmbeachpost.com/news/20200531/w...</td>\n",
       "      <td>May 31; Mar-A-Lago</td>\n",
       "      <td></td>\n",
       "    </tr>\n",
       "  </tbody>\n",
       "</table>\n",
       "</div>"
      ],
      "text/plain": [
       "                      city                                               text  \\\n",
       "138                Phoenix  Phoenix saw demonstrations for four straight n...   \n",
       "748           North Canton   About 50 people withstood a rainstorm and pro...   \n",
       "572           Grand Island  A group estimated at 300 people marched toward...   \n",
       "330              Greenwich  Several dozen protesters rallied near the Gree...   \n",
       "360             Palm Coast   On June 3, around 200 protesters peacefully p...   \n",
       "455             Mason City  May 31: About 30 people held signs along North...   \n",
       "153               Bay Area  Berkeley: 3,000-4,000 protesters marched in So...   \n",
       "235  La Crescenta-Montrose   June 1:  Around 20 protested at Demoret Park....   \n",
       "428            Tinley Park  The Chicago suburb ordered a curfew on the nig...   \n",
       "375      Palm Beach (town)   On May 31, the Palm Beach Police Department i...   \n",
       "\n",
       "    state                                         references  \\\n",
       "138    AZ  [https://www.azcentral.com/story/news/local/ph...   \n",
       "748    OH  [https://www.cantonrep.com/news/20200604/prote...   \n",
       "572    NE  [https://www.theindependent.com/news/local/clo...   \n",
       "330    CT  [https://www.greenwichtime.com/local/article/W...   \n",
       "360    FL  [https://www.news-journalonline.com/news/20200...   \n",
       "455    IA  [https://www.kimt.com/content/news/Protesters-...   \n",
       "153    CA  [https://www.berkeleyside.com/2020/06/06/thous...   \n",
       "235    CA  [https://www.montrosepress.com/news/residents-...   \n",
       "428    IL  [https://www.nbcchicago.com/news/local/chicago...   \n",
       "375    FL  [https://www.palmbeachpost.com/news/20200531/w...   \n",
       "\n",
       "                  dates               size_str  \n",
       "138              May 28               Hundreds  \n",
       "748              June 4        about 50 people  \n",
       "572        June 1, 2020                    300  \n",
       "330              June 1          Several dozen  \n",
       "360              June 3  around 200 protesters  \n",
       "455              May 31        about 30 people  \n",
       "153              June 6                  3,000  \n",
       "235     June 1; June 2:  around 100 protesters  \n",
       "428                                             \n",
       "375  May 31; Mar-A-Lago                         "
      ]
     },
     "execution_count": 10,
     "metadata": {},
     "output_type": "execute_result"
    }
   ],
   "source": [
    "wiki.sample(10)"
   ]
  },
  {
   "cell_type": "code",
   "execution_count": 11,
   "metadata": {},
   "outputs": [
    {
     "data": {
      "text/plain": [
       "May 31              136\n",
       "                    128\n",
       "May 30              128\n",
       "June 1               82\n",
       "June 2               55\n",
       "June 6               48\n",
       "June 3               44\n",
       "June 4               40\n",
       "May 29               38\n",
       "June 5               24\n",
       "June 7               15\n",
       "May 28               10\n",
       "May 31, 2020          8\n",
       "June 1, 2020          8\n",
       "Sunday, May 31        7\n",
       "June 3, 2020          6\n",
       "Saturday; May 30      5\n",
       "May 30, 2020          5\n",
       "June 8                4\n",
       "Friday; May 29        4\n",
       "Name: dates, dtype: int64"
      ]
     },
     "execution_count": 11,
     "metadata": {},
     "output_type": "execute_result"
    }
   ],
   "source": [
    "wiki['dates'].value_counts().head(20)"
   ]
  },
  {
   "cell_type": "code",
   "execution_count": 12,
   "metadata": {},
   "outputs": [],
   "source": [
    "def date_hack(date):\n",
    "    date = date.split('; ')[0]\n",
    "    if '2020' not in date:\n",
    "        return date + ', 2020'\n",
    "    return date"
   ]
  },
  {
   "cell_type": "code",
   "execution_count": 13,
   "metadata": {},
   "outputs": [],
   "source": [
    "wiki['date'] = pd.to_datetime(wiki['dates'].apply(date_hack), errors='coerce').dt.date"
   ]
  },
  {
   "cell_type": "code",
   "execution_count": 14,
   "metadata": {},
   "outputs": [],
   "source": [
    "size_words = {'hundreds' : 200,\n",
    "             'dozens' : 24,\n",
    "             'around 200 people': 200,\n",
    "             'over 100 people': 120,\n",
    "              'over 1,000 people' : 1200,\n",
    "              'around 1,000 people' : 1000,\n",
    "             'more than 100 people': 120,\n",
    "              'about 100 people' :100,\n",
    "              'over 100 people' :120,\n",
    "              'about 100 people' : 100,\n",
    "             'over 100 people': 120,\n",
    "              'around 80 people' :  80,\n",
    "              'over 100 people' : 120,\n",
    "              'around 300 people' : 300,\n",
    "              'more than 100 people' : 120,\n",
    "              'around 50 people' : 50,\n",
    "              'several hundred' : 200,\n",
    "              '300' : 300,\n",
    "              '500' : 500,\n",
    "              'over 200 people' : 220,\n",
    "              'around 50 people' : 50,\n",
    "              'hundred' : 100,\n",
    "              'more than 1,000 people' : 1200,\n",
    "             'thousands': 2000,\n",
    "              'around 100 people' : 100,\n",
    "              'around 400 people' : 400,\n",
    "              'around 400 people' : 400, \n",
    "              'around 100 people' : 100,\n",
    "              'more than 200 people' : 220,\n",
    "              'over 150 people' : 160,\n",
    "              '1,000' : 1000,\n",
    "              '200': 200,\n",
    "              'several dozen' :24,\n",
    "              'over 100 ' : 120,\n",
    "              'more than 500 people' : 550\n",
    "             }\n",
    "\n",
    "def size_convert(size_str):\n",
    "    size_str = size_str.lower()\n",
    "    size_str = size_str.replace('protesters', 'people')\n",
    "    size_str = size_str.replace('about', 'around')\n",
    "\n",
    "    for word in size_words:\n",
    "        if size_str.lower() == word:\n",
    "            return size_words[word]"
   ]
  },
  {
   "cell_type": "code",
   "execution_count": 15,
   "metadata": {},
   "outputs": [],
   "source": [
    "wiki['size'] = wiki['size_str'].apply(size_convert)"
   ]
  },
  {
   "cell_type": "code",
   "execution_count": 16,
   "metadata": {},
   "outputs": [
    {
     "data": {
      "text/plain": [
       "                            238\n",
       "One                           4\n",
       "about 150 protesters          4\n",
       "About 200                     3\n",
       "about 250 people              3\n",
       "8                             3\n",
       "Roughly 300                   3\n",
       "about 500 people              3\n",
       "over 100                      3\n",
       "at least 100 protesters       2\n",
       "about 30 people               2\n",
       "approximately 200 people      2\n",
       "More than 200                 2\n",
       "About 50 to 60                2\n",
       "nearly 100                    2\n",
       "more than 300 protesters      2\n",
       "over 300 people               2\n",
       "More than 1000                2\n",
       "more than 300 people          2\n",
       "12                            2\n",
       "Name: size_str, dtype: int64"
      ]
     },
     "execution_count": 16,
     "metadata": {},
     "output_type": "execute_result"
    }
   ],
   "source": [
    "wiki[wiki['size'].isna()]['size_str'].value_counts().head(20)"
   ]
  },
  {
   "cell_type": "code",
   "execution_count": 17,
   "metadata": {},
   "outputs": [
    {
     "data": {
      "text/plain": [
       "Index(['id', 'date', 'city_st', 'location', 'size', 'size_str', 'urls',\n",
       "       'collection'],\n",
       "      dtype='object')"
      ]
     },
     "execution_count": 17,
     "metadata": {},
     "output_type": "execute_result"
    }
   ],
   "source": [
    "cl_df = pd.read_csv(\"data/cl_blm.csv\")\n",
    "\n",
    "cl_df.keys()"
   ]
  },
  {
   "cell_type": "code",
   "execution_count": 18,
   "metadata": {},
   "outputs": [],
   "source": [
    "keep = ['date', 'city_st',  'size', 'size_str', 'urls',\n",
    "       'collection']"
   ]
  },
  {
   "cell_type": "code",
   "execution_count": 19,
   "metadata": {},
   "outputs": [],
   "source": [
    "wiki['collection'] = 'Wikipedia'"
   ]
  },
  {
   "cell_type": "code",
   "execution_count": 20,
   "metadata": {},
   "outputs": [],
   "source": [
    "wiki['city_st'] = wiki['city'] + ', ' + wiki['state']"
   ]
  },
  {
   "cell_type": "code",
   "execution_count": 21,
   "metadata": {},
   "outputs": [],
   "source": [
    "wiki['urls'] = wiki['references']"
   ]
  },
  {
   "cell_type": "code",
   "execution_count": 22,
   "metadata": {},
   "outputs": [],
   "source": [
    "wiki[keep].dropna(subset=['date']).to_csv('data/wiki_blm.csv')"
   ]
  },
  {
   "cell_type": "code",
   "execution_count": 23,
   "metadata": {},
   "outputs": [
    {
     "data": {
      "text/plain": [
       "CA             162\n",
       "NY              79\n",
       "PA              60\n",
       "VA              56\n",
       "NJ              46\n",
       "WA              39\n",
       "OH              36\n",
       "FL              35\n",
       "TX              35\n",
       "OR              31\n",
       "IL              29\n",
       "MI              26\n",
       "CT              25\n",
       "NC              23\n",
       "MA              20\n",
       "GA              18\n",
       "KS              15\n",
       "AL              14\n",
       "IN              12\n",
       "AK              12\n",
       "ME              11\n",
       "MN              11\n",
       "MD              11\n",
       "IA              11\n",
       "LA               9\n",
       "NH               9\n",
       "TN               9\n",
       "CO               9\n",
       "WI               9\n",
       "MT               9\n",
       "AR               8\n",
       "WY               8\n",
       "AZ               8\n",
       "WV               8\n",
       "NE               8\n",
       "KY               8\n",
       "ID               8\n",
       "NM               7\n",
       "VT               7\n",
       "DE               7\n",
       "SD               6\n",
       "Puerto Rico      6\n",
       "Chicago          6\n",
       "UT               5\n",
       "OK               5\n",
       "ND               5\n",
       "NV               4\n",
       "SC               4\n",
       "MS               4\n",
       "RI               4\n",
       "Name: state, dtype: int64"
      ]
     },
     "execution_count": 23,
     "metadata": {},
     "output_type": "execute_result"
    }
   ],
   "source": [
    "wiki['state'].value_counts().head(50)"
   ]
  },
  {
   "cell_type": "code",
   "execution_count": null,
   "metadata": {},
   "outputs": [],
   "source": []
  }
 ],
 "metadata": {
  "kernelspec": {
   "display_name": "Python 3",
   "language": "python",
   "name": "python3"
  },
  "language_info": {
   "codemirror_mode": {
    "name": "ipython",
    "version": 3
   },
   "file_extension": ".py",
   "mimetype": "text/x-python",
   "name": "python",
   "nbconvert_exporter": "python",
   "pygments_lexer": "ipython3",
   "version": "3.8.3"
  }
 },
 "nbformat": 4,
 "nbformat_minor": 4
}
