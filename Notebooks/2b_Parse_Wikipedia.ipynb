{
 "cells": [
  {
   "cell_type": "code",
   "execution_count": 24,
   "metadata": {},
   "outputs": [],
   "source": [
    "import pandas as pd\n",
    "# If we go w/ spaCy\n",
    "import spacy\n",
    "import re"
   ]
  },
  {
   "cell_type": "code",
   "execution_count": 25,
   "metadata": {},
   "outputs": [],
   "source": [
    "nlp = spacy.load(\"en_core_web_md\")"
   ]
  },
  {
   "cell_type": "code",
   "execution_count": 48,
   "metadata": {},
   "outputs": [],
   "source": [
    "wiki = pd.read_json('data/wiki_protest.json')"
   ]
  },
  {
   "cell_type": "code",
   "execution_count": 49,
   "metadata": {},
   "outputs": [
    {
     "name": "stdout",
     "output_type": "stream",
     "text": [
      "An estimated 1,000 CARDINAL\n",
      "May 31 DATE\n",
      "May 31 DATE\n",
      "the afternoon TIME\n",
      "May 29 DATE\n"
     ]
    }
   ],
   "source": [
    "# Maybe try entities?\n",
    "\n",
    "test = nlp(\"An estimated 1,000 people gathered on May 31 On May 31, a large crowd gathered peacefully On the afternoon of May 29, approximately 150\")\n",
    "\n",
    "for ent in test.ents:\n",
    "    print(ent.text, ent.label_)"
   ]
  },
  {
   "cell_type": "code",
   "execution_count": 50,
   "metadata": {},
   "outputs": [],
   "source": [
    "state_ab = pd.read_csv('data/state_ab.csv').set_index('State')['Code'].to_dict()\n",
    "state_ab['New York (state)'] = 'NY'\n",
    "state_ab['Washington (state)'] = 'WA'\n",
    "\n",
    "\n",
    "wiki.replace({'state': state_ab}, inplace = True)"
   ]
  },
  {
   "cell_type": "code",
   "execution_count": 51,
   "metadata": {},
   "outputs": [],
   "source": [
    "# function to get dates: \n",
    "\n",
    "def extract_dates(text):\n",
    "    dates = []\n",
    "    doc = nlp(text)\n",
    "    for ent in doc.ents:\n",
    "        if ent.label_=='DATE':\n",
    "            dates.append(ent.text)\n",
    "    return '; '.join(dates)"
   ]
  },
  {
   "cell_type": "code",
   "execution_count": 52,
   "metadata": {},
   "outputs": [],
   "source": [
    "wiki['dates'] = wiki['text'].apply(extract_dates)"
   ]
  },
  {
   "cell_type": "code",
   "execution_count": 53,
   "metadata": {},
   "outputs": [],
   "source": [
    "# function to get size: \n",
    "\n",
    "def extract_size(text):\n",
    "    s = text.lower()\n",
    "    for prefix in ['up to', 'more than','around','at least', 'about', 'approximately', 'over', 'almost']:\n",
    "        for suffix in ['protesters', 'people', 'town residents']:\n",
    "            h = re.findall('%s \\d+(?:,\\d+)? %s' % (prefix, suffix), s)\n",
    "            if len(h) > 0:\n",
    "                return h[0]\n",
    "    if 'hundreds of protesters' in s:\n",
    "        return 'hundreds'\n",
    "    if 'hundreds of people' in s:\n",
    "        return 'hundreds'\n",
    "    if 'few hundred people' in s:\n",
    "        return 'hundreds'\n",
    "    if 'few hundred people' in s:\n",
    "        return 'hundreds'\n",
    "    if 'hundreds of protestors' in s:\n",
    "        return 'hundreds'\n",
    "    if 'over a hundred' in s:\n",
    "        return 'hundred'\n",
    "\n",
    "    for d in ['dozens of protestors', 'few dozen' , 'at least a dozen']:\n",
    "        if d in s:\n",
    "            return d\n",
    "\n",
    "\n",
    "    size = []\n",
    "    doc = nlp(text)\n",
    "    for ent in doc.ents:\n",
    "        if ent.label_=='CARDINAL':\n",
    "            size.append(ent.text)\n",
    "    return ', '.join(size)"
   ]
  },
  {
   "cell_type": "code",
   "execution_count": 54,
   "metadata": {},
   "outputs": [],
   "source": [
    "wiki['size_str'] = wiki['text'].apply(extract_size)"
   ]
  },
  {
   "cell_type": "code",
   "execution_count": 55,
   "metadata": {},
   "outputs": [
    {
     "data": {
      "text/html": [
       "<div>\n",
       "<style scoped>\n",
       "    .dataframe tbody tr th:only-of-type {\n",
       "        vertical-align: middle;\n",
       "    }\n",
       "\n",
       "    .dataframe tbody tr th {\n",
       "        vertical-align: top;\n",
       "    }\n",
       "\n",
       "    .dataframe thead th {\n",
       "        text-align: right;\n",
       "    }\n",
       "</style>\n",
       "<table border=\"1\" class=\"dataframe\">\n",
       "  <thead>\n",
       "    <tr style=\"text-align: right;\">\n",
       "      <th></th>\n",
       "      <th>city</th>\n",
       "      <th>text</th>\n",
       "      <th>state</th>\n",
       "      <th>references</th>\n",
       "      <th>dates</th>\n",
       "      <th>size_str</th>\n",
       "    </tr>\n",
       "  </thead>\n",
       "  <tbody>\n",
       "    <tr>\n",
       "      <th>250</th>\n",
       "      <td>Pasadena</td>\n",
       "      <td>On May 30, 2020 6: 30pm Protesters gathered a...</td>\n",
       "      <td>CA</td>\n",
       "      <td>[https://www.pasadenanow.com/main/demonstrator...</td>\n",
       "      <td>May 30; 2020 6</td>\n",
       "      <td></td>\n",
       "    </tr>\n",
       "    <tr>\n",
       "      <th>608</th>\n",
       "      <td>Millville</td>\n",
       "      <td>On May 30, nearly 75 demonstrators gathered ne...</td>\n",
       "      <td>NJ</td>\n",
       "      <td>[https://www.nj.com/hudson/2020/06/bayonne-pro...</td>\n",
       "      <td>May 30</td>\n",
       "      <td>nearly 75</td>\n",
       "    </tr>\n",
       "    <tr>\n",
       "      <th>33</th>\n",
       "      <td>St. Louis</td>\n",
       "      <td>On May 30, around 1,500 protesters marched do...</td>\n",
       "      <td>St. Louis</td>\n",
       "      <td>[https://www.kmov.com/news/demonstrators-march...</td>\n",
       "      <td>May 30</td>\n",
       "      <td>around 1,500 protesters</td>\n",
       "    </tr>\n",
       "    <tr>\n",
       "      <th>280</th>\n",
       "      <td>Hemet</td>\n",
       "      <td>May 31:  A protest happened at the Hemet Vall...</td>\n",
       "      <td>CA</td>\n",
       "      <td>[https://myvalleynews.com/hemet-protests-turn-...</td>\n",
       "      <td>May 31</td>\n",
       "      <td>hundreds</td>\n",
       "    </tr>\n",
       "    <tr>\n",
       "      <th>628</th>\n",
       "      <td>Hudson Valley</td>\n",
       "      <td>A boy holds a sign at a protest in Monroe, NY ...</td>\n",
       "      <td>NY</td>\n",
       "      <td>[https://wnyt.com/albany-new-york-news/rally-p...</td>\n",
       "      <td>May 30</td>\n",
       "      <td></td>\n",
       "    </tr>\n",
       "    <tr>\n",
       "      <th>928</th>\n",
       "      <td>Manassas</td>\n",
       "      <td>On May 30, several hundred protesters gathere...</td>\n",
       "      <td>VA</td>\n",
       "      <td>[https://www.princewilliamtimes.com/news/updat...</td>\n",
       "      <td>May 30</td>\n",
       "      <td>several hundred</td>\n",
       "    </tr>\n",
       "    <tr>\n",
       "      <th>818</th>\n",
       "      <td>Philadelphia</td>\n",
       "      <td>\\nMain article:  George Floyd protests in Phil...</td>\n",
       "      <td>PA</td>\n",
       "      <td>[]</td>\n",
       "      <td></td>\n",
       "      <td></td>\n",
       "    </tr>\n",
       "    <tr>\n",
       "      <th>228</th>\n",
       "      <td>Cerritos</td>\n",
       "      <td>June 1:  Hundreds protested at Gridley Park a...</td>\n",
       "      <td>CA</td>\n",
       "      <td>[http://lmlamplighter.com/hundreds-attend-floy...</td>\n",
       "      <td>June 1</td>\n",
       "      <td>Hundreds</td>\n",
       "    </tr>\n",
       "    <tr>\n",
       "      <th>190</th>\n",
       "      <td>Willits</td>\n",
       "      <td>There were protests in Willits.\\nBay Area</td>\n",
       "      <td>CA</td>\n",
       "      <td>[https://www.willitsnews.com/2020/06/01/willit...</td>\n",
       "      <td></td>\n",
       "      <td></td>\n",
       "    </tr>\n",
       "    <tr>\n",
       "      <th>407</th>\n",
       "      <td>Bloomington</td>\n",
       "      <td>On May 29, a group of around 10 to 15 proteste...</td>\n",
       "      <td>IL</td>\n",
       "      <td>[https://week.com/2020/05/29/protesters-agains...</td>\n",
       "      <td>May 29</td>\n",
       "      <td>around 10 to 15</td>\n",
       "    </tr>\n",
       "  </tbody>\n",
       "</table>\n",
       "</div>"
      ],
      "text/plain": [
       "              city                                               text  \\\n",
       "250       Pasadena   On May 30, 2020 6: 30pm Protesters gathered a...   \n",
       "608      Millville  On May 30, nearly 75 demonstrators gathered ne...   \n",
       "33       St. Louis   On May 30, around 1,500 protesters marched do...   \n",
       "280          Hemet   May 31:  A protest happened at the Hemet Vall...   \n",
       "628  Hudson Valley  A boy holds a sign at a protest in Monroe, NY ...   \n",
       "928       Manassas   On May 30, several hundred protesters gathere...   \n",
       "818   Philadelphia  \\nMain article:  George Floyd protests in Phil...   \n",
       "228       Cerritos   June 1:  Hundreds protested at Gridley Park a...   \n",
       "190        Willits          There were protests in Willits.\\nBay Area   \n",
       "407    Bloomington  On May 29, a group of around 10 to 15 proteste...   \n",
       "\n",
       "         state                                         references  \\\n",
       "250         CA  [https://www.pasadenanow.com/main/demonstrator...   \n",
       "608         NJ  [https://www.nj.com/hudson/2020/06/bayonne-pro...   \n",
       "33   St. Louis  [https://www.kmov.com/news/demonstrators-march...   \n",
       "280         CA  [https://myvalleynews.com/hemet-protests-turn-...   \n",
       "628         NY  [https://wnyt.com/albany-new-york-news/rally-p...   \n",
       "928         VA  [https://www.princewilliamtimes.com/news/updat...   \n",
       "818         PA                                                 []   \n",
       "228         CA  [http://lmlamplighter.com/hundreds-attend-floy...   \n",
       "190         CA  [https://www.willitsnews.com/2020/06/01/willit...   \n",
       "407         IL  [https://week.com/2020/05/29/protesters-agains...   \n",
       "\n",
       "              dates                 size_str  \n",
       "250  May 30; 2020 6                           \n",
       "608          May 30                nearly 75  \n",
       "33           May 30  around 1,500 protesters  \n",
       "280          May 31                 hundreds  \n",
       "628          May 30                           \n",
       "928          May 30          several hundred  \n",
       "818                                           \n",
       "228          June 1                 Hundreds  \n",
       "190                                           \n",
       "407          May 29          around 10 to 15  "
      ]
     },
     "execution_count": 55,
     "metadata": {},
     "output_type": "execute_result"
    }
   ],
   "source": [
    "wiki.sample(10)"
   ]
  },
  {
   "cell_type": "code",
   "execution_count": 56,
   "metadata": {},
   "outputs": [
    {
     "data": {
      "text/plain": [
       "May 31              133\n",
       "May 30              129\n",
       "                    118\n",
       "June 1               82\n",
       "June 2               55\n",
       "June 6               46\n",
       "June 3               45\n",
       "June 4               40\n",
       "May 29               39\n",
       "June 5               24\n",
       "June 7               16\n",
       "May 28               10\n",
       "May 31, 2020          8\n",
       "June 1, 2020          8\n",
       "Sunday, May 31        7\n",
       "June 3, 2020          6\n",
       "May 30, 2020          5\n",
       "Saturday; May 30      5\n",
       "June 8                4\n",
       "Saturday              4\n",
       "Name: dates, dtype: int64"
      ]
     },
     "execution_count": 56,
     "metadata": {},
     "output_type": "execute_result"
    }
   ],
   "source": [
    "wiki['dates'].value_counts().head(20)"
   ]
  },
  {
   "cell_type": "code",
   "execution_count": 57,
   "metadata": {},
   "outputs": [],
   "source": [
    "def date_hack(date):\n",
    "    date = date.split('; ')[0]\n",
    "    if '2020' not in date:\n",
    "        return date + ', 2020'\n",
    "    return date"
   ]
  },
  {
   "cell_type": "code",
   "execution_count": 58,
   "metadata": {},
   "outputs": [],
   "source": [
    "wiki['date'] = pd.to_datetime(wiki['dates'].apply(date_hack), errors='coerce').dt.date"
   ]
  },
  {
   "cell_type": "code",
   "execution_count": 59,
   "metadata": {},
   "outputs": [],
   "source": [
    "size_words = {'hundreds' : 200,\n",
    "             'dozens' : 24,\n",
    "             'around 200 people': 200,\n",
    "             'over 100 people': 120,\n",
    "              'over 1,000 people' : 1200,\n",
    "              'around 1,000 people' : 1000,\n",
    "             'more than 100 people': 120,\n",
    "              'about 100 people' :100,\n",
    "              'over 100 people' :120,\n",
    "              'about 100 people' : 100,\n",
    "             'over 100 people': 120,\n",
    "              'around 80 people' :  80,\n",
    "              'over 100 people' : 120,\n",
    "              'around 300 people' : 300,\n",
    "              'more than 100 people' : 120,\n",
    "              'around 50 people' : 50,\n",
    "              'several hundred' : 200,\n",
    "              '300' : 300,\n",
    "              '500' : 500,\n",
    "              'over 200 people' : 220,\n",
    "              'around 50 people' : 50,\n",
    "              'hundred' : 100,\n",
    "              'more than 1,000 people' : 1200,\n",
    "             'thousands': 2000,\n",
    "              'around 100 people' : 100,\n",
    "              'around 400 people' : 400,\n",
    "              'around 400 people' : 400, \n",
    "              'around 100 people' : 100,\n",
    "              'more than 200 people' : 220,\n",
    "              'over 150 people' : 160,\n",
    "              '1,000' : 1000,\n",
    "              '200': 200,\n",
    "              'several dozen' :24,\n",
    "              'over 100 ' : 120,\n",
    "              'more than 500 people' : 550\n",
    "             }\n",
    "\n",
    "def size_convert(size_str):\n",
    "    size_str = size_str.lower()\n",
    "    size_str = size_str.replace('protesters', 'people')\n",
    "    size_str = size_str.replace('about', 'around')\n",
    "\n",
    "    for word in size_words:\n",
    "        if size_str.lower() == word:\n",
    "            return size_words[word]"
   ]
  },
  {
   "cell_type": "code",
   "execution_count": 60,
   "metadata": {},
   "outputs": [],
   "source": [
    "wiki['size'] = wiki['size_str'].apply(size_convert)"
   ]
  },
  {
   "cell_type": "code",
   "execution_count": 61,
   "metadata": {},
   "outputs": [
    {
     "data": {
      "text/plain": [
       "                            234\n",
       "One                           4\n",
       "8                             3\n",
       "over 300 people               3\n",
       "over 100                      3\n",
       "about 250 people              3\n",
       "Roughly 300                   3\n",
       "About 200                     3\n",
       "Roughly 15                    2\n",
       "More than 150                 2\n",
       "approximately 150 people      2\n",
       "100                           2\n",
       "3,000                         2\n",
       "70 to 100                     2\n",
       "about 30 people               2\n",
       "over 150                      2\n",
       "A few hundred                 2\n",
       "approximately 100 people      2\n",
       "around 500 people             2\n",
       "about 40 protesters           2\n",
       "Name: size_str, dtype: int64"
      ]
     },
     "execution_count": 61,
     "metadata": {},
     "output_type": "execute_result"
    }
   ],
   "source": [
    "wiki[wiki['size'].isna()]['size_str'].value_counts().head(20)"
   ]
  },
  {
   "cell_type": "code",
   "execution_count": 62,
   "metadata": {},
   "outputs": [
    {
     "data": {
      "text/plain": [
       "Index(['id', 'date', 'city_st', 'location', 'size', 'size_str', 'urls',\n",
       "       'collection'],\n",
       "      dtype='object')"
      ]
     },
     "execution_count": 62,
     "metadata": {},
     "output_type": "execute_result"
    }
   ],
   "source": [
    "cl_df = pd.read_csv(\"data/cl_blm.csv\")\n",
    "\n",
    "cl_df.keys()"
   ]
  },
  {
   "cell_type": "code",
   "execution_count": 63,
   "metadata": {},
   "outputs": [],
   "source": [
    "keep = ['date', 'city_st',  'size', 'size_str', 'urls',\n",
    "       'collection']"
   ]
  },
  {
   "cell_type": "code",
   "execution_count": 64,
   "metadata": {},
   "outputs": [],
   "source": [
    "wiki['collection'] = 'Wikipedia'"
   ]
  },
  {
   "cell_type": "code",
   "execution_count": 65,
   "metadata": {},
   "outputs": [],
   "source": [
    "wiki['city_st'] = wiki['city'] + ', ' + wiki['state']"
   ]
  },
  {
   "cell_type": "code",
   "execution_count": 66,
   "metadata": {},
   "outputs": [],
   "source": [
    "wiki['urls'] = wiki['references']"
   ]
  },
  {
   "cell_type": "code",
   "execution_count": 67,
   "metadata": {},
   "outputs": [],
   "source": [
    "wiki[keep].dropna(subset=['date']).to_csv('data/wiki_blm.csv')"
   ]
  },
  {
   "cell_type": "code",
   "execution_count": 68,
   "metadata": {},
   "outputs": [
    {
     "data": {
      "text/plain": [
       "CA             159\n",
       "PA              60\n",
       "NY              59\n",
       "VA              56\n",
       "NJ              46\n",
       "WA              39\n",
       "OH              36\n",
       "FL              35\n",
       "TX              35\n",
       "OR              31\n",
       "IL              29\n",
       "MI              26\n",
       "CT              25\n",
       "MA              20\n",
       "NC              20\n",
       "GA              18\n",
       "KS              15\n",
       "AL              14\n",
       "IN              12\n",
       "AK              12\n",
       "IA              11\n",
       "ME              11\n",
       "MN              11\n",
       "MD              11\n",
       "LA               9\n",
       "MT               9\n",
       "CO               9\n",
       "TN               9\n",
       "WI               9\n",
       "NH               9\n",
       "AR               8\n",
       "NE               8\n",
       "ID               8\n",
       "KY               8\n",
       "AZ               8\n",
       "MO               8\n",
       "WY               7\n",
       "NM               7\n",
       "DE               7\n",
       "VT               7\n",
       "Chicago          6\n",
       "SD               6\n",
       "Puerto Rico      6\n",
       "WV               6\n",
       "OK               5\n",
       "UT               5\n",
       "ND               5\n",
       "NV               4\n",
       "SC               4\n",
       "MS               4\n",
       "Name: state, dtype: int64"
      ]
     },
     "execution_count": 68,
     "metadata": {},
     "output_type": "execute_result"
    }
   ],
   "source": [
    "wiki['state'].value_counts().head(50)"
   ]
  },
  {
   "cell_type": "code",
   "execution_count": null,
   "metadata": {},
   "outputs": [],
   "source": []
  }
 ],
 "metadata": {
  "kernelspec": {
   "display_name": "Python 3",
   "language": "python",
   "name": "python3"
  },
  "language_info": {
   "codemirror_mode": {
    "name": "ipython",
    "version": 3
   },
   "file_extension": ".py",
   "mimetype": "text/x-python",
   "name": "python",
   "nbconvert_exporter": "python",
   "pygments_lexer": "ipython3",
   "version": "3.8.3"
  }
 },
 "nbformat": 4,
 "nbformat_minor": 4
}
