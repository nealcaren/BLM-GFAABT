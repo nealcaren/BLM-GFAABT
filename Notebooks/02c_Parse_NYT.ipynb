{
 "cells": [
  {
   "cell_type": "code",
   "execution_count": 148,
   "metadata": {},
   "outputs": [],
   "source": [
    "import ast\n",
    "import pandas as pd"
   ]
  },
  {
   "cell_type": "code",
   "execution_count": 149,
   "metadata": {},
   "outputs": [],
   "source": [
    "with open('data/nytimes_events.txt' ,'r') as infile:\n",
    "    nyt = infile.read()"
   ]
  },
  {
   "cell_type": "code",
   "execution_count": 150,
   "metadata": {},
   "outputs": [],
   "source": [
    "nyt_protest = nyt.split('var NYTG_guards')[0]"
   ]
  },
  {
   "cell_type": "code",
   "execution_count": 151,
   "metadata": {},
   "outputs": [],
   "source": [
    "x = ast.literal_eval(nyt_protest)"
   ]
  },
  {
   "cell_type": "code",
   "execution_count": 152,
   "metadata": {},
   "outputs": [],
   "source": [
    "nyt_df = pd.DataFrame(x)"
   ]
  },
  {
   "cell_type": "code",
   "execution_count": 153,
   "metadata": {},
   "outputs": [],
   "source": [
    "keep = ['date', 'city_st', 'urls', 'collection']"
   ]
  },
  {
   "cell_type": "code",
   "execution_count": 154,
   "metadata": {},
   "outputs": [],
   "source": [
    "nyt_df['city_st'] = nyt_df['cityst'].str[:-2] + ', ' + nyt_df['cityst'].str[-2:] \n",
    "nyt_df['collection'] = 'New York Times'\n",
    "nyt_df['urls'] = nyt_df['srclinks'].str.split()"
   ]
  },
  {
   "cell_type": "code",
   "execution_count": 155,
   "metadata": {},
   "outputs": [],
   "source": [
    "dates = {'Tue May 26': '05/26/2020',\n",
    "         'Wed May 27': '05/27/2020',\n",
    "         'Thu May 28': '05/28/2020',\n",
    "         'Fri May 29': '05/29/2020',\n",
    "         'Sat May 30': '05/30/2020',\n",
    "         'Sun May 31': '05/31/2020',\n",
    "         'Mon Jun 1': '06/01/2020',\n",
    "         'Tue Jun 2': '06/02/2020',\n",
    "         'Wed Jun 3': '06/03/2020',\n",
    "         'Thu Jun 4': '06/04/2020',\n",
    "         'Fri Jun 5' : '06/05/2020',\n",
    "         'Sat Jun 6' : '06/06/2020',\n",
    "         'Sun Jun 7' : '06/07/2020',\n",
    "        'Mon Jun 8' : '06/08/2020'}\n",
    "\n",
    "slices = []\n",
    "for date in dates:\n",
    "    df_slice = nyt_df[nyt_df[date] == '1'].copy()\n",
    "    df_slice['date'] = dates[date]\n",
    "    \n",
    "    slices.append(df_slice)\n",
    "    \n",
    "df_long = pd.concat(slices)"
   ]
  },
  {
   "cell_type": "code",
   "execution_count": 157,
   "metadata": {},
   "outputs": [],
   "source": [
    "df_long[keep].to_csv('data/nytimes_blm.csv', index=False)"
   ]
  },
  {
   "cell_type": "code",
   "execution_count": null,
   "metadata": {},
   "outputs": [],
   "source": []
  }
 ],
 "metadata": {
  "kernelspec": {
   "display_name": "Python 3",
   "language": "python",
   "name": "python3"
  },
  "language_info": {
   "codemirror_mode": {
    "name": "ipython",
    "version": 3
   },
   "file_extension": ".py",
   "mimetype": "text/x-python",
   "name": "python",
   "nbconvert_exporter": "python",
   "pygments_lexer": "ipython3",
   "version": "3.8.3"
  }
 },
 "nbformat": 4,
 "nbformat_minor": 4
}
