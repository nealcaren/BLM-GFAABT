{
 "cells": [
  {
   "cell_type": "code",
   "execution_count": 1,
   "metadata": {},
   "outputs": [],
   "source": [
    "%load_ext blackcellmagic\n",
    "\n",
    "import requests\n",
    "import pandas as pd\n",
    "import re\n",
    "from time import sleep\n"
   ]
  },
  {
   "cell_type": "code",
   "execution_count": 2,
   "metadata": {},
   "outputs": [],
   "source": [
    "url = \"https://elephrame.com/gather\"\n",
    "payload = {\"page\": 5, \"contentType\": \"blm\", \"search\": \"\"}\n",
    "\n",
    "header = {\n",
    "    \"Content-Type\": \"application/x-www-form-urlencoded; charset=UTF-8\",\n",
    "    \"Referer\": \"https://elephrame.com/textbook/BLM\",\n",
    "    \"Accept\": \"text/html, */*; q=0.01\",\n",
    "    \"User-Agent\": (\n",
    "        \"Mozilla/5.0 (Macintosh; Intel Mac OS X 10_12) \"\n",
    "        \"AppleWebKit/602.1.50 (KHTML, like Gecko) \"\n",
    "        \"Version/10.0 Safari/602.1.50\"\n",
    "    ),\n",
    "    \"Origin\": \"https://elephrame.com\",\n",
    "}"
   ]
  },
  {
   "cell_type": "code",
   "execution_count": 3,
   "metadata": {},
   "outputs": [],
   "source": [
    "def scrape_elephrame(html):\n",
    "    events = []\n",
    "    for section in html.split('item-chart-header\"')[1:]:\n",
    "        id_no =    \"\".join(re.findall('id=\"(.*?)\"', section))\n",
    "        location = \"\".join(re.findall('item-protest-location\">(.*?)<', section))\n",
    "        size = \"\".join(re.findall(\"Participant\\(s\\):</b> (.*?)<\", section))\n",
    "        date = \"\".join(re.findall('protest-start\">.*?, (.*?)<', section))\n",
    "        time = \"\".join(re.findall(\"<b>Time:<\\/b>(.*?)<\\/li\", section, re.DOTALL))\n",
    "        description = \"\".join(\n",
    "            re.findall(\"<b>Description:<\\/b>(.*?)<\\/li\", section, re.DOTALL)\n",
    "        )\n",
    "        subject = \"\".join(re.findall(\"Subject.*?>(.*?)<\", section))\n",
    "        links = re.findall('href=\"(.*?)\"', section)\n",
    "        events.append((id_no, location, size, date, subject, description, time, links))\n",
    "    new_df = pd.DataFrame(\n",
    "        events,\n",
    "        columns=[\"ID\", \"Location\", \"Size\", \"Date\", \"Subject\", \"Description\", \"Time\", \"Links\"],\n",
    "    )\n",
    "    return new_df"
   ]
  },
  {
   "cell_type": "code",
   "execution_count": 4,
   "metadata": {},
   "outputs": [],
   "source": [
    "dfs = []\n",
    "\n",
    "for page in range(0, 40):\n",
    "    payload[\"page\"] = page\n",
    "    r = requests.post(url, data=payload, headers=header)\n",
    "    html = r.text\n",
    "    new_df = scrape_elephrame(html)\n",
    "    dfs.append(new_df)\n",
    "    sleep(3)"
   ]
  },
  {
   "cell_type": "code",
   "execution_count": 5,
   "metadata": {},
   "outputs": [],
   "source": [
    "ele_df = pd.concat(dfs)"
   ]
  },
  {
   "cell_type": "code",
   "execution_count": 6,
   "metadata": {},
   "outputs": [],
   "source": [
    "ele_df['Collection'] = 'Elephrame'"
   ]
  },
  {
   "cell_type": "code",
   "execution_count": 7,
   "metadata": {},
   "outputs": [
    {
     "data": {
      "text/html": [
       "<div>\n",
       "<style scoped>\n",
       "    .dataframe tbody tr th:only-of-type {\n",
       "        vertical-align: middle;\n",
       "    }\n",
       "\n",
       "    .dataframe tbody tr th {\n",
       "        vertical-align: top;\n",
       "    }\n",
       "\n",
       "    .dataframe thead th {\n",
       "        text-align: right;\n",
       "    }\n",
       "</style>\n",
       "<table border=\"1\" class=\"dataframe\">\n",
       "  <thead>\n",
       "    <tr style=\"text-align: right;\">\n",
       "      <th></th>\n",
       "      <th>ID</th>\n",
       "      <th>Location</th>\n",
       "      <th>Size</th>\n",
       "      <th>Date</th>\n",
       "      <th>Subject</th>\n",
       "      <th>Description</th>\n",
       "      <th>Time</th>\n",
       "      <th>Links</th>\n",
       "      <th>Collection</th>\n",
       "    </tr>\n",
       "  </thead>\n",
       "  <tbody>\n",
       "    <tr>\n",
       "      <th>2</th>\n",
       "      <td>3278</td>\n",
       "      <td>Newark, NJ</td>\n",
       "      <td>Unclear # of demonstrators</td>\n",
       "      <td>June 2, 2020</td>\n",
       "      <td>George Floyd, Breonna Taylor, Ahmaud Arbery, ...</td>\n",
       "      <td>Rally at Courthouse Square, ended in dance party</td>\n",
       "      <td>Evening</td>\n",
       "      <td>[https://www.newarkadvocate.com/picture-galler...</td>\n",
       "      <td>Elephrame</td>\n",
       "    </tr>\n",
       "    <tr>\n",
       "      <th>1</th>\n",
       "      <td>3008</td>\n",
       "      <td>Newark, NJ</td>\n",
       "      <td>Hundreds (est.) demonstrators</td>\n",
       "      <td>May 30, 2020</td>\n",
       "      <td>George Floyd, Breonna Taylor, Ahmaud Arbery, ...</td>\n",
       "      <td>March from &amp; back to rally at Lincoln Monument</td>\n",
       "      <td>Afternoon</td>\n",
       "      <td>[https://www.nj.com/news/2020/05/george-floyd-...</td>\n",
       "      <td>Elephrame</td>\n",
       "    </tr>\n",
       "    <tr>\n",
       "      <th>4</th>\n",
       "      <td>3223</td>\n",
       "      <td>Seattle, WA</td>\n",
       "      <td>1000 demonstrators</td>\n",
       "      <td>June 2, 2020</td>\n",
       "      <td>George Floyd, Breonna Taylor, Ahmaud Arbery, ...</td>\n",
       "      <td>At Emergency Operations Center for Mayor Jenn...</td>\n",
       "      <td>Afternoon</td>\n",
       "      <td>[https://mynorthwest.com/1910069/live-updates-...</td>\n",
       "      <td>Elephrame</td>\n",
       "    </tr>\n",
       "  </tbody>\n",
       "</table>\n",
       "</div>"
      ],
      "text/plain": [
       "     ID     Location                           Size          Date  \\\n",
       "2  3278   Newark, NJ     Unclear # of demonstrators  June 2, 2020   \n",
       "1  3008   Newark, NJ  Hundreds (est.) demonstrators  May 30, 2020   \n",
       "4  3223  Seattle, WA             1000 demonstrators  June 2, 2020   \n",
       "\n",
       "                                             Subject  \\\n",
       "2   George Floyd, Breonna Taylor, Ahmaud Arbery, ...   \n",
       "1   George Floyd, Breonna Taylor, Ahmaud Arbery, ...   \n",
       "4   George Floyd, Breonna Taylor, Ahmaud Arbery, ...   \n",
       "\n",
       "                                         Description        Time  \\\n",
       "2   Rally at Courthouse Square, ended in dance party     Evening   \n",
       "1     March from & back to rally at Lincoln Monument   Afternoon   \n",
       "4   At Emergency Operations Center for Mayor Jenn...   Afternoon   \n",
       "\n",
       "                                               Links Collection  \n",
       "2  [https://www.newarkadvocate.com/picture-galler...  Elephrame  \n",
       "1  [https://www.nj.com/news/2020/05/george-floyd-...  Elephrame  \n",
       "4  [https://mynorthwest.com/1910069/live-updates-...  Elephrame  "
      ]
     },
     "execution_count": 7,
     "metadata": {},
     "output_type": "execute_result"
    }
   ],
   "source": [
    "ele_df.sample(3)"
   ]
  },
  {
   "cell_type": "code",
   "execution_count": 8,
   "metadata": {},
   "outputs": [],
   "source": [
    "ele_df.to_csv('data/Elephrame.csv', index=False)"
   ]
  },
  {
   "cell_type": "code",
   "execution_count": null,
   "metadata": {},
   "outputs": [],
   "source": []
  }
 ],
 "metadata": {
  "kernelspec": {
   "display_name": "Python 3",
   "language": "python",
   "name": "python3"
  },
  "language_info": {
   "codemirror_mode": {
    "name": "ipython",
    "version": 3
   },
   "file_extension": ".py",
   "mimetype": "text/x-python",
   "name": "python",
   "nbconvert_exporter": "python",
   "pygments_lexer": "ipython3",
   "version": "3.8.3"
  }
 },
 "nbformat": 4,
 "nbformat_minor": 2
}
