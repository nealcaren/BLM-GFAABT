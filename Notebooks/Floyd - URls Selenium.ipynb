{
 "cells": [
  {
   "cell_type": "code",
   "execution_count": 1,
   "metadata": {},
   "outputs": [],
   "source": [
    "%load_ext blackcellmagic\n",
    "\n",
    "\n",
    "import requests\n",
    "import pandas as pd\n",
    "from time import sleep\n",
    "import os \n",
    "from slugify import slugify\n",
    "import ast\n",
    "from random import shuffle\n",
    "\n",
    "# from requests_html import HTML\n",
    "from selenium import webdriver\n",
    "from selenium.common.exceptions import TimeoutException, WebDriverException\n",
    "import openpyxl\n",
    "import pandas as pd\n",
    "from slugify import slugify\n",
    "from glob import glob\n",
    "\n",
    "from time import sleep\n"
   ]
  },
  {
   "cell_type": "code",
   "execution_count": 2,
   "metadata": {},
   "outputs": [],
   "source": [
    "#os.mkdir('blm-html')"
   ]
  },
  {
   "cell_type": "code",
   "execution_count": 3,
   "metadata": {},
   "outputs": [],
   "source": [
    "def start_driver():\n",
    "    try:\n",
    "        driver.close()\n",
    "    except:\n",
    "        pass\n",
    "    \n",
    "    driver = webdriver.Chrome('/Users/nealcaren/Downloads/chromedriver') \n",
    "    return driver"
   ]
  },
  {
   "cell_type": "code",
   "execution_count": 4,
   "metadata": {},
   "outputs": [],
   "source": [
    "def confirm_file(url):\n",
    "    \"\"\"Attempt to open a file based on the url.\"\"\"\n",
    "    location = locate(url)\n",
    "\n",
    "    with open(location, \"r\") as infile:\n",
    "        html = infile.read()\n",
    "\n",
    "def locate(url):\n",
    "    \"\"\"Create file name and place in directory\"\"\"\n",
    "    file_name = slugify(url)[:250]\n",
    "    location = os.path.join(\"blm-html\", file_name)\n",
    "    return location\n",
    "\n",
    "\n",
    "def get_html(driver, url='http:asdfasdf'):\n",
    "    \"\"\"Download & save ave html text using the url to create the filename.\"\"\"\n",
    "    #sleep(3)\n",
    "    #r = requests.get(url)\n",
    "    try:\n",
    "            driver.get(url)\n",
    "            html = driver.page_source\n",
    "    except (OSError, WebDriverException):\n",
    "        print(\"Problem with\", url)    \n",
    "        return\n",
    "        \n",
    "    except (TimeoutException):\n",
    "        html = driver.page_source\n",
    "         \n",
    "        \n",
    "    \n",
    "    location = locate(url)\n",
    "    with open(location, \"w\") as outfile:\n",
    "        outfile.write(html)\n",
    "\n",
    "\n"
   ]
  },
  {
   "cell_type": "code",
   "execution_count": 5,
   "metadata": {},
   "outputs": [],
   "source": [
    "df = pd.read_csv('https://raw.githubusercontent.com/nealcaren/BLM-GFAABT/master/BLM-GFAABT.csv')"
   ]
  },
  {
   "cell_type": "code",
   "execution_count": 6,
   "metadata": {},
   "outputs": [],
   "source": [
    "def str_2_list(links):\n",
    "    try:\n",
    "        return ast.literal_eval(links)\n",
    "    except:\n",
    "        return links\n",
    "\n",
    "df['urls'] = df['urls'].apply(str_2_list)"
   ]
  },
  {
   "cell_type": "code",
   "execution_count": 7,
   "metadata": {},
   "outputs": [],
   "source": [
    "urls = list(set([item for sublist in df['urls'].values for item in sublist]))\n",
    "shuffle(urls)"
   ]
  },
  {
   "cell_type": "code",
   "execution_count": 8,
   "metadata": {},
   "outputs": [
    {
     "data": {
      "text/plain": [
       "7777"
      ]
     },
     "metadata": {},
     "output_type": "display_data"
    }
   ],
   "source": [
    "def good(url):\n",
    "    if 'twitter.com' in url:\n",
    "        return False\n",
    "    elif 'facebook.com' in url:\n",
    "        return False\n",
    "    return True\n",
    "\n",
    "urls = [u for u in urls if good(u) == True]\n",
    "display(len(urls))\n",
    "shuffle(urls)"
   ]
  },
  {
   "cell_type": "code",
   "execution_count": 9,
   "metadata": {},
   "outputs": [],
   "source": [
    "shuffle(urls)\n",
    "\n",
    "to_get = []\n",
    "for url in urls:    \n",
    "    try:\n",
    "        confirm_file(url)\n",
    "    except (FileNotFoundError):\n",
    "        to_get.append(url)\n",
    "        \n",
    "        "
   ]
  },
  {
   "cell_type": "code",
   "execution_count": 10,
   "metadata": {},
   "outputs": [
    {
     "data": {
      "text/plain": [
       "4"
      ]
     },
     "execution_count": 10,
     "metadata": {},
     "output_type": "execute_result"
    }
   ],
   "source": [
    "len(to_get)"
   ]
  },
  {
   "cell_type": "code",
   "execution_count": 12,
   "metadata": {},
   "outputs": [],
   "source": [
    "shuffle(to_get)\n",
    "\n",
    "\n",
    "driver = start_driver()\n",
    "\n",
    "\n",
    "for url in to_get:  \n",
    "    url = url.replace('https;','https:')\n",
    "    try:\n",
    "        confirm_file(url)\n",
    "    except (FileNotFoundError):\n",
    "        get_html(driver, url)\n",
    "        \n",
    "        "
   ]
  },
  {
   "cell_type": "code",
   "execution_count": null,
   "metadata": {},
   "outputs": [],
   "source": []
  }
 ],
 "metadata": {
  "kernelspec": {
   "display_name": "Python 3",
   "language": "python",
   "name": "python3"
  },
  "language_info": {
   "codemirror_mode": {
    "name": "ipython",
    "version": 3
   },
   "file_extension": ".py",
   "mimetype": "text/x-python",
   "name": "python",
   "nbconvert_exporter": "python",
   "pygments_lexer": "ipython3",
   "version": "3.8.3"
  }
 },
 "nbformat": 4,
 "nbformat_minor": 4
}
