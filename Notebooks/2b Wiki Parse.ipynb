{
 "cells": [
  {
   "cell_type": "code",
   "execution_count": 129,
   "metadata": {},
   "outputs": [],
   "source": [
    "import pandas as pd\n",
    "# If we go w/ spaCy\n",
    "import spacy\n",
    "import re"
   ]
  },
  {
   "cell_type": "code",
   "execution_count": 130,
   "metadata": {},
   "outputs": [],
   "source": [
    "nlp = spacy.load(\"en_core_web_md\")"
   ]
  },
  {
   "cell_type": "code",
   "execution_count": 131,
   "metadata": {},
   "outputs": [],
   "source": [
    "wiki = pd.read_json('data/wiki_protest.json')"
   ]
  },
  {
   "cell_type": "code",
   "execution_count": 132,
   "metadata": {},
   "outputs": [
    {
     "name": "stdout",
     "output_type": "stream",
     "text": [
      "An estimated 1,000 CARDINAL\n",
      "May 31 DATE\n",
      "May 31 DATE\n",
      "the afternoon TIME\n",
      "May 29 DATE\n"
     ]
    }
   ],
   "source": [
    "# Maybe try entities?\n",
    "\n",
    "test = nlp(\"An estimated 1,000 people gathered on May 31 On May 31, a large crowd gathered peacefully On the afternoon of May 29, approximately 150\")\n",
    "\n",
    "for ent in test.ents:\n",
    "    print(ent.text, ent.label_)"
   ]
  },
  {
   "cell_type": "code",
   "execution_count": 154,
   "metadata": {},
   "outputs": [
    {
     "data": {
      "text/plain": [
       "California        159\n",
       "Pennsylvania       60\n",
       "New York           59\n",
       "Virginia           56\n",
       "New Jersey         46\n",
       "Washington         39\n",
       "Ohio               36\n",
       "Florida            35\n",
       "Texas              35\n",
       "Oregon             31\n",
       "Illinois           29\n",
       "Michigan           26\n",
       "Connecticut        25\n",
       "North Carolina     20\n",
       "Massachusetts      20\n",
       "Georgia            18\n",
       "Kansas             15\n",
       "Alabama            14\n",
       "Alaska             12\n",
       "Indiana            12\n",
       "Name: state, dtype: int64"
      ]
     },
     "execution_count": 154,
     "metadata": {},
     "output_type": "execute_result"
    }
   ],
   "source": [
    "#clean up state\n",
    "\n",
    "wiki['state'] = wiki['state'].str.replace(' \\(state\\)','')\n",
    "wiki['state'].value_counts().head(20)"
   ]
  },
  {
   "cell_type": "code",
   "execution_count": 155,
   "metadata": {},
   "outputs": [],
   "source": [
    "# function to get dates: \n",
    "\n",
    "def extract_dates(text):\n",
    "    dates = []\n",
    "    doc = nlp(text)\n",
    "    for ent in doc.ents:\n",
    "        if ent.label_=='DATE':\n",
    "            dates.append(ent.text)\n",
    "    return '; '.join(dates)"
   ]
  },
  {
   "cell_type": "code",
   "execution_count": 156,
   "metadata": {},
   "outputs": [],
   "source": [
    "wiki['dates'] = wiki['text'].apply(extract_dates)"
   ]
  },
  {
   "cell_type": "code",
   "execution_count": 157,
   "metadata": {},
   "outputs": [],
   "source": [
    "# function to get size: \n",
    "\n",
    "def extract_size(text):\n",
    "    s = text.lower()\n",
    "    for prefix in ['up to', 'more than','around','at least', 'about', 'approximately', 'over', 'almost']:\n",
    "        for suffix in ['protesters', 'people', 'town residents']:\n",
    "            h = re.findall('%s \\d+(?:,\\d+)? %s' % (prefix, suffix), s)\n",
    "            if len(h) > 0:\n",
    "                return h[0]\n",
    "    if 'hundreds of protesters' in s:\n",
    "        return 'hundreds'\n",
    "    if 'hundreds of people' in s:\n",
    "        return 'hundreds'\n",
    "    if 'few hundred people' in s:\n",
    "        return 'hundreds'\n",
    "    if 'few hundred people' in s:\n",
    "        return 'hundreds'\n",
    "    if 'hundreds of protestors' in s:\n",
    "        return 'hundreds'\n",
    "    if 'over a hundred' in s:\n",
    "        return 'hundred'\n",
    "\n",
    "    for d in ['dozens of protestors', 'few dozen' , 'at least a dozen']:\n",
    "        if d in s:\n",
    "            return d\n",
    "\n",
    "\n",
    "    size = []\n",
    "    doc = nlp(text)\n",
    "    for ent in doc.ents:\n",
    "        if ent.label_=='CARDINAL':\n",
    "            size.append(ent.text)\n",
    "    return ', '.join(size)"
   ]
  },
  {
   "cell_type": "code",
   "execution_count": 158,
   "metadata": {},
   "outputs": [],
   "source": [
    "wiki['size_str'] = wiki['text'].apply(extract_size)"
   ]
  },
  {
   "cell_type": "code",
   "execution_count": 159,
   "metadata": {},
   "outputs": [
    {
     "data": {
      "text/html": [
       "<div>\n",
       "<style scoped>\n",
       "    .dataframe tbody tr th:only-of-type {\n",
       "        vertical-align: middle;\n",
       "    }\n",
       "\n",
       "    .dataframe tbody tr th {\n",
       "        vertical-align: top;\n",
       "    }\n",
       "\n",
       "    .dataframe thead th {\n",
       "        text-align: right;\n",
       "    }\n",
       "</style>\n",
       "<table border=\"1\" class=\"dataframe\">\n",
       "  <thead>\n",
       "    <tr style=\"text-align: right;\">\n",
       "      <th></th>\n",
       "      <th>city</th>\n",
       "      <th>text</th>\n",
       "      <th>state</th>\n",
       "      <th>references</th>\n",
       "      <th>dates</th>\n",
       "      <th>size_str</th>\n",
       "      <th>date</th>\n",
       "      <th>size</th>\n",
       "      <th>collection</th>\n",
       "      <th>city_st</th>\n",
       "      <th>urls</th>\n",
       "    </tr>\n",
       "  </thead>\n",
       "  <tbody>\n",
       "    <tr>\n",
       "      <th>906</th>\n",
       "      <td>Orange</td>\n",
       "      <td>On June 4, hundred of protesters marched alon...</td>\n",
       "      <td>Virginia</td>\n",
       "      <td>[https://www.dailyprogress.com/orangenews/peac...</td>\n",
       "      <td>June 4</td>\n",
       "      <td>hundred</td>\n",
       "      <td>2020-06-04</td>\n",
       "      <td>100.0</td>\n",
       "      <td>Wikipedia</td>\n",
       "      <td>Orange, Virginia</td>\n",
       "      <td>[https://www.dailyprogress.com/orangenews/peac...</td>\n",
       "    </tr>\n",
       "    <tr>\n",
       "      <th>508</th>\n",
       "      <td>Bel Air</td>\n",
       "      <td>On June 4, hundreds of protesters marched down...</td>\n",
       "      <td>Maryland</td>\n",
       "      <td>[https://foxbaltimore.com/news/local/hundreds-...</td>\n",
       "      <td>June 4</td>\n",
       "      <td>hundreds</td>\n",
       "      <td>2020-06-04</td>\n",
       "      <td>200.0</td>\n",
       "      <td>Wikipedia</td>\n",
       "      <td>Bel Air, Maryland</td>\n",
       "      <td>[https://foxbaltimore.com/news/local/hundreds-...</td>\n",
       "    </tr>\n",
       "    <tr>\n",
       "      <th>920</th>\n",
       "      <td>Arlington</td>\n",
       "      <td>Given the county's proximity to Washington, D...</td>\n",
       "      <td>Virginia</td>\n",
       "      <td>[https://www.cnn.com/us/live-news/george-floyd...</td>\n",
       "      <td></td>\n",
       "      <td></td>\n",
       "      <td>2020-01-01</td>\n",
       "      <td>NaN</td>\n",
       "      <td>Wikipedia</td>\n",
       "      <td>Arlington, Virginia</td>\n",
       "      <td>[https://www.cnn.com/us/live-news/george-floyd...</td>\n",
       "    </tr>\n",
       "    <tr>\n",
       "      <th>549</th>\n",
       "      <td>Lansing and East Lansing</td>\n",
       "      <td>\\nProtesters in East Lansing on June 2\\nSevera...</td>\n",
       "      <td>Michigan</td>\n",
       "      <td>[https://www.lansingstatejournal.com/story/new...</td>\n",
       "      <td>June 2; May 31; June 1</td>\n",
       "      <td>about 100 protesters</td>\n",
       "      <td>2020-06-02</td>\n",
       "      <td>100.0</td>\n",
       "      <td>Wikipedia</td>\n",
       "      <td>Lansing and East Lansing, Michigan</td>\n",
       "      <td>[https://www.lansingstatejournal.com/story/new...</td>\n",
       "    </tr>\n",
       "    <tr>\n",
       "      <th>201</th>\n",
       "      <td>June 2020 protest against police brutality in ...</td>\n",
       "      <td>A protest was held at UN Plaza the afternoon ...</td>\n",
       "      <td>California</td>\n",
       "      <td>[http://abc7news.com/george-floyd-protest-san-...</td>\n",
       "      <td>May 30; June 6</td>\n",
       "      <td></td>\n",
       "      <td>2020-05-30</td>\n",
       "      <td>NaN</td>\n",
       "      <td>Wikipedia</td>\n",
       "      <td>June 2020 protest against police brutality in ...</td>\n",
       "      <td>[http://abc7news.com/george-floyd-protest-san-...</td>\n",
       "    </tr>\n",
       "    <tr>\n",
       "      <th>305</th>\n",
       "      <td>Pacific Beach</td>\n",
       "      <td>June 6:  Hundreds of surfers and other suppor...</td>\n",
       "      <td>California</td>\n",
       "      <td>[https://www.pbmonthly.net/news/story/2020-06-...</td>\n",
       "      <td>June 6</td>\n",
       "      <td>Hundreds</td>\n",
       "      <td>2020-06-06</td>\n",
       "      <td>200.0</td>\n",
       "      <td>Wikipedia</td>\n",
       "      <td>Pacific Beach, California</td>\n",
       "      <td>[https://www.pbmonthly.net/news/story/2020-06-...</td>\n",
       "    </tr>\n",
       "    <tr>\n",
       "      <th>471</th>\n",
       "      <td>Manhattan</td>\n",
       "      <td>On May 30, protesters marched down Bluemont Av...</td>\n",
       "      <td>Kansas</td>\n",
       "      <td>[https://themercury.com/news/demonstrators-pea...</td>\n",
       "      <td>May 30; June 1</td>\n",
       "      <td></td>\n",
       "      <td>2020-05-30</td>\n",
       "      <td>NaN</td>\n",
       "      <td>Wikipedia</td>\n",
       "      <td>Manhattan, Kansas</td>\n",
       "      <td>[https://themercury.com/news/demonstrators-pea...</td>\n",
       "    </tr>\n",
       "    <tr>\n",
       "      <th>547</th>\n",
       "      <td>Grand Rapids</td>\n",
       "      <td>\\nProtests on Fulton Street in Grand Rapids on...</td>\n",
       "      <td>Michigan</td>\n",
       "      <td>[https://www.mlive.com/news/grand-rapids/2020/...</td>\n",
       "      <td>May 30, 2020; June 1\\n; Saturday; May 30</td>\n",
       "      <td>Thousands</td>\n",
       "      <td>2020-05-30</td>\n",
       "      <td>2000.0</td>\n",
       "      <td>Wikipedia</td>\n",
       "      <td>Grand Rapids, Michigan</td>\n",
       "      <td>[https://www.mlive.com/news/grand-rapids/2020/...</td>\n",
       "    </tr>\n",
       "    <tr>\n",
       "      <th>720</th>\n",
       "      <td>Findlay</td>\n",
       "      <td>Dozens of people protested peacefully in fron...</td>\n",
       "      <td>Ohio</td>\n",
       "      <td>[https://www.wtol.com/article/news/local/findl...</td>\n",
       "      <td></td>\n",
       "      <td>Dozens</td>\n",
       "      <td>2020-01-01</td>\n",
       "      <td>24.0</td>\n",
       "      <td>Wikipedia</td>\n",
       "      <td>Findlay, Ohio</td>\n",
       "      <td>[https://www.wtol.com/article/news/local/findl...</td>\n",
       "    </tr>\n",
       "    <tr>\n",
       "      <th>575</th>\n",
       "      <td>Grand Island</td>\n",
       "      <td>A group estimated at 300 people marched toward...</td>\n",
       "      <td>Nebraska</td>\n",
       "      <td>[https://www.theindependent.com/news/local/clo...</td>\n",
       "      <td>June 1, 2020</td>\n",
       "      <td>300</td>\n",
       "      <td>2020-06-01</td>\n",
       "      <td>300.0</td>\n",
       "      <td>Wikipedia</td>\n",
       "      <td>Grand Island, Nebraska</td>\n",
       "      <td>[https://www.theindependent.com/news/local/clo...</td>\n",
       "    </tr>\n",
       "  </tbody>\n",
       "</table>\n",
       "</div>"
      ],
      "text/plain": [
       "                                                  city  \\\n",
       "906                                             Orange   \n",
       "508                                            Bel Air   \n",
       "920                                          Arlington   \n",
       "549                           Lansing and East Lansing   \n",
       "201  June 2020 protest against police brutality in ...   \n",
       "305                                      Pacific Beach   \n",
       "471                                          Manhattan   \n",
       "547                                       Grand Rapids   \n",
       "720                                            Findlay   \n",
       "575                                       Grand Island   \n",
       "\n",
       "                                                  text       state  \\\n",
       "906   On June 4, hundred of protesters marched alon...    Virginia   \n",
       "508  On June 4, hundreds of protesters marched down...    Maryland   \n",
       "920   Given the county's proximity to Washington, D...    Virginia   \n",
       "549  \\nProtesters in East Lansing on June 2\\nSevera...    Michigan   \n",
       "201   A protest was held at UN Plaza the afternoon ...  California   \n",
       "305   June 6:  Hundreds of surfers and other suppor...  California   \n",
       "471  On May 30, protesters marched down Bluemont Av...      Kansas   \n",
       "547  \\nProtests on Fulton Street in Grand Rapids on...    Michigan   \n",
       "720   Dozens of people protested peacefully in fron...        Ohio   \n",
       "575  A group estimated at 300 people marched toward...    Nebraska   \n",
       "\n",
       "                                            references  \\\n",
       "906  [https://www.dailyprogress.com/orangenews/peac...   \n",
       "508  [https://foxbaltimore.com/news/local/hundreds-...   \n",
       "920  [https://www.cnn.com/us/live-news/george-floyd...   \n",
       "549  [https://www.lansingstatejournal.com/story/new...   \n",
       "201  [http://abc7news.com/george-floyd-protest-san-...   \n",
       "305  [https://www.pbmonthly.net/news/story/2020-06-...   \n",
       "471  [https://themercury.com/news/demonstrators-pea...   \n",
       "547  [https://www.mlive.com/news/grand-rapids/2020/...   \n",
       "720  [https://www.wtol.com/article/news/local/findl...   \n",
       "575  [https://www.theindependent.com/news/local/clo...   \n",
       "\n",
       "                                        dates              size_str  \\\n",
       "906                                    June 4               hundred   \n",
       "508                                    June 4              hundreds   \n",
       "920                                                                   \n",
       "549                    June 2; May 31; June 1  about 100 protesters   \n",
       "201                            May 30; June 6                         \n",
       "305                                    June 6              Hundreds   \n",
       "471                            May 30; June 1                         \n",
       "547  May 30, 2020; June 1\\n; Saturday; May 30             Thousands   \n",
       "720                                                          Dozens   \n",
       "575                              June 1, 2020                   300   \n",
       "\n",
       "           date    size collection  \\\n",
       "906  2020-06-04   100.0  Wikipedia   \n",
       "508  2020-06-04   200.0  Wikipedia   \n",
       "920  2020-01-01     NaN  Wikipedia   \n",
       "549  2020-06-02   100.0  Wikipedia   \n",
       "201  2020-05-30     NaN  Wikipedia   \n",
       "305  2020-06-06   200.0  Wikipedia   \n",
       "471  2020-05-30     NaN  Wikipedia   \n",
       "547  2020-05-30  2000.0  Wikipedia   \n",
       "720  2020-01-01    24.0  Wikipedia   \n",
       "575  2020-06-01   300.0  Wikipedia   \n",
       "\n",
       "                                               city_st  \\\n",
       "906                                   Orange, Virginia   \n",
       "508                                  Bel Air, Maryland   \n",
       "920                                Arlington, Virginia   \n",
       "549                 Lansing and East Lansing, Michigan   \n",
       "201  June 2020 protest against police brutality in ...   \n",
       "305                          Pacific Beach, California   \n",
       "471                                  Manhattan, Kansas   \n",
       "547                             Grand Rapids, Michigan   \n",
       "720                                      Findlay, Ohio   \n",
       "575                             Grand Island, Nebraska   \n",
       "\n",
       "                                                  urls  \n",
       "906  [https://www.dailyprogress.com/orangenews/peac...  \n",
       "508  [https://foxbaltimore.com/news/local/hundreds-...  \n",
       "920  [https://www.cnn.com/us/live-news/george-floyd...  \n",
       "549  [https://www.lansingstatejournal.com/story/new...  \n",
       "201  [http://abc7news.com/george-floyd-protest-san-...  \n",
       "305  [https://www.pbmonthly.net/news/story/2020-06-...  \n",
       "471  [https://themercury.com/news/demonstrators-pea...  \n",
       "547  [https://www.mlive.com/news/grand-rapids/2020/...  \n",
       "720  [https://www.wtol.com/article/news/local/findl...  \n",
       "575  [https://www.theindependent.com/news/local/clo...  "
      ]
     },
     "execution_count": 159,
     "metadata": {},
     "output_type": "execute_result"
    }
   ],
   "source": [
    "wiki.sample(10)"
   ]
  },
  {
   "cell_type": "code",
   "execution_count": 160,
   "metadata": {},
   "outputs": [
    {
     "data": {
      "text/plain": [
       "May 31              133\n",
       "May 30              129\n",
       "                    118\n",
       "June 1               82\n",
       "June 2               55\n",
       "June 6               46\n",
       "June 3               45\n",
       "June 4               40\n",
       "May 29               39\n",
       "June 5               24\n",
       "June 7               16\n",
       "May 28               10\n",
       "May 31, 2020          8\n",
       "June 1, 2020          8\n",
       "Sunday, May 31        7\n",
       "June 3, 2020          6\n",
       "Saturday; May 30      5\n",
       "May 30, 2020          5\n",
       "Saturday              4\n",
       "Friday; May 29        4\n",
       "Name: dates, dtype: int64"
      ]
     },
     "execution_count": 160,
     "metadata": {},
     "output_type": "execute_result"
    }
   ],
   "source": [
    "wiki['dates'].value_counts().head(20)"
   ]
  },
  {
   "cell_type": "code",
   "execution_count": 161,
   "metadata": {},
   "outputs": [],
   "source": [
    "def date_hack(date):\n",
    "    date = date.split('; ')[0]\n",
    "    if '2020' not in date:\n",
    "        return date + ', 2020'\n",
    "    return date"
   ]
  },
  {
   "cell_type": "code",
   "execution_count": 162,
   "metadata": {},
   "outputs": [],
   "source": [
    "wiki['date'] = pd.to_datetime(wiki['dates'].apply(date_hack), errors='coerce').dt.date"
   ]
  },
  {
   "cell_type": "code",
   "execution_count": 164,
   "metadata": {},
   "outputs": [],
   "source": [
    "size_words = {'hundreds' : 200,\n",
    "             'dozens' : 24,\n",
    "             'around 200 people': 200,\n",
    "             'over 100 people': 120,\n",
    "              'over 1,000 people' : 1200,\n",
    "              'around 1,000 people' : 1000,\n",
    "             'more than 100 people': 120,\n",
    "              'about 100 people' :100,\n",
    "              'over 100 people' :120,\n",
    "              'about 100 people' : 100,\n",
    "             'over 100 people': 120,\n",
    "              'around 80 people' :  80,\n",
    "              'over 100 people' : 120,\n",
    "              'around 300 people' : 300,\n",
    "              'more than 100 people' : 120,\n",
    "              'around 50 people' : 50,\n",
    "              'several hundred' : 200,\n",
    "              '300' : 300,\n",
    "              '500' : 500,\n",
    "              'over 200 people' : 220,\n",
    "              'around 50 people' : 50,\n",
    "              'hundred' : 100,\n",
    "              'more than 1,000 people' : 1200,\n",
    "             'thousands': 2000,\n",
    "              'around 100 people' : 100,\n",
    "              'around 400 people' : 400,\n",
    "              'around 400 people' : 400, \n",
    "              'around 100 people' : 100,\n",
    "              'more than 200 people' : 220,\n",
    "              'over 150 people' : 160,\n",
    "              '1,000' : 1000,\n",
    "              '200': 200,\n",
    "              'several dozen' :24,\n",
    "              'over 100 ' : 120,\n",
    "              'more than 500 people' : 550\n",
    "             }\n",
    "\n",
    "def size_convert(size_str):\n",
    "    size_str = size_str.lower()\n",
    "    size_str = size_str.replace('protesters', 'people')\n",
    "    size_str = size_str.replace('about', 'around')\n",
    "\n",
    "    for word in size_words:\n",
    "        if size_str.lower() == word:\n",
    "            return size_words[word]"
   ]
  },
  {
   "cell_type": "code",
   "execution_count": 165,
   "metadata": {},
   "outputs": [],
   "source": [
    "wiki['size'] = wiki['size_str'].apply(size_convert)"
   ]
  },
  {
   "cell_type": "code",
   "execution_count": 166,
   "metadata": {},
   "outputs": [
    {
     "data": {
      "text/plain": [
       "                                234\n",
       "One                               4\n",
       "about 250 people                  3\n",
       "About 200                         3\n",
       "over 300 people                   3\n",
       "over 100                          3\n",
       "Roughly 300                       3\n",
       "8                                 3\n",
       "approximately 1,000               2\n",
       "about 150 people                  2\n",
       "200–300                           2\n",
       "nearly 100                        2\n",
       "about 150 protesters              2\n",
       "400-500                           2\n",
       "approximately 300 protesters      2\n",
       "more than 300 people              2\n",
       "four                              2\n",
       "A few hundred                     2\n",
       "More than 1000                    2\n",
       "about 30 people                   2\n",
       "Name: size_str, dtype: int64"
      ]
     },
     "execution_count": 166,
     "metadata": {},
     "output_type": "execute_result"
    }
   ],
   "source": [
    "wiki[wiki['size'].isna()]['size_str'].value_counts().head(20)"
   ]
  },
  {
   "cell_type": "code",
   "execution_count": 168,
   "metadata": {},
   "outputs": [
    {
     "data": {
      "text/plain": [
       "Index(['id', 'date', 'city_st', 'location', 'size', 'size_str', 'urls',\n",
       "       'collection'],\n",
       "      dtype='object')"
      ]
     },
     "execution_count": 168,
     "metadata": {},
     "output_type": "execute_result"
    }
   ],
   "source": [
    "cl_df = pd.read_csv(\"data/cl_blm.csv\")\n",
    "\n",
    "cl_df.keys()"
   ]
  },
  {
   "cell_type": "code",
   "execution_count": 169,
   "metadata": {},
   "outputs": [],
   "source": [
    "keep = ['date', 'city_st',  'size', 'size_str', 'urls',\n",
    "       'collection']"
   ]
  },
  {
   "cell_type": "code",
   "execution_count": 170,
   "metadata": {},
   "outputs": [],
   "source": [
    "wiki['collection'] = 'Wikipedia'"
   ]
  },
  {
   "cell_type": "code",
   "execution_count": 171,
   "metadata": {},
   "outputs": [],
   "source": [
    "wiki['city_st'] = wiki['city'] + ', ' + wiki['state']"
   ]
  },
  {
   "cell_type": "code",
   "execution_count": 172,
   "metadata": {},
   "outputs": [],
   "source": [
    "wiki['urls'] = wiki['references']"
   ]
  },
  {
   "cell_type": "code",
   "execution_count": 176,
   "metadata": {},
   "outputs": [],
   "source": [
    "wiki[keep].dropna(subset=['date']).to_csv('data/wiki_blm.csv')"
   ]
  },
  {
   "cell_type": "code",
   "execution_count": 153,
   "metadata": {},
   "outputs": [
    {
     "data": {
      "text/plain": [
       "California        159\n",
       "Pennsylvania       60\n",
       "New York           59\n",
       "Virginia           56\n",
       "New Jersey         46\n",
       "Washington         39\n",
       "Ohio               36\n",
       "Florida            35\n",
       "Texas              35\n",
       "Oregon             31\n",
       "Illinois           29\n",
       "Michigan           26\n",
       "Connecticut        25\n",
       "North Carolina     20\n",
       "Massachusetts      20\n",
       "Georgia            18\n",
       "Kansas             15\n",
       "Alabama            14\n",
       "Alaska             12\n",
       "Indiana            12\n",
       "Maryland           11\n",
       "Minnesota          11\n",
       "Iowa               11\n",
       "Maine              11\n",
       "Colorado            9\n",
       "New Hampshire       9\n",
       "Louisiana           9\n",
       "Wisconsin           9\n",
       "Tennessee           9\n",
       "Montana             9\n",
       "Arkansas            8\n",
       "Kentucky            8\n",
       "Arizona             8\n",
       "Nebraska            8\n",
       "Missouri            8\n",
       "Idaho               8\n",
       "New Mexico          7\n",
       "Delaware            7\n",
       "Vermont             7\n",
       "Wyoming             6\n",
       "South Dakota        6\n",
       "Chicago             6\n",
       "Puerto Rico         6\n",
       "West Virginia       6\n",
       "North Dakota        5\n",
       "Oklahoma            5\n",
       "Utah                5\n",
       "Nevada              4\n",
       "South Carolina      4\n",
       "Rhode Island        4\n",
       "Name: state, dtype: int64"
      ]
     },
     "execution_count": 153,
     "metadata": {},
     "output_type": "execute_result"
    }
   ],
   "source": [
    "wiki['state'].value_counts().head(50)"
   ]
  },
  {
   "cell_type": "code",
   "execution_count": null,
   "metadata": {},
   "outputs": [],
   "source": []
  }
 ],
 "metadata": {
  "kernelspec": {
   "display_name": "Python 3",
   "language": "python",
   "name": "python3"
  },
  "language_info": {
   "codemirror_mode": {
    "name": "ipython",
    "version": 3
   },
   "file_extension": ".py",
   "mimetype": "text/x-python",
   "name": "python",
   "nbconvert_exporter": "python",
   "pygments_lexer": "ipython3",
   "version": "3.8.3"
  }
 },
 "nbformat": 4,
 "nbformat_minor": 4
}
