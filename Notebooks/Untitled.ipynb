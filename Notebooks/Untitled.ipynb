{
 "cells": [
  {
   "cell_type": "code",
   "execution_count": 4,
   "metadata": {},
   "outputs": [
    {
     "name": "stdout",
     "output_type": "stream",
     "text": [
      "Loaded model 'en_core_web_md'\n",
      "Processing 2 texts\n",
      "Net income\tMONEY\t$9.4 million\n",
      "the prior year\tMONEY\t$2.7 million\n",
      "Revenue   \tMONEY\ttwelve billion dollars\n",
      "a loss    \tMONEY\t1b\n"
     ]
    }
   ],
   "source": [
    "import spacy\n",
    "\n",
    "\n",
    "TEXTS = [\n",
    "    \"Net income was $9.4 million compared to the prior year of $2.7 million.\",\n",
    "    \"Revenue exceeded twelve billion dollars, with a loss of $1b.\",\n",
    "]\n",
    "\n",
    "\n",
    "\n",
    "def main(model=\"en_core_web_md\"):\n",
    "    nlp = spacy.load(model)\n",
    "    print(\"Loaded model '%s'\" % model)\n",
    "    print(\"Processing %d texts\" % len(TEXTS))\n",
    "\n",
    "    for text in TEXTS:\n",
    "        doc = nlp(text)\n",
    "        relations = extract_currency_relations(doc)\n",
    "        for r1, r2 in relations:\n",
    "            print(\"{:<10}\\t{}\\t{}\".format(r1.text, r2.ent_type_, r2.text))\n",
    "\n",
    "\n",
    "def filter_spans(spans):\n",
    "    # Filter a sequence of spans so they don't contain overlaps\n",
    "    # For spaCy 2.1.4+: this function is available as spacy.util.filter_spans()\n",
    "    get_sort_key = lambda span: (span.end - span.start, -span.start)\n",
    "    sorted_spans = sorted(spans, key=get_sort_key, reverse=True)\n",
    "    result = []\n",
    "    seen_tokens = set()\n",
    "    for span in sorted_spans:\n",
    "        # Check for end - 1 here because boundaries are inclusive\n",
    "        if span.start not in seen_tokens and span.end - 1 not in seen_tokens:\n",
    "            result.append(span)\n",
    "        seen_tokens.update(range(span.start, span.end))\n",
    "    result = sorted(result, key=lambda span: span.start)\n",
    "    return result\n",
    "\n",
    "\n",
    "def extract_currency_relations(doc):\n",
    "    # Merge entities and noun chunks into one token\n",
    "    spans = list(doc.ents) + list(doc.noun_chunks)\n",
    "    spans = filter_spans(spans)\n",
    "    with doc.retokenize() as retokenizer:\n",
    "        for span in spans:\n",
    "            retokenizer.merge(span)\n",
    "\n",
    "    relations = []\n",
    "    for money in filter(lambda w: w.ent_type_ == \"MONEY\", doc):\n",
    "        if money.dep_ in (\"attr\", \"dobj\"):\n",
    "            subject = [w for w in money.head.lefts if w.dep_ == \"nsubj\"]\n",
    "            if subject:\n",
    "                subject = subject[0]\n",
    "                relations.append((subject, money))\n",
    "        elif money.dep_ == \"pobj\" and money.head.dep_ == \"prep\":\n",
    "            relations.append((money.head.head, money))\n",
    "    return relations\n",
    "\n",
    "main()"
   ]
  },
  {
   "cell_type": "code",
   "execution_count": 25,
   "metadata": {},
   "outputs": [],
   "source": [
    "s = 'On May 30, 2020, hundreds of people in Little Rock, Arkansas participated in a demonstration at the Arkansas State Capitol.'"
   ]
  },
  {
   "cell_type": "code",
   "execution_count": 8,
   "metadata": {},
   "outputs": [
    {
     "ename": "NameError",
     "evalue": "name 'text' is not defined",
     "output_type": "error",
     "traceback": [
      "\u001b[0;31m---------------------------------------------------------------------------\u001b[0m",
      "\u001b[0;31mNameError\u001b[0m                                 Traceback (most recent call last)",
      "\u001b[0;32m<ipython-input-8-d82154dfcaba>\u001b[0m in \u001b[0;36m<module>\u001b[0;34m\u001b[0m\n\u001b[1;32m      5\u001b[0m \u001b[0;34m\u001b[0m\u001b[0m\n\u001b[1;32m      6\u001b[0m \u001b[0mnlp\u001b[0m \u001b[0;34m=\u001b[0m \u001b[0mspacy\u001b[0m\u001b[0;34m.\u001b[0m\u001b[0mload\u001b[0m\u001b[0;34m(\u001b[0m\u001b[0mmodel\u001b[0m\u001b[0;34m)\u001b[0m\u001b[0;34m\u001b[0m\u001b[0;34m\u001b[0m\u001b[0m\n\u001b[0;32m----> 7\u001b[0;31m \u001b[0mdoc\u001b[0m \u001b[0;34m=\u001b[0m \u001b[0mnlp\u001b[0m\u001b[0;34m(\u001b[0m\u001b[0mtext\u001b[0m\u001b[0;34m)\u001b[0m\u001b[0;34m\u001b[0m\u001b[0;34m\u001b[0m\u001b[0m\n\u001b[0m",
      "\u001b[0;31mNameError\u001b[0m: name 'text' is not defined"
     ]
    }
   ],
   "source": [
    "import spacy\n",
    "\n",
    "\n",
    "model=\"en_core_web_md\"\n",
    "\n",
    "nlp = spacy.load(model)\n"
   ]
  },
  {
   "cell_type": "code",
   "execution_count": 26,
   "metadata": {},
   "outputs": [],
   "source": [
    "doc = nlp(s)"
   ]
  },
  {
   "cell_type": "code",
   "execution_count": 18,
   "metadata": {},
   "outputs": [
    {
     "name": "stdout",
     "output_type": "stream",
     "text": [
      "May 30, 2020 0\n",
      "500 0\n",
      "Little Rock 0\n",
      "Arkansas 0\n",
      "the Arkansas State Capitol 0\n"
     ]
    }
   ],
   "source": [
    "for e in doc.ents:\n",
    "    print(e, e.ent_id)"
   ]
  },
  {
   "cell_type": "code",
   "execution_count": 22,
   "metadata": {},
   "outputs": [
    {
     "name": "stdout",
     "output_type": "stream",
     "text": [
      "On ADP\n",
      "May PROPN\n",
      "30 NUM\n",
      ", PUNCT\n",
      "2020 NUM\n",
      ", PUNCT\n",
      "500 NUM\n",
      "people NOUN\n",
      "in ADP\n",
      "Little PROPN\n",
      "Rock PROPN\n",
      ", PUNCT\n",
      "Arkansas PROPN\n",
      "participated VERB\n",
      "in ADP\n",
      "a DET\n",
      "demonstration NOUN\n",
      "at ADP\n",
      "the DET\n",
      "Arkansas PROPN\n",
      "State PROPN\n",
      "Capitol PROPN\n",
      ". PUNCT\n"
     ]
    }
   ],
   "source": [
    "for t in doc:\n",
    "    print(t, t.pos_)"
   ]
  },
  {
   "cell_type": "code",
   "execution_count": 76,
   "metadata": {},
   "outputs": [],
   "source": [
    "doc = nlp(\"500 people marched for justice in Little Rock, AK.\")\n",
    "doc = nlp('On Friday, May 29, 2020, dozens of people demonstrated in front of the the Capitol.')\n",
    "doc = nlp('On Friday, May 29, 2020, 100,000 people demonstrated in front of the the Capitol.')\n",
    "doc = nlp('Dozens of individuals protested on the stairs of Alabama State Capitol in Montgomery, Alabama on May 30, 2020.')\n",
    "\n",
    "\n",
    "def protest_count(text):\n",
    "    doc = nlp(text)\n",
    "    verbs = ['protested', 'marched', 'demonstrated', 'gathered', 'attended' , 'participated', 'formed']\n",
    "    for chunk in doc.noun_chunks:\n",
    "        if chunk.root.head.text in verbs:\n",
    "            return ([chunk.text,  chunk.root.dep_,\n",
    "                    chunk.root.head.text])"
   ]
  },
  {
   "cell_type": "code",
   "execution_count": 62,
   "metadata": {},
   "outputs": [],
   "source": [
    "import pandas as pd \n",
    "df = pd.read_csv('data/wiki_protest.csv')"
   ]
  },
  {
   "cell_type": "code",
   "execution_count": 63,
   "metadata": {},
   "outputs": [
    {
     "data": {
      "text/html": [
       "<div>\n",
       "<style scoped>\n",
       "    .dataframe tbody tr th:only-of-type {\n",
       "        vertical-align: middle;\n",
       "    }\n",
       "\n",
       "    .dataframe tbody tr th {\n",
       "        vertical-align: top;\n",
       "    }\n",
       "\n",
       "    .dataframe thead th {\n",
       "        text-align: right;\n",
       "    }\n",
       "</style>\n",
       "<table border=\"1\" class=\"dataframe\">\n",
       "  <thead>\n",
       "    <tr style=\"text-align: right;\">\n",
       "      <th></th>\n",
       "      <th>city</th>\n",
       "      <th>text</th>\n",
       "      <th>state</th>\n",
       "      <th>references</th>\n",
       "    </tr>\n",
       "  </thead>\n",
       "  <tbody>\n",
       "    <tr>\n",
       "      <th>707</th>\n",
       "      <td>Beavercreek</td>\n",
       "      <td>Protests were organized Monday night in some ...</td>\n",
       "      <td>Ohio</td>\n",
       "      <td>['https://www.whio.com/news/crime-and-law/geor...</td>\n",
       "    </tr>\n",
       "    <tr>\n",
       "      <th>863</th>\n",
       "      <td>Paris</td>\n",
       "      <td>On May 30, around three dozen people formed a ...</td>\n",
       "      <td>Texas</td>\n",
       "      <td>['http://theparisnews.com/free/article_3d8aa7b...</td>\n",
       "    </tr>\n",
       "    <tr>\n",
       "      <th>540</th>\n",
       "      <td>Ypsilanti</td>\n",
       "      <td>On May 28, about 100 protesters gathered at t...</td>\n",
       "      <td>Michigan</td>\n",
       "      <td>['https://web.archive.org/web/20200603155948/h...</td>\n",
       "    </tr>\n",
       "    <tr>\n",
       "      <th>810</th>\n",
       "      <td>Philadelphia</td>\n",
       "      <td>\\nMain article:  George Floyd protests in Phil...</td>\n",
       "      <td>Pennsylvania</td>\n",
       "      <td>[]</td>\n",
       "    </tr>\n",
       "    <tr>\n",
       "      <th>346</th>\n",
       "      <td>Orlando</td>\n",
       "      <td>Two separate protests took place on May 30, w...</td>\n",
       "      <td>Florida</td>\n",
       "      <td>['https://www.orlandoweekly.com/Blogs/archives...</td>\n",
       "    </tr>\n",
       "    <tr>\n",
       "      <th>697</th>\n",
       "      <td>Morehead City</td>\n",
       "      <td>Peaceful protests have been taking place daily...</td>\n",
       "      <td>North Carolina</td>\n",
       "      <td>['https://www.facebook.com/pages/category/Pers...</td>\n",
       "    </tr>\n",
       "    <tr>\n",
       "      <th>618</th>\n",
       "      <td>Oswego</td>\n",
       "      <td>On May 31, a gathering of several hundred peo...</td>\n",
       "      <td>New York (state)</td>\n",
       "      <td>['https://www.oswegonian.com/2020/05/31/oswego...</td>\n",
       "    </tr>\n",
       "    <tr>\n",
       "      <th>270</th>\n",
       "      <td>Temecula</td>\n",
       "      <td>On May 30, 2020, hundreds of protesters came ...</td>\n",
       "      <td>California</td>\n",
       "      <td>['https://patch.com/california/temecula/temecu...</td>\n",
       "    </tr>\n",
       "    <tr>\n",
       "      <th>220</th>\n",
       "      <td>Downey</td>\n",
       "      <td>Hundreds marched down Firestone Boulevard bet...</td>\n",
       "      <td>California</td>\n",
       "      <td>['https://www.presstelegram.com/hundreds-gathe...</td>\n",
       "    </tr>\n",
       "    <tr>\n",
       "      <th>599</th>\n",
       "      <td>Princeton</td>\n",
       "      <td>On June 2, thousands protested in downtown Pri...</td>\n",
       "      <td>New Jersey</td>\n",
       "      <td>['https://planetprinceton.com/2020/06/02/photo...</td>\n",
       "    </tr>\n",
       "  </tbody>\n",
       "</table>\n",
       "</div>"
      ],
      "text/plain": [
       "              city                                               text  \\\n",
       "707    Beavercreek   Protests were organized Monday night in some ...   \n",
       "863          Paris  On May 30, around three dozen people formed a ...   \n",
       "540      Ypsilanti   On May 28, about 100 protesters gathered at t...   \n",
       "810   Philadelphia  \\nMain article:  George Floyd protests in Phil...   \n",
       "346        Orlando   Two separate protests took place on May 30, w...   \n",
       "697  Morehead City  Peaceful protests have been taking place daily...   \n",
       "618         Oswego   On May 31, a gathering of several hundred peo...   \n",
       "270       Temecula   On May 30, 2020, hundreds of protesters came ...   \n",
       "220         Downey   Hundreds marched down Firestone Boulevard bet...   \n",
       "599      Princeton  On June 2, thousands protested in downtown Pri...   \n",
       "\n",
       "                state                                         references  \n",
       "707              Ohio  ['https://www.whio.com/news/crime-and-law/geor...  \n",
       "863             Texas  ['http://theparisnews.com/free/article_3d8aa7b...  \n",
       "540          Michigan  ['https://web.archive.org/web/20200603155948/h...  \n",
       "810      Pennsylvania                                                 []  \n",
       "346           Florida  ['https://www.orlandoweekly.com/Blogs/archives...  \n",
       "697    North Carolina  ['https://www.facebook.com/pages/category/Pers...  \n",
       "618  New York (state)  ['https://www.oswegonian.com/2020/05/31/oswego...  \n",
       "270        California  ['https://patch.com/california/temecula/temecu...  \n",
       "220        California  ['https://www.presstelegram.com/hundreds-gathe...  \n",
       "599        New Jersey  ['https://planetprinceton.com/2020/06/02/photo...  "
      ]
     },
     "execution_count": 63,
     "metadata": {},
     "output_type": "execute_result"
    }
   ],
   "source": [
    "df.sample(10)"
   ]
  },
  {
   "cell_type": "code",
   "execution_count": 65,
   "metadata": {},
   "outputs": [
    {
     "data": {
      "text/html": [
       "<div>\n",
       "<style scoped>\n",
       "    .dataframe tbody tr th:only-of-type {\n",
       "        vertical-align: middle;\n",
       "    }\n",
       "\n",
       "    .dataframe tbody tr th {\n",
       "        vertical-align: top;\n",
       "    }\n",
       "\n",
       "    .dataframe thead th {\n",
       "        text-align: right;\n",
       "    }\n",
       "</style>\n",
       "<table border=\"1\" class=\"dataframe\">\n",
       "  <thead>\n",
       "    <tr style=\"text-align: right;\">\n",
       "      <th></th>\n",
       "      <th>people</th>\n",
       "      <th>text</th>\n",
       "    </tr>\n",
       "  </thead>\n",
       "  <tbody>\n",
       "    <tr>\n",
       "      <th>154</th>\n",
       "      <td>None</td>\n",
       "      <td>Roughly 100 UC Davis students held protests in downtown Davis.</td>\n",
       "    </tr>\n",
       "    <tr>\n",
       "      <th>573</th>\n",
       "      <td>[hundreds, nsubj, marched]</td>\n",
       "      <td>On June 6, hundreds of protesters marched from City Hall to the Union County Courthouse. Among t...</td>\n",
       "    </tr>\n",
       "    <tr>\n",
       "      <th>542</th>\n",
       "      <td>[ A number, nsubj, gathered]</td>\n",
       "      <td>A number of protesters gathered outside the city's post office on May 29.</td>\n",
       "    </tr>\n",
       "    <tr>\n",
       "      <th>539</th>\n",
       "      <td>None</td>\n",
       "      <td>On June 2, more than 100 protesters led a peaceful march along Van Dyke Avenue to protest Georg...</td>\n",
       "    </tr>\n",
       "    <tr>\n",
       "      <th>178</th>\n",
       "      <td>[ Protesters, nsubj, gathered]</td>\n",
       "      <td>Protesters gathered at the intersection of Redwood Road and a driveway leading to an office of ...</td>\n",
       "    </tr>\n",
       "    <tr>\n",
       "      <th>941</th>\n",
       "      <td>[ Hundreds, nsubj, gathered]</td>\n",
       "      <td>Hundreds gathered in Lopez Village.</td>\n",
       "    </tr>\n",
       "    <tr>\n",
       "      <th>151</th>\n",
       "      <td>[70 to 100 protesters, nsubj, gathered]</td>\n",
       "      <td>On Saturday afternoon, May 30, 70 to 100 protesters gathered peacefully at the State Line Post O...</td>\n",
       "    </tr>\n",
       "    <tr>\n",
       "      <th>951</th>\n",
       "      <td>[Over one thousand people, nsubj, gathered]</td>\n",
       "      <td>Over one thousand people gathered in downtown Appleton on May 30 and 31 for a peaceful protest d...</td>\n",
       "    </tr>\n",
       "    <tr>\n",
       "      <th>891</th>\n",
       "      <td>None</td>\n",
       "      <td>On June 3, a protest in downtown Lexington drew hundreds of participants.</td>\n",
       "    </tr>\n",
       "    <tr>\n",
       "      <th>406</th>\n",
       "      <td>[Hundreds, nsubj, gathered]</td>\n",
       "      <td>Hundreds of protesters gathered outside the Naperville Police Department on June 1. The Mayor an...</td>\n",
       "    </tr>\n",
       "  </tbody>\n",
       "</table>\n",
       "</div>"
      ],
      "text/plain": [
       "                                          people  \\\n",
       "154                                         None   \n",
       "573                   [hundreds, nsubj, marched]   \n",
       "542                 [ A number, nsubj, gathered]   \n",
       "539                                         None   \n",
       "178               [ Protesters, nsubj, gathered]   \n",
       "941                 [ Hundreds, nsubj, gathered]   \n",
       "151      [70 to 100 protesters, nsubj, gathered]   \n",
       "951  [Over one thousand people, nsubj, gathered]   \n",
       "891                                         None   \n",
       "406                  [Hundreds, nsubj, gathered]   \n",
       "\n",
       "                                                                                                    text  \n",
       "154                                       Roughly 100 UC Davis students held protests in downtown Davis.  \n",
       "573  On June 6, hundreds of protesters marched from City Hall to the Union County Courthouse. Among t...  \n",
       "542                            A number of protesters gathered outside the city's post office on May 29.  \n",
       "539   On June 2, more than 100 protesters led a peaceful march along Van Dyke Avenue to protest Georg...  \n",
       "178   Protesters gathered at the intersection of Redwood Road and a driveway leading to an office of ...  \n",
       "941                                                                  Hundreds gathered in Lopez Village.  \n",
       "151  On Saturday afternoon, May 30, 70 to 100 protesters gathered peacefully at the State Line Post O...  \n",
       "951  Over one thousand people gathered in downtown Appleton on May 30 and 31 for a peaceful protest d...  \n",
       "891                            On June 3, a protest in downtown Lexington drew hundreds of participants.  \n",
       "406  Hundreds of protesters gathered outside the Naperville Police Department on June 1. The Mayor an...  "
      ]
     },
     "execution_count": 65,
     "metadata": {},
     "output_type": "execute_result"
    }
   ],
   "source": [
    "pd.options.display.max_colwidth = 100\n",
    "df_sample = df.sample(10)\n",
    "df_sample['people'] = df_sample['text'].astype(str).apply(protest_count)\n",
    "df_sample[['people','text']]"
   ]
  },
  {
   "cell_type": "code",
   "execution_count": 75,
   "metadata": {},
   "outputs": [
    {
     "name": "stdout",
     "output_type": "stream",
     "text": [
      "   > hundreds\n",
      "hundreds nsubj > marched\n",
      "of prep > hundreds\n",
      "protesters pobj > of\n",
      "marched ROOT > marched\n",
      "from prep > marched\n",
      "City compound > Hall\n",
      "Hall pobj > from\n",
      ". punct > marched\n"
     ]
    }
   ],
   "source": [
    "def protest_count(text):\n",
    "    doc = nlp(text)\n",
    "    verbs = ['protested', 'marched', 'demonstrated', 'gathered', 'attended' , 'participated', 'formed']\n",
    "    for chunk in doc.noun_chunks:\n",
    "        #if chunk.root.head.text in verbs:\n",
    "        print ([chunk.text,  chunk.root.dep_,\n",
    "                    chunk.root.head.text])\n",
    "\n",
    "text = ' hundreds of protesters marched from City Hall .'\n",
    "#protest_count(text)\n",
    "doc = nlp(text) \n",
    "for t in doc:\n",
    "    print(t.text, t.dep_,'>',t.head)"
   ]
  },
  {
   "cell_type": "code",
   "execution_count": 78,
   "metadata": {},
   "outputs": [
    {
     "data": {
      "text/plain": [
       "[' hundreds', 'nsubj', 'marched']"
      ]
     },
     "execution_count": 78,
     "metadata": {},
     "output_type": "execute_result"
    }
   ],
   "source": [
    "text = ' hundreds of protesters marched from City Hall .'\n",
    "def protest_count(text):\n",
    "    doc = nlp(text)\n",
    "    verbs = ['protested', 'marched', 'demonstrated', 'gathered', 'attended' , 'participated', 'formed']\n",
    "    for chunk in doc.noun_chunks:\n",
    "        if chunk.root.head.text in verbs:\n",
    "            return ([chunk.text,  chunk.root.dep_,\n",
    "                    chunk.root.head.text])\n",
    "\n",
    "protest_count(text)"
   ]
  },
  {
   "cell_type": "code",
   "execution_count": null,
   "metadata": {},
   "outputs": [],
   "source": []
  }
 ],
 "metadata": {
  "kernelspec": {
   "display_name": "Python 3",
   "language": "python",
   "name": "python3"
  },
  "language_info": {
   "codemirror_mode": {
    "name": "ipython",
    "version": 3
   },
   "file_extension": ".py",
   "mimetype": "text/x-python",
   "name": "python",
   "nbconvert_exporter": "python",
   "pygments_lexer": "ipython3",
   "version": "3.8.3"
  }
 },
 "nbformat": 4,
 "nbformat_minor": 4
}
