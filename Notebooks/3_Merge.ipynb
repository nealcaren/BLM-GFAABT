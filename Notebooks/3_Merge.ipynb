{
 "cells": [
  {
   "cell_type": "code",
   "execution_count": 1,
   "metadata": {},
   "outputs": [],
   "source": [
    "%matplotlib inline\n",
    "\n",
    "\n",
    "\n",
    "import pandas as pd\n",
    "import requests\n",
    "import re\n",
    "import ast\n",
    "import numpy as np\n",
    "import seaborn as sns\n",
    "\n",
    "from collections import defaultdict\n"
   ]
  },
  {
   "cell_type": "code",
   "execution_count": 2,
   "metadata": {},
   "outputs": [],
   "source": [
    "ccc_df = pd.read_csv(\"data/ccc_blm.csv\")\n",
    "ele_df = pd.read_csv(\"data/ele.csv\")\n",
    "cl_df = pd.read_csv(\"data/cl_blm.csv\")\n",
    "nyt_df = pd.read_csv(\"data/nytimes_blm.csv\")\n",
    "\n",
    "wiki_df = pd.read_csv(\"data/wiki_blm.csv\")\n",
    "\n",
    "\n",
    "dfs = [ccc_df, ele_df, cl_df, wiki_df, nyt_df]"
   ]
  },
  {
   "cell_type": "code",
   "execution_count": 3,
   "metadata": {
    "scrolled": true
   },
   "outputs": [
    {
     "data": {
      "text/html": [
       "<div>\n",
       "<style scoped>\n",
       "    .dataframe tbody tr th:only-of-type {\n",
       "        vertical-align: middle;\n",
       "    }\n",
       "\n",
       "    .dataframe tbody tr th {\n",
       "        vertical-align: top;\n",
       "    }\n",
       "\n",
       "    .dataframe thead th {\n",
       "        text-align: right;\n",
       "    }\n",
       "</style>\n",
       "<table border=\"1\" class=\"dataframe\">\n",
       "  <thead>\n",
       "    <tr style=\"text-align: right;\">\n",
       "      <th></th>\n",
       "      <th>id</th>\n",
       "      <th>date</th>\n",
       "      <th>city_st</th>\n",
       "      <th>location</th>\n",
       "      <th>size</th>\n",
       "      <th>size_str</th>\n",
       "      <th>urls</th>\n",
       "      <th>collection</th>\n",
       "      <th>Unnamed: 0</th>\n",
       "    </tr>\n",
       "  </thead>\n",
       "  <tbody>\n",
       "    <tr>\n",
       "      <th>0</th>\n",
       "      <td>NaN</td>\n",
       "      <td>2020-05-03</td>\n",
       "      <td>Hood River, OR</td>\n",
       "      <td>State St and 4th Streed, Hood River, OR</td>\n",
       "      <td>250.0</td>\n",
       "      <td>250</td>\n",
       "      <td>['https://www.hoodrivernews.com/news/rally-sil...</td>\n",
       "      <td>CCC</td>\n",
       "      <td>NaN</td>\n",
       "    </tr>\n",
       "    <tr>\n",
       "      <th>1</th>\n",
       "      <td>NaN</td>\n",
       "      <td>2020-05-25</td>\n",
       "      <td>Tulsa, OK</td>\n",
       "      <td>Interstate 44, Tulsa, OK</td>\n",
       "      <td>NaN</td>\n",
       "      <td>NaN</td>\n",
       "      <td>['https://kfor.com/news/local/protester-hit-by...</td>\n",
       "      <td>CCC</td>\n",
       "      <td>NaN</td>\n",
       "    </tr>\n",
       "    <tr>\n",
       "      <th>2</th>\n",
       "      <td>NaN</td>\n",
       "      <td>2020-05-26</td>\n",
       "      <td>Houston, TX</td>\n",
       "      <td>Discovery Green, Houston, TX</td>\n",
       "      <td>NaN</td>\n",
       "      <td>NaN</td>\n",
       "      <td>['https://www.houstonchronicle.com/news/housto...</td>\n",
       "      <td>CCC</td>\n",
       "      <td>NaN</td>\n",
       "    </tr>\n",
       "    <tr>\n",
       "      <th>3</th>\n",
       "      <td>NaN</td>\n",
       "      <td>2020-05-26</td>\n",
       "      <td>Minneapolis, MN</td>\n",
       "      <td>site of Floyd's arrest; Minneapolis Police Dep...</td>\n",
       "      <td>2000.0</td>\n",
       "      <td>several thousand</td>\n",
       "      <td>['https://www.usatoday.com/story/news/nation/2...</td>\n",
       "      <td>CCC</td>\n",
       "      <td>NaN</td>\n",
       "    </tr>\n",
       "    <tr>\n",
       "      <th>4</th>\n",
       "      <td>NaN</td>\n",
       "      <td>2020-05-26</td>\n",
       "      <td>Minneapolis, MN</td>\n",
       "      <td>outside third precinct, Minneapolis, MN</td>\n",
       "      <td>200.0</td>\n",
       "      <td>several hundred</td>\n",
       "      <td>['https://www.usatoday.com/story/news/nation/2...</td>\n",
       "      <td>CCC</td>\n",
       "      <td>NaN</td>\n",
       "    </tr>\n",
       "    <tr>\n",
       "      <th>...</th>\n",
       "      <td>...</td>\n",
       "      <td>...</td>\n",
       "      <td>...</td>\n",
       "      <td>...</td>\n",
       "      <td>...</td>\n",
       "      <td>...</td>\n",
       "      <td>...</td>\n",
       "      <td>...</td>\n",
       "      <td>...</td>\n",
       "    </tr>\n",
       "    <tr>\n",
       "      <th>8983</th>\n",
       "      <td>NaN</td>\n",
       "      <td>06/08/2020</td>\n",
       "      <td>Tupper Lake, NY</td>\n",
       "      <td>NaN</td>\n",
       "      <td>NaN</td>\n",
       "      <td>NaN</td>\n",
       "      <td>['https://www.adirondackdailyenterprise.com/ne...</td>\n",
       "      <td>New York Times</td>\n",
       "      <td>NaN</td>\n",
       "    </tr>\n",
       "    <tr>\n",
       "      <th>8984</th>\n",
       "      <td>NaN</td>\n",
       "      <td>06/08/2020</td>\n",
       "      <td>Delmar, NY</td>\n",
       "      <td>NaN</td>\n",
       "      <td>NaN</td>\n",
       "      <td>NaN</td>\n",
       "      <td>['https://www.timesunion.com/news/article/Rall...</td>\n",
       "      <td>New York Times</td>\n",
       "      <td>NaN</td>\n",
       "    </tr>\n",
       "    <tr>\n",
       "      <th>8985</th>\n",
       "      <td>NaN</td>\n",
       "      <td>06/08/2020</td>\n",
       "      <td>Clifton Park, NY</td>\n",
       "      <td>NaN</td>\n",
       "      <td>NaN</td>\n",
       "      <td>NaN</td>\n",
       "      <td>['https://cbs6albany.com/news/local/high-schoo...</td>\n",
       "      <td>New York Times</td>\n",
       "      <td>NaN</td>\n",
       "    </tr>\n",
       "    <tr>\n",
       "      <th>8986</th>\n",
       "      <td>NaN</td>\n",
       "      <td>06/08/2020</td>\n",
       "      <td>Claremont, NH</td>\n",
       "      <td>NaN</td>\n",
       "      <td>NaN</td>\n",
       "      <td>NaN</td>\n",
       "      <td>['https://www.youtube.com/watch?v=gR8IeATEUzY']</td>\n",
       "      <td>New York Times</td>\n",
       "      <td>NaN</td>\n",
       "    </tr>\n",
       "    <tr>\n",
       "      <th>8987</th>\n",
       "      <td>NaN</td>\n",
       "      <td>06/08/2020</td>\n",
       "      <td>Mahomet, IL</td>\n",
       "      <td>NaN</td>\n",
       "      <td>NaN</td>\n",
       "      <td>NaN</td>\n",
       "      <td>['https://www.news-gazette.com/news/black-live...</td>\n",
       "      <td>New York Times</td>\n",
       "      <td>NaN</td>\n",
       "    </tr>\n",
       "  </tbody>\n",
       "</table>\n",
       "<p>8988 rows × 9 columns</p>\n",
       "</div>"
      ],
      "text/plain": [
       "      id        date           city_st  \\\n",
       "0    NaN  2020-05-03    Hood River, OR   \n",
       "1    NaN  2020-05-25         Tulsa, OK   \n",
       "2    NaN  2020-05-26       Houston, TX   \n",
       "3    NaN  2020-05-26   Minneapolis, MN   \n",
       "4    NaN  2020-05-26   Minneapolis, MN   \n",
       "...   ..         ...               ...   \n",
       "8983 NaN  06/08/2020   Tupper Lake, NY   \n",
       "8984 NaN  06/08/2020        Delmar, NY   \n",
       "8985 NaN  06/08/2020  Clifton Park, NY   \n",
       "8986 NaN  06/08/2020     Claremont, NH   \n",
       "8987 NaN  06/08/2020       Mahomet, IL   \n",
       "\n",
       "                                               location    size  \\\n",
       "0               State St and 4th Streed, Hood River, OR   250.0   \n",
       "1                              Interstate 44, Tulsa, OK     NaN   \n",
       "2                          Discovery Green, Houston, TX     NaN   \n",
       "3     site of Floyd's arrest; Minneapolis Police Dep...  2000.0   \n",
       "4               outside third precinct, Minneapolis, MN   200.0   \n",
       "...                                                 ...     ...   \n",
       "8983                                                NaN     NaN   \n",
       "8984                                                NaN     NaN   \n",
       "8985                                                NaN     NaN   \n",
       "8986                                                NaN     NaN   \n",
       "8987                                                NaN     NaN   \n",
       "\n",
       "              size_str                                               urls  \\\n",
       "0                  250  ['https://www.hoodrivernews.com/news/rally-sil...   \n",
       "1                  NaN  ['https://kfor.com/news/local/protester-hit-by...   \n",
       "2                  NaN  ['https://www.houstonchronicle.com/news/housto...   \n",
       "3     several thousand  ['https://www.usatoday.com/story/news/nation/2...   \n",
       "4      several hundred  ['https://www.usatoday.com/story/news/nation/2...   \n",
       "...                ...                                                ...   \n",
       "8983               NaN  ['https://www.adirondackdailyenterprise.com/ne...   \n",
       "8984               NaN  ['https://www.timesunion.com/news/article/Rall...   \n",
       "8985               NaN  ['https://cbs6albany.com/news/local/high-schoo...   \n",
       "8986               NaN    ['https://www.youtube.com/watch?v=gR8IeATEUzY']   \n",
       "8987               NaN  ['https://www.news-gazette.com/news/black-live...   \n",
       "\n",
       "          collection  Unnamed: 0  \n",
       "0                CCC         NaN  \n",
       "1                CCC         NaN  \n",
       "2                CCC         NaN  \n",
       "3                CCC         NaN  \n",
       "4                CCC         NaN  \n",
       "...              ...         ...  \n",
       "8983  New York Times         NaN  \n",
       "8984  New York Times         NaN  \n",
       "8985  New York Times         NaN  \n",
       "8986  New York Times         NaN  \n",
       "8987  New York Times         NaN  \n",
       "\n",
       "[8988 rows x 9 columns]"
      ]
     },
     "metadata": {},
     "output_type": "display_data"
    }
   ],
   "source": [
    "df = pd.concat(dfs).reset_index(drop=True)\n",
    "display(df)"
   ]
  },
  {
   "cell_type": "code",
   "execution_count": 4,
   "metadata": {},
   "outputs": [
    {
     "data": {
      "text/plain": [
       "New York Times    2633\n",
       "Count Love        2539\n",
       "CCC               2176\n",
       "Wikipedia          860\n",
       "Elephrame          780\n",
       "Name: collection, dtype: int64"
      ]
     },
     "execution_count": 4,
     "metadata": {},
     "output_type": "execute_result"
    }
   ],
   "source": [
    "df['collection'].value_counts()"
   ]
  },
  {
   "cell_type": "code",
   "execution_count": 5,
   "metadata": {},
   "outputs": [],
   "source": [
    "date_start = pd.to_datetime('2020-05-25')\n",
    "df = df[pd.to_datetime(df['date']) > date_start].copy()\n",
    "df = df[pd.to_datetime(df['date']) <= pd.Timestamp.today()].copy()\n"
   ]
  },
  {
   "cell_type": "code",
   "execution_count": 6,
   "metadata": {},
   "outputs": [
    {
     "data": {
      "text/plain": [
       "2020-05-31    1360\n",
       "2020-05-30    1112\n",
       "2020-06-01     900\n",
       "2020-06-06     819\n",
       "2020-06-02     760\n",
       "2020-06-03     595\n",
       "2020-06-05     576\n",
       "2020-06-07     523\n",
       "2020-06-04     455\n",
       "2020-05-29     398\n",
       "2020-06-08     161\n",
       "2020-06-12     138\n",
       "2020-05-28     135\n",
       "2020-06-13     124\n",
       "2020-06-09      95\n",
       "2020-06-10      82\n",
       "2020-06-11      55\n",
       "2020-05-27      32\n",
       "2020-05-26      21\n",
       "2020-06-14      18\n",
       "Name: date, dtype: int64"
      ]
     },
     "execution_count": 6,
     "metadata": {},
     "output_type": "execute_result"
    }
   ],
   "source": [
    "df['date'] = pd.to_datetime(df['date']).dt.date\n",
    "df['date'].value_counts()"
   ]
  },
  {
   "cell_type": "code",
   "execution_count": 7,
   "metadata": {},
   "outputs": [
    {
     "data": {
      "text/plain": [
       "8359"
      ]
     },
     "execution_count": 7,
     "metadata": {},
     "output_type": "execute_result"
    }
   ],
   "source": [
    "# fix stay commas\n",
    "\n",
    "df['city_st'] = df['city_st'].str.replace(' , ', ', ')\n",
    "df['city_st'] = df['city_st'].str.strip()\n",
    "\n",
    "\n",
    "len(df)"
   ]
  },
  {
   "cell_type": "code",
   "execution_count": 8,
   "metadata": {},
   "outputs": [
    {
     "name": "stdout",
     "output_type": "stream",
     "text": [
      ", England\n",
      ", England\n",
      ", Canada\n",
      ", Uganda\n",
      ", England\n",
      ", England\n",
      ", England\n",
      ", England\n",
      ", England\n",
      ", Canada\n",
      ", Belgium\n",
      ", Hungary\n",
      ", Australia\n",
      ", England\n",
      ", England\n",
      ", England\n",
      ", Scotland\n",
      ", Scotland\n",
      ", Canada\n",
      ", Canada\n",
      ", England\n",
      ", Canada\n",
      ", England\n",
      ", England\n",
      ", Canada\n",
      ", Australia\n",
      ", Canada\n",
      ", England\n",
      ", England\n",
      ", Finland\n",
      ", Canada\n",
      ", Canada\n",
      ", Sweden\n",
      ", England\n",
      ", Canada\n",
      ", Canada\n",
      ", New Zealand\n",
      ", New Zealand\n",
      ", Canada\n",
      ", New Zealand\n",
      ", New Zealand\n",
      ", Canada\n",
      ", Wales\n",
      ", Canada\n",
      ", Denmark\n",
      ", England\n",
      ", England\n",
      ", England\n"
     ]
    },
    {
     "data": {
      "text/plain": [
       "8311"
      ]
     },
     "execution_count": 8,
     "metadata": {},
     "output_type": "execute_result"
    }
   ],
   "source": [
    "# eliminate non US events\n",
    "\n",
    "countries = [\n",
    "    \"Finland\",\n",
    "    \"England\",\n",
    "    \"Wales\",\n",
    "    \"Canada\",\n",
    "    \"Scotland\", 'Sweden', 'Ottowa'\n",
    "    \"Germany\", \"Netherlands\"\n",
    "    \"Ireland\", 'Sweden'\n",
    "    \"Netherlands\",\n",
    "    \"New Zealand\",\n",
    "    \"Denmark\",\n",
    "    \"Australia\",\n",
    "    \"Belgium\", \"Uganda\", 'Croatia'\n",
    "    \"France\", 'Hungary',\n",
    "]\n",
    "\n",
    "\n",
    "def in_us(city_st):\n",
    "    for c in countries:\n",
    "        c2 = \", \" + c\n",
    "        if c2 in city_st:\n",
    "            print(c2)\n",
    "            return False\n",
    "\n",
    "    return True\n",
    "\n",
    "\n",
    "df = df[df[\"city_st\"].apply(in_us)].copy()\n",
    "len(df)"
   ]
  },
  {
   "cell_type": "code",
   "execution_count": 9,
   "metadata": {},
   "outputs": [],
   "source": [
    "errors = {'Albuqeurque, NM' : 'Albuquerque, NM',\n",
    "         'Bilings, MT' : 'Billings, MT',\n",
    "         'Breckinridge, CO' : 'Breckinridge, CO',\n",
    "          \"Longbranch, NJ\" : \"Long Branch, NJ\",\n",
    "          'Lousiville, KY' : 'Louisville, KY',\n",
    "          'Merrick, New York' : 'Merrick, NY',\n",
    "          'Pittsfield Charter Township, MI' : 'Pittsfield, MI',\n",
    "          'Pittsfield Township, MI' : 'Pittsfield, MI',\n",
    "          'Phillipsburg, PA' : 'Philipsburg, PA',\n",
    "          'South Sacramento, CA' :  'Sacramento, CA',\n",
    "          'Shelbourne Falls, MA' : 'Shelburne Falls, MA',\n",
    "          'Tallahasee, FL' : 'Tallahassee, FL',\n",
    "          'Tampa Bay, FL' : \"Tampa, Fl\",\n",
    "          'Voorhees Township, NJ' : 'Voorhees, NJ',\n",
    "          'Warren Township, NJ' : 'Warren, NJ', \n",
    "          'Summerlin, NV' : 'Las Vegas, NV',\n",
    "          'Stockton, TX' : 'Fort Stockton, TX',\n",
    "          'Standford, CA' : 'Stanford, CA',\n",
    "        \n",
    "          \n",
    "         }\n",
    "\n",
    "for city in errors:\n",
    "    df['city_st'] = df['city_st'].str.replace(city, errors[city])"
   ]
  },
  {
   "cell_type": "code",
   "execution_count": 10,
   "metadata": {},
   "outputs": [],
   "source": [
    "#uniform saint to st\n",
    "df['city_st'] = df['city_st'].str.replace('Saint ', 'St. ')"
   ]
  },
  {
   "cell_type": "code",
   "execution_count": null,
   "metadata": {},
   "outputs": [],
   "source": []
  },
  {
   "cell_type": "code",
   "execution_count": 11,
   "metadata": {},
   "outputs": [],
   "source": [
    "df['events'] = 1\n",
    "df['size'] = df['size'].replace(0,np.nan)\n",
    "df['size_imp'] = df['size'].fillna(11)\n",
    "\n",
    "\n",
    "df = pd.concat([df, pd.get_dummies(df['collection'])], axis=1)"
   ]
  },
  {
   "cell_type": "code",
   "execution_count": 12,
   "metadata": {},
   "outputs": [
    {
     "name": "stderr",
     "output_type": "stream",
     "text": [
      "/Users/nealcaren/opt/anaconda3/envs/tmwp/lib/python3.8/site-packages/pandas/core/strings.py:1954: UserWarning: This pattern has match groups. To actually get the groups, use str.extract.\n",
      "  return func(self, *args, **kwargs)\n"
     ]
    }
   ],
   "source": [
    "# extract urls to make them variables\n",
    "\n",
    "def str_2_list(links):\n",
    "    return ast.literal_eval(links)\n",
    "\n",
    "df['url_list'] = df['urls'].apply(str_2_list)\n",
    "\n",
    "\n",
    "urls = set([item for sublist in df['url_list'].values for item in sublist])\n",
    "\n",
    "for url in urls:\n",
    "    df[url] = df['urls'].str.contains(url)"
   ]
  },
  {
   "cell_type": "markdown",
   "metadata": {},
   "source": [
    "First Pass at Aggregation"
   ]
  },
  {
   "cell_type": "code",
   "execution_count": 13,
   "metadata": {},
   "outputs": [],
   "source": [
    "df['size'] = df['size'].replace('hundreds', 200).replace('a  large crowd', np.nan).astype(float)"
   ]
  },
  {
   "cell_type": "code",
   "execution_count": 14,
   "metadata": {},
   "outputs": [],
   "source": [
    "# first sum by collection for multiple events by city\n",
    "df_cd = df.groupby(['collection', 'date', 'city_st']).sum().reset_index()"
   ]
  },
  {
   "cell_type": "code",
   "execution_count": 15,
   "metadata": {},
   "outputs": [],
   "source": [
    "df_cd['size_imp'] = df_cd['size'].fillna(11)"
   ]
  },
  {
   "cell_type": "code",
   "execution_count": 16,
   "metadata": {},
   "outputs": [],
   "source": [
    "for v in [\"CCC\", \n",
    "    \"Count Love\", \n",
    "    \"Elephrame\",\n",
    "         \"Wikipedia\",\n",
    "         \"New York Times\"]:\n",
    "    df_cd[v] = df_cd[v] > 0\n",
    "    df_cd[v] = df_cd[v].astype(int)"
   ]
  },
  {
   "cell_type": "code",
   "execution_count": 17,
   "metadata": {},
   "outputs": [],
   "source": [
    "\n",
    "aggregation = {\n",
    "    \"events\": \"max\",\n",
    "    \"size\": \"max\",\n",
    "    \"size_imp\" : \"max\",\n",
    "    \"CCC\" : \"max\",\n",
    "    \"Wikipedia\" : \"max\",\n",
    "    \"Count Love\" : \"max\",\n",
    "    \"Elephrame\" : \"max\",\n",
    "    \"New York Times\": \"max\"\n",
    "}\n",
    "\n",
    "\n",
    "for url in urls:\n",
    "    aggregation[url] = 'max'\n",
    "\n",
    "df_cd = df_cd.groupby([\"date\", \"city_st\"]).agg(aggregation).reset_index()"
   ]
  },
  {
   "cell_type": "code",
   "execution_count": 18,
   "metadata": {},
   "outputs": [],
   "source": [
    "# Create list of URLs\n",
    "\n",
    "index_dict = defaultdict(list)\n",
    "\n",
    "http_urls = [u for u in df_cd.keys() if 'http' in u]\n",
    "\n",
    "for url in http_urls:\n",
    "    for i in df_cd[df_cd[url] == True].index.values:\n",
    "        index_dict[i].append(url)\n",
    "\n",
    "url_df = pd.Series(index_dict).to_frame(name='urls')\n",
    "\n"
   ]
  },
  {
   "cell_type": "code",
   "execution_count": null,
   "metadata": {},
   "outputs": [],
   "source": []
  },
  {
   "cell_type": "code",
   "execution_count": 19,
   "metadata": {},
   "outputs": [],
   "source": [
    "keep = [\n",
    "    \"date\",\n",
    "    \"city_st\",\n",
    "    \"events\",\n",
    "    \"size\",\n",
    "    \"size_imp\",\n",
    "    \"CCC\",\n",
    "    \"Count Love\",\n",
    "    \"Elephrame\",\n",
    "    \"New York Times\",\n",
    "    \"Wikipedia\"\n",
    "\n",
    "]"
   ]
  },
  {
   "cell_type": "code",
   "execution_count": 20,
   "metadata": {},
   "outputs": [],
   "source": [
    "df_cd = df_cd[keep].merge(url_df, left_index=True, right_index=True)"
   ]
  },
  {
   "cell_type": "code",
   "execution_count": 21,
   "metadata": {},
   "outputs": [],
   "source": [
    "df_cd['size'] = df_cd['size'].replace(0, np.nan)\n",
    "df_cd['size_imp'] = df_cd['size'].replace(0, np.nan)\n",
    "df_cd['size_imp'] = df_cd['size'].fillna(11)"
   ]
  },
  {
   "cell_type": "code",
   "execution_count": null,
   "metadata": {},
   "outputs": [],
   "source": []
  },
  {
   "cell_type": "code",
   "execution_count": null,
   "metadata": {},
   "outputs": [],
   "source": []
  },
  {
   "cell_type": "code",
   "execution_count": 22,
   "metadata": {},
   "outputs": [],
   "source": [
    "\n",
    "\n",
    "df_cd.to_csv('../BLM-GFAABT.csv', index =False)\n",
    "\n",
    "\n"
   ]
  },
  {
   "cell_type": "code",
   "execution_count": 23,
   "metadata": {},
   "outputs": [
    {
     "name": "stdout",
     "output_type": "stream",
     "text": [
      "| date       |   cities |   Elephrame |   CCC |   Count Love |   New York Times |   Wikipedia |\n",
      "|:-----------|---------:|------------:|------:|-------------:|-----------------:|------------:|\n",
      "| 2020-05-26 |       11 |           1 |     6 |            7 |                6 |           0 |\n",
      "| 2020-05-27 |       19 |           0 |    10 |           11 |               11 |           0 |\n",
      "| 2020-05-28 |       62 |           0 |    36 |           41 |               41 |           9 |\n",
      "| 2020-05-29 |      180 |           1 |   117 |          127 |               94 |          39 |\n",
      "| 2020-05-30 |      466 |          37 |   226 |          323 |              337 |         126 |\n",
      "| 2020-05-31 |      665 |          90 |   214 |          391 |              460 |         155 |\n",
      "| 2020-06-01 |      528 |          45 |   158 |          238 |              330 |          93 |\n",
      "| 2020-06-02 |      482 |          39 |   172 |          149 |              296 |          56 |\n",
      "| 2020-06-03 |      382 |          70 |   124 |           80 |              233 |          47 |\n",
      "| 2020-06-04 |      328 |          39 |    67 |           98 |              193 |          43 |\n",
      "| 2020-06-05 |      357 |          85 |   130 |           92 |              172 |          31 |\n",
      "| 2020-06-06 |      516 |          52 |   227 |          146 |              264 |          42 |\n",
      "| 2020-06-07 |      323 |          62 |   115 |           93 |              150 |          17 |\n",
      "| 2020-06-08 |      100 |          15 |    26 |           50 |               33 |           5 |\n",
      "| 2020-06-09 |       67 |          14 |    24 |           35 |                0 |           6 |\n",
      "| 2020-06-10 |       54 |          36 |     9 |           18 |                0 |           2 |\n",
      "| 2020-06-11 |       43 |          12 |     3 |           27 |                0 |           3 |\n",
      "| 2020-06-12 |       90 |           5 |    37 |           56 |                0 |           6 |\n",
      "| 2020-06-13 |       79 |          11 |    22 |           53 |                0 |           1 |\n",
      "| 2020-06-14 |       15 |           4 |    10 |            2 |                0 |           0 |\n"
     ]
    }
   ],
   "source": [
    "temp = df_cd.groupby(['date','city_st']).agg({'events': 'count',\n",
    "                                            'Elephrame' : 'max',\n",
    "                                            'CCC': 'max',\n",
    "                                            'Count Love': 'max',\n",
    "                                              \"New York Times\" : 'max',\n",
    "                                             'Wikipedia' : 'max'}).reset_index()\n",
    "\n",
    "temp['cities'] = temp['events']\n",
    "print(temp.groupby('date')[['cities','Elephrame','CCC','Count Love', 'New York Times', 'Wikipedia']].sum().to_markdown())"
   ]
  },
  {
   "cell_type": "code",
   "execution_count": 24,
   "metadata": {},
   "outputs": [
    {
     "data": {
      "text/plain": [
       "'Cities:'"
      ]
     },
     "metadata": {},
     "output_type": "display_data"
    },
    {
     "data": {
      "text/plain": [
       "2592"
      ]
     },
     "metadata": {},
     "output_type": "display_data"
    }
   ],
   "source": [
    "display(\"Cities:\", len(df_cd['city_st'].value_counts()))"
   ]
  },
  {
   "cell_type": "code",
   "execution_count": 25,
   "metadata": {},
   "outputs": [
    {
     "name": "stdout",
     "output_type": "stream",
     "text": [
      "| date       |   events |\n",
      "|:-----------|---------:|\n",
      "| 2020-05-26 |       12 |\n",
      "| 2020-05-27 |       19 |\n",
      "| 2020-05-28 |       69 |\n",
      "| 2020-05-29 |      198 |\n",
      "| 2020-05-30 |      521 |\n",
      "| 2020-05-31 |      700 |\n",
      "| 2020-06-01 |      551 |\n",
      "| 2020-06-02 |      514 |\n",
      "| 2020-06-03 |      407 |\n",
      "| 2020-06-04 |      338 |\n",
      "| 2020-06-05 |      391 |\n",
      "| 2020-06-06 |      570 |\n",
      "| 2020-06-07 |      378 |\n",
      "| 2020-06-08 |      124 |\n",
      "| 2020-06-09 |       77 |\n",
      "| 2020-06-10 |       67 |\n",
      "| 2020-06-11 |       50 |\n",
      "| 2020-06-12 |      121 |\n",
      "| 2020-06-13 |      108 |\n",
      "| 2020-06-14 |       16 |\n"
     ]
    }
   ],
   "source": [
    "print(df_cd.groupby('date')['events'].sum().to_markdown())"
   ]
  },
  {
   "cell_type": "code",
   "execution_count": 26,
   "metadata": {},
   "outputs": [
    {
     "data": {
      "image/png": "[encoded data removed]",
      "text/plain": [
       "<Figure size 432x288 with 1 Axes>"
      ]
     },
     "metadata": {
      "needs_background": "light"
     },
     "output_type": "display_data"
    }
   ],
   "source": [
    "df_cd.groupby('date')['events'].sum().plot();"
   ]
  },
  {
   "cell_type": "code",
   "execution_count": 27,
   "metadata": {},
   "outputs": [
    {
     "data": {
      "image/png": "[encoded data removed]",
      "text/plain": [
       "<Figure size 432x288 with 1 Axes>"
      ]
     },
     "metadata": {
      "needs_background": "light"
     },
     "output_type": "display_data"
    }
   ],
   "source": [
    "df_cd.groupby('date')['size_imp'].sum().plot();"
   ]
  },
  {
   "cell_type": "code",
   "execution_count": 28,
   "metadata": {},
   "outputs": [
    {
     "data": {
      "text/plain": [
       "4767"
      ]
     },
     "execution_count": 28,
     "metadata": {},
     "output_type": "execute_result"
    }
   ],
   "source": [
    "df_cd['size_imp'].count()"
   ]
  },
  {
   "cell_type": "code",
   "execution_count": 29,
   "metadata": {},
   "outputs": [
    {
     "data": {
      "text/plain": [
       "'Events:'"
      ]
     },
     "metadata": {},
     "output_type": "display_data"
    },
    {
     "data": {
      "text/plain": [
       "5231"
      ]
     },
     "metadata": {},
     "output_type": "display_data"
    }
   ],
   "source": [
    "display('Events:',df_cd['events'].sum())"
   ]
  },
  {
   "cell_type": "code",
   "execution_count": 30,
   "metadata": {
    "scrolled": true
   },
   "outputs": [
    {
     "data": {
      "text/plain": [
       "'Size:'"
      ]
     },
     "metadata": {},
     "output_type": "display_data"
    },
    {
     "data": {
      "text/plain": [
       "1621980.2"
      ]
     },
     "metadata": {},
     "output_type": "display_data"
    }
   ],
   "source": [
    "display(\"Size:\",df_cd['size_imp'].sum())"
   ]
  },
  {
   "cell_type": "code",
   "execution_count": 31,
   "metadata": {},
   "outputs": [
    {
     "data": {
      "text/plain": [
       "count     2417.000000\n",
       "mean       660.376583\n",
       "std       2613.754005\n",
       "min          1.000000\n",
       "25%        100.000000\n",
       "50%        200.000000\n",
       "75%        400.000000\n",
       "max      60200.000000\n",
       "Name: size, dtype: float64"
      ]
     },
     "execution_count": 31,
     "metadata": {},
     "output_type": "execute_result"
    }
   ],
   "source": [
    "\n",
    "\n",
    "df_cd['size'].describe()"
   ]
  },
  {
   "cell_type": "code",
   "execution_count": 32,
   "metadata": {
    "scrolled": true
   },
   "outputs": [
    {
     "data": {
      "text/html": [
       "<div>\n",
       "<style scoped>\n",
       "    .dataframe tbody tr th:only-of-type {\n",
       "        vertical-align: middle;\n",
       "    }\n",
       "\n",
       "    .dataframe tbody tr th {\n",
       "        vertical-align: top;\n",
       "    }\n",
       "\n",
       "    .dataframe thead th {\n",
       "        text-align: right;\n",
       "    }\n",
       "</style>\n",
       "<table border=\"1\" class=\"dataframe\">\n",
       "  <thead>\n",
       "    <tr style=\"text-align: right;\">\n",
       "      <th></th>\n",
       "      <th>CCC</th>\n",
       "      <th>Count Love</th>\n",
       "      <th>Elephrame</th>\n",
       "      <th>New York Times</th>\n",
       "      <th>Wikipedia</th>\n",
       "      <th>events</th>\n",
       "    </tr>\n",
       "  </thead>\n",
       "  <tbody>\n",
       "    <tr>\n",
       "      <th>0</th>\n",
       "      <td>0</td>\n",
       "      <td>0</td>\n",
       "      <td>0</td>\n",
       "      <td>0</td>\n",
       "      <td>1</td>\n",
       "      <td>150</td>\n",
       "    </tr>\n",
       "    <tr>\n",
       "      <th>1</th>\n",
       "      <td>0</td>\n",
       "      <td>0</td>\n",
       "      <td>0</td>\n",
       "      <td>1</td>\n",
       "      <td>0</td>\n",
       "      <td>1194</td>\n",
       "    </tr>\n",
       "    <tr>\n",
       "      <th>2</th>\n",
       "      <td>0</td>\n",
       "      <td>0</td>\n",
       "      <td>0</td>\n",
       "      <td>1</td>\n",
       "      <td>1</td>\n",
       "      <td>142</td>\n",
       "    </tr>\n",
       "    <tr>\n",
       "      <th>3</th>\n",
       "      <td>0</td>\n",
       "      <td>0</td>\n",
       "      <td>1</td>\n",
       "      <td>0</td>\n",
       "      <td>0</td>\n",
       "      <td>230</td>\n",
       "    </tr>\n",
       "    <tr>\n",
       "      <th>4</th>\n",
       "      <td>0</td>\n",
       "      <td>0</td>\n",
       "      <td>1</td>\n",
       "      <td>1</td>\n",
       "      <td>0</td>\n",
       "      <td>56</td>\n",
       "    </tr>\n",
       "    <tr>\n",
       "      <th>5</th>\n",
       "      <td>0</td>\n",
       "      <td>0</td>\n",
       "      <td>1</td>\n",
       "      <td>1</td>\n",
       "      <td>1</td>\n",
       "      <td>16</td>\n",
       "    </tr>\n",
       "    <tr>\n",
       "      <th>6</th>\n",
       "      <td>0</td>\n",
       "      <td>1</td>\n",
       "      <td>0</td>\n",
       "      <td>0</td>\n",
       "      <td>0</td>\n",
       "      <td>670</td>\n",
       "    </tr>\n",
       "    <tr>\n",
       "      <th>7</th>\n",
       "      <td>0</td>\n",
       "      <td>1</td>\n",
       "      <td>0</td>\n",
       "      <td>0</td>\n",
       "      <td>1</td>\n",
       "      <td>31</td>\n",
       "    </tr>\n",
       "    <tr>\n",
       "      <th>8</th>\n",
       "      <td>0</td>\n",
       "      <td>1</td>\n",
       "      <td>0</td>\n",
       "      <td>1</td>\n",
       "      <td>0</td>\n",
       "      <td>339</td>\n",
       "    </tr>\n",
       "    <tr>\n",
       "      <th>9</th>\n",
       "      <td>0</td>\n",
       "      <td>1</td>\n",
       "      <td>0</td>\n",
       "      <td>1</td>\n",
       "      <td>1</td>\n",
       "      <td>90</td>\n",
       "    </tr>\n",
       "    <tr>\n",
       "      <th>10</th>\n",
       "      <td>0</td>\n",
       "      <td>1</td>\n",
       "      <td>1</td>\n",
       "      <td>0</td>\n",
       "      <td>0</td>\n",
       "      <td>62</td>\n",
       "    </tr>\n",
       "    <tr>\n",
       "      <th>11</th>\n",
       "      <td>0</td>\n",
       "      <td>1</td>\n",
       "      <td>1</td>\n",
       "      <td>0</td>\n",
       "      <td>1</td>\n",
       "      <td>2</td>\n",
       "    </tr>\n",
       "    <tr>\n",
       "      <th>12</th>\n",
       "      <td>0</td>\n",
       "      <td>1</td>\n",
       "      <td>1</td>\n",
       "      <td>1</td>\n",
       "      <td>0</td>\n",
       "      <td>39</td>\n",
       "    </tr>\n",
       "    <tr>\n",
       "      <th>13</th>\n",
       "      <td>0</td>\n",
       "      <td>1</td>\n",
       "      <td>1</td>\n",
       "      <td>1</td>\n",
       "      <td>1</td>\n",
       "      <td>13</td>\n",
       "    </tr>\n",
       "    <tr>\n",
       "      <th>14</th>\n",
       "      <td>1</td>\n",
       "      <td>0</td>\n",
       "      <td>0</td>\n",
       "      <td>0</td>\n",
       "      <td>0</td>\n",
       "      <td>617</td>\n",
       "    </tr>\n",
       "    <tr>\n",
       "      <th>15</th>\n",
       "      <td>1</td>\n",
       "      <td>0</td>\n",
       "      <td>0</td>\n",
       "      <td>0</td>\n",
       "      <td>1</td>\n",
       "      <td>15</td>\n",
       "    </tr>\n",
       "    <tr>\n",
       "      <th>16</th>\n",
       "      <td>1</td>\n",
       "      <td>0</td>\n",
       "      <td>0</td>\n",
       "      <td>1</td>\n",
       "      <td>0</td>\n",
       "      <td>193</td>\n",
       "    </tr>\n",
       "    <tr>\n",
       "      <th>17</th>\n",
       "      <td>1</td>\n",
       "      <td>0</td>\n",
       "      <td>0</td>\n",
       "      <td>1</td>\n",
       "      <td>1</td>\n",
       "      <td>43</td>\n",
       "    </tr>\n",
       "    <tr>\n",
       "      <th>18</th>\n",
       "      <td>1</td>\n",
       "      <td>0</td>\n",
       "      <td>1</td>\n",
       "      <td>0</td>\n",
       "      <td>0</td>\n",
       "      <td>52</td>\n",
       "    </tr>\n",
       "    <tr>\n",
       "      <th>19</th>\n",
       "      <td>1</td>\n",
       "      <td>0</td>\n",
       "      <td>1</td>\n",
       "      <td>0</td>\n",
       "      <td>1</td>\n",
       "      <td>5</td>\n",
       "    </tr>\n",
       "    <tr>\n",
       "      <th>20</th>\n",
       "      <td>1</td>\n",
       "      <td>0</td>\n",
       "      <td>1</td>\n",
       "      <td>1</td>\n",
       "      <td>0</td>\n",
       "      <td>9</td>\n",
       "    </tr>\n",
       "    <tr>\n",
       "      <th>21</th>\n",
       "      <td>1</td>\n",
       "      <td>0</td>\n",
       "      <td>1</td>\n",
       "      <td>1</td>\n",
       "      <td>1</td>\n",
       "      <td>8</td>\n",
       "    </tr>\n",
       "    <tr>\n",
       "      <th>22</th>\n",
       "      <td>1</td>\n",
       "      <td>1</td>\n",
       "      <td>0</td>\n",
       "      <td>0</td>\n",
       "      <td>0</td>\n",
       "      <td>226</td>\n",
       "    </tr>\n",
       "    <tr>\n",
       "      <th>23</th>\n",
       "      <td>1</td>\n",
       "      <td>1</td>\n",
       "      <td>0</td>\n",
       "      <td>0</td>\n",
       "      <td>1</td>\n",
       "      <td>20</td>\n",
       "    </tr>\n",
       "    <tr>\n",
       "      <th>24</th>\n",
       "      <td>1</td>\n",
       "      <td>1</td>\n",
       "      <td>0</td>\n",
       "      <td>1</td>\n",
       "      <td>0</td>\n",
       "      <td>298</td>\n",
       "    </tr>\n",
       "    <tr>\n",
       "      <th>25</th>\n",
       "      <td>1</td>\n",
       "      <td>1</td>\n",
       "      <td>0</td>\n",
       "      <td>1</td>\n",
       "      <td>1</td>\n",
       "      <td>121</td>\n",
       "    </tr>\n",
       "    <tr>\n",
       "      <th>26</th>\n",
       "      <td>1</td>\n",
       "      <td>1</td>\n",
       "      <td>1</td>\n",
       "      <td>0</td>\n",
       "      <td>0</td>\n",
       "      <td>65</td>\n",
       "    </tr>\n",
       "    <tr>\n",
       "      <th>27</th>\n",
       "      <td>1</td>\n",
       "      <td>1</td>\n",
       "      <td>1</td>\n",
       "      <td>0</td>\n",
       "      <td>1</td>\n",
       "      <td>2</td>\n",
       "    </tr>\n",
       "    <tr>\n",
       "      <th>28</th>\n",
       "      <td>1</td>\n",
       "      <td>1</td>\n",
       "      <td>1</td>\n",
       "      <td>1</td>\n",
       "      <td>0</td>\n",
       "      <td>36</td>\n",
       "    </tr>\n",
       "    <tr>\n",
       "      <th>29</th>\n",
       "      <td>1</td>\n",
       "      <td>1</td>\n",
       "      <td>1</td>\n",
       "      <td>1</td>\n",
       "      <td>1</td>\n",
       "      <td>23</td>\n",
       "    </tr>\n",
       "  </tbody>\n",
       "</table>\n",
       "</div>"
      ],
      "text/plain": [
       "    CCC  Count Love  Elephrame  New York Times  Wikipedia  events\n",
       "0     0           0          0               0          1     150\n",
       "1     0           0          0               1          0    1194\n",
       "2     0           0          0               1          1     142\n",
       "3     0           0          1               0          0     230\n",
       "4     0           0          1               1          0      56\n",
       "5     0           0          1               1          1      16\n",
       "6     0           1          0               0          0     670\n",
       "7     0           1          0               0          1      31\n",
       "8     0           1          0               1          0     339\n",
       "9     0           1          0               1          1      90\n",
       "10    0           1          1               0          0      62\n",
       "11    0           1          1               0          1       2\n",
       "12    0           1          1               1          0      39\n",
       "13    0           1          1               1          1      13\n",
       "14    1           0          0               0          0     617\n",
       "15    1           0          0               0          1      15\n",
       "16    1           0          0               1          0     193\n",
       "17    1           0          0               1          1      43\n",
       "18    1           0          1               0          0      52\n",
       "19    1           0          1               0          1       5\n",
       "20    1           0          1               1          0       9\n",
       "21    1           0          1               1          1       8\n",
       "22    1           1          0               0          0     226\n",
       "23    1           1          0               0          1      20\n",
       "24    1           1          0               1          0     298\n",
       "25    1           1          0               1          1     121\n",
       "26    1           1          1               0          0      65\n",
       "27    1           1          1               0          1       2\n",
       "28    1           1          1               1          0      36\n",
       "29    1           1          1               1          1      23"
      ]
     },
     "metadata": {},
     "output_type": "display_data"
    }
   ],
   "source": [
    "display(df_cd.groupby([\"CCC\", \"Count Love\", 'Elephrame','New York Times','Wikipedia'])['events'].count().reset_index())"
   ]
  },
  {
   "cell_type": "code",
   "execution_count": 33,
   "metadata": {},
   "outputs": [],
   "source": [
    "df_cd['city_st'].value_counts().to_frame().reset_index().sort_values(by='index').to_csv('cities.csv')"
   ]
  },
  {
   "cell_type": "code",
   "execution_count": null,
   "metadata": {},
   "outputs": [],
   "source": []
  }
 ],
 "metadata": {
  "kernelspec": {
   "display_name": "Python 3",
   "language": "python",
   "name": "python3"
  },
  "language_info": {
   "codemirror_mode": {
    "name": "ipython",
    "version": 3
   },
   "file_extension": ".py",
   "mimetype": "text/x-python",
   "name": "python",
   "nbconvert_exporter": "python",
   "pygments_lexer": "ipython3",
   "version": "3.8.3"
  }
 },
 "nbformat": 4,
 "nbformat_minor": 4
}
