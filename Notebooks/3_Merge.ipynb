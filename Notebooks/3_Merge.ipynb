{
 "cells": [
  {
   "cell_type": "code",
   "execution_count": 1,
   "metadata": {},
   "outputs": [],
   "source": [
    "%matplotlib inline\n",
    "\n",
    "\n",
    "\n",
    "import pandas as pd\n",
    "import requests\n",
    "import re\n",
    "import ast\n",
    "import numpy as np\n",
    "import seaborn as sns\n",
    "\n",
    "from collections import defaultdict\n"
   ]
  },
  {
   "cell_type": "code",
   "execution_count": 2,
   "metadata": {},
   "outputs": [],
   "source": [
    "ccc_df = pd.read_csv(\"data/ccc_blm.csv\")\n",
    "ele_df = pd.read_csv(\"data/ele.csv\")\n",
    "cl_df = pd.read_csv(\"data/cl_blm.csv\")\n",
    "nyt_df = pd.read_csv(\"data/nytimes_blm.csv\")\n",
    "\n",
    "wiki_df = pd.read_csv(\"data/wiki_blm.csv\")\n",
    "\n",
    "\n",
    "dfs = [ccc_df, ele_df, cl_df, wiki_df, nyt_df]"
   ]
  },
  {
   "cell_type": "code",
   "execution_count": 3,
   "metadata": {
    "scrolled": true
   },
   "outputs": [
    {
     "data": {
      "text/html": [
       "<div>\n",
       "<style scoped>\n",
       "    .dataframe tbody tr th:only-of-type {\n",
       "        vertical-align: middle;\n",
       "    }\n",
       "\n",
       "    .dataframe tbody tr th {\n",
       "        vertical-align: top;\n",
       "    }\n",
       "\n",
       "    .dataframe thead th {\n",
       "        text-align: right;\n",
       "    }\n",
       "</style>\n",
       "<table border=\"1\" class=\"dataframe\">\n",
       "  <thead>\n",
       "    <tr style=\"text-align: right;\">\n",
       "      <th></th>\n",
       "      <th>id</th>\n",
       "      <th>date</th>\n",
       "      <th>city_st</th>\n",
       "      <th>location</th>\n",
       "      <th>size</th>\n",
       "      <th>size_str</th>\n",
       "      <th>urls</th>\n",
       "      <th>collection</th>\n",
       "      <th>Unnamed: 0</th>\n",
       "    </tr>\n",
       "  </thead>\n",
       "  <tbody>\n",
       "    <tr>\n",
       "      <th>0</th>\n",
       "      <td>NaN</td>\n",
       "      <td>2020-05-25</td>\n",
       "      <td>Tulsa, OK</td>\n",
       "      <td>Interstate 44, Tulsa, OK</td>\n",
       "      <td>NaN</td>\n",
       "      <td>NaN</td>\n",
       "      <td>['https://kfor.com/news/local/protester-hit-by...</td>\n",
       "      <td>CCC</td>\n",
       "      <td>NaN</td>\n",
       "    </tr>\n",
       "    <tr>\n",
       "      <th>1</th>\n",
       "      <td>NaN</td>\n",
       "      <td>2020-05-30</td>\n",
       "      <td>Jacksonville, FA</td>\n",
       "      <td>Downtown, Jacksonville, FA</td>\n",
       "      <td>2000.0</td>\n",
       "      <td>thousands</td>\n",
       "      <td>['https://www.news4jax.com/news/local/2020/05/...</td>\n",
       "      <td>CCC</td>\n",
       "      <td>NaN</td>\n",
       "    </tr>\n",
       "    <tr>\n",
       "      <th>2</th>\n",
       "      <td>NaN</td>\n",
       "      <td>2020-05-26</td>\n",
       "      <td>Hammond, IN</td>\n",
       "      <td>Hammond Police Department, Hammond, IN</td>\n",
       "      <td>NaN</td>\n",
       "      <td>NaN</td>\n",
       "      <td>['https://www.nwitimes.com/news/local/watch-no...</td>\n",
       "      <td>CCC</td>\n",
       "      <td>NaN</td>\n",
       "    </tr>\n",
       "    <tr>\n",
       "      <th>3</th>\n",
       "      <td>NaN</td>\n",
       "      <td>2020-05-26</td>\n",
       "      <td>Houston, TX</td>\n",
       "      <td>Discovery Green, Houston, TX</td>\n",
       "      <td>NaN</td>\n",
       "      <td>NaN</td>\n",
       "      <td>['https://www.houstonchronicle.com/news/housto...</td>\n",
       "      <td>CCC</td>\n",
       "      <td>NaN</td>\n",
       "    </tr>\n",
       "    <tr>\n",
       "      <th>4</th>\n",
       "      <td>NaN</td>\n",
       "      <td>2020-05-26</td>\n",
       "      <td>Los Angeles, CA</td>\n",
       "      <td>Downtown, Los Angeles, CA</td>\n",
       "      <td>NaN</td>\n",
       "      <td>NaN</td>\n",
       "      <td>['https://www.latimes.com/california/story/202...</td>\n",
       "      <td>CCC</td>\n",
       "      <td>NaN</td>\n",
       "    </tr>\n",
       "    <tr>\n",
       "      <th>...</th>\n",
       "      <td>...</td>\n",
       "      <td>...</td>\n",
       "      <td>...</td>\n",
       "      <td>...</td>\n",
       "      <td>...</td>\n",
       "      <td>...</td>\n",
       "      <td>...</td>\n",
       "      <td>...</td>\n",
       "      <td>...</td>\n",
       "    </tr>\n",
       "    <tr>\n",
       "      <th>11320</th>\n",
       "      <td>NaN</td>\n",
       "      <td>06/08/2020</td>\n",
       "      <td>Tupper Lake, NY</td>\n",
       "      <td>NaN</td>\n",
       "      <td>NaN</td>\n",
       "      <td>NaN</td>\n",
       "      <td>['https://www.adirondackdailyenterprise.com/ne...</td>\n",
       "      <td>New York Times</td>\n",
       "      <td>NaN</td>\n",
       "    </tr>\n",
       "    <tr>\n",
       "      <th>11321</th>\n",
       "      <td>NaN</td>\n",
       "      <td>06/08/2020</td>\n",
       "      <td>Delmar, NY</td>\n",
       "      <td>NaN</td>\n",
       "      <td>NaN</td>\n",
       "      <td>NaN</td>\n",
       "      <td>['https://www.timesunion.com/news/article/Rall...</td>\n",
       "      <td>New York Times</td>\n",
       "      <td>NaN</td>\n",
       "    </tr>\n",
       "    <tr>\n",
       "      <th>11322</th>\n",
       "      <td>NaN</td>\n",
       "      <td>06/08/2020</td>\n",
       "      <td>Clifton Park, NY</td>\n",
       "      <td>NaN</td>\n",
       "      <td>NaN</td>\n",
       "      <td>NaN</td>\n",
       "      <td>['https://cbs6albany.com/news/local/high-schoo...</td>\n",
       "      <td>New York Times</td>\n",
       "      <td>NaN</td>\n",
       "    </tr>\n",
       "    <tr>\n",
       "      <th>11323</th>\n",
       "      <td>NaN</td>\n",
       "      <td>06/08/2020</td>\n",
       "      <td>Claremont, NH</td>\n",
       "      <td>NaN</td>\n",
       "      <td>NaN</td>\n",
       "      <td>NaN</td>\n",
       "      <td>['https://www.youtube.com/watch?v=gR8IeATEUzY']</td>\n",
       "      <td>New York Times</td>\n",
       "      <td>NaN</td>\n",
       "    </tr>\n",
       "    <tr>\n",
       "      <th>11324</th>\n",
       "      <td>NaN</td>\n",
       "      <td>06/08/2020</td>\n",
       "      <td>Mahomet, IL</td>\n",
       "      <td>NaN</td>\n",
       "      <td>NaN</td>\n",
       "      <td>NaN</td>\n",
       "      <td>['https://www.news-gazette.com/news/black-live...</td>\n",
       "      <td>New York Times</td>\n",
       "      <td>NaN</td>\n",
       "    </tr>\n",
       "  </tbody>\n",
       "</table>\n",
       "<p>11325 rows × 9 columns</p>\n",
       "</div>"
      ],
      "text/plain": [
       "       id        date           city_st  \\\n",
       "0     NaN  2020-05-25         Tulsa, OK   \n",
       "1     NaN  2020-05-30  Jacksonville, FA   \n",
       "2     NaN  2020-05-26       Hammond, IN   \n",
       "3     NaN  2020-05-26       Houston, TX   \n",
       "4     NaN  2020-05-26   Los Angeles, CA   \n",
       "...    ..         ...               ...   \n",
       "11320 NaN  06/08/2020   Tupper Lake, NY   \n",
       "11321 NaN  06/08/2020        Delmar, NY   \n",
       "11322 NaN  06/08/2020  Clifton Park, NY   \n",
       "11323 NaN  06/08/2020     Claremont, NH   \n",
       "11324 NaN  06/08/2020       Mahomet, IL   \n",
       "\n",
       "                                     location    size   size_str  \\\n",
       "0                    Interstate 44, Tulsa, OK     NaN        NaN   \n",
       "1                  Downtown, Jacksonville, FA  2000.0  thousands   \n",
       "2      Hammond Police Department, Hammond, IN     NaN        NaN   \n",
       "3                Discovery Green, Houston, TX     NaN        NaN   \n",
       "4                   Downtown, Los Angeles, CA     NaN        NaN   \n",
       "...                                       ...     ...        ...   \n",
       "11320                                     NaN     NaN        NaN   \n",
       "11321                                     NaN     NaN        NaN   \n",
       "11322                                     NaN     NaN        NaN   \n",
       "11323                                     NaN     NaN        NaN   \n",
       "11324                                     NaN     NaN        NaN   \n",
       "\n",
       "                                                    urls      collection  \\\n",
       "0      ['https://kfor.com/news/local/protester-hit-by...             CCC   \n",
       "1      ['https://www.news4jax.com/news/local/2020/05/...             CCC   \n",
       "2      ['https://www.nwitimes.com/news/local/watch-no...             CCC   \n",
       "3      ['https://www.houstonchronicle.com/news/housto...             CCC   \n",
       "4      ['https://www.latimes.com/california/story/202...             CCC   \n",
       "...                                                  ...             ...   \n",
       "11320  ['https://www.adirondackdailyenterprise.com/ne...  New York Times   \n",
       "11321  ['https://www.timesunion.com/news/article/Rall...  New York Times   \n",
       "11322  ['https://cbs6albany.com/news/local/high-schoo...  New York Times   \n",
       "11323    ['https://www.youtube.com/watch?v=gR8IeATEUzY']  New York Times   \n",
       "11324  ['https://www.news-gazette.com/news/black-live...  New York Times   \n",
       "\n",
       "       Unnamed: 0  \n",
       "0             NaN  \n",
       "1             NaN  \n",
       "2             NaN  \n",
       "3             NaN  \n",
       "4             NaN  \n",
       "...           ...  \n",
       "11320         NaN  \n",
       "11321         NaN  \n",
       "11322         NaN  \n",
       "11323         NaN  \n",
       "11324         NaN  \n",
       "\n",
       "[11325 rows x 9 columns]"
      ]
     },
     "metadata": {},
     "output_type": "display_data"
    }
   ],
   "source": [
    "df = pd.concat(dfs).reset_index(drop=True)\n",
    "display(df)"
   ]
  },
  {
   "cell_type": "code",
   "execution_count": 4,
   "metadata": {},
   "outputs": [
    {
     "data": {
      "text/plain": [
       "CCC               3521\n",
       "Count Love        3467\n",
       "New York Times    2633\n",
       "Wikipedia          924\n",
       "Elephrame          780\n",
       "Name: collection, dtype: int64"
      ]
     },
     "execution_count": 4,
     "metadata": {},
     "output_type": "execute_result"
    }
   ],
   "source": [
    "df['collection'].value_counts()"
   ]
  },
  {
   "cell_type": "code",
   "execution_count": 5,
   "metadata": {},
   "outputs": [
    {
     "data": {
      "text/plain": [
       "7907   2002-06-01\n",
       "4301   2017-02-28\n",
       "4302   2017-03-06\n",
       "4303   2017-03-07\n",
       "4304   2017-03-19\n",
       "          ...    \n",
       "3520   2020-06-27\n",
       "8687   2030-05-29\n",
       "8627   2031-05-30\n",
       "8683   2031-05-30\n",
       "7793   2040-06-01\n",
       "Name: date, Length: 11160, dtype: datetime64[ns]"
      ]
     },
     "execution_count": 5,
     "metadata": {},
     "output_type": "execute_result"
    }
   ],
   "source": [
    "pd.to_datetime(df['date'], errors='ignore').dropna().sort_values()"
   ]
  },
  {
   "cell_type": "code",
   "execution_count": null,
   "metadata": {},
   "outputs": [],
   "source": []
  },
  {
   "cell_type": "code",
   "execution_count": 6,
   "metadata": {},
   "outputs": [],
   "source": [
    "date_start = pd.to_datetime('2020-05-25')\n",
    "df = df[pd.to_datetime(df['date'], errors='ignore') > date_start].copy()\n",
    "df = df[pd.to_datetime(df['date'], errors='ignore') <= pd.Timestamp.today()].copy()\n"
   ]
  },
  {
   "cell_type": "code",
   "execution_count": 7,
   "metadata": {},
   "outputs": [
    {
     "data": {
      "text/plain": [
       "2020-05-31    1360\n",
       "2020-05-30    1156\n",
       "2020-06-01    1013\n",
       "2020-06-02     976\n",
       "2020-06-06     955\n",
       "2020-06-03     797\n",
       "2020-06-05     677\n",
       "2020-06-07     603\n",
       "2020-06-04     588\n",
       "2020-05-29     419\n",
       "2020-06-13     339\n",
       "2020-06-19     297\n",
       "2020-06-12     220\n",
       "2020-06-14     217\n",
       "2020-06-08     180\n",
       "2020-05-28     142\n",
       "2020-06-09     111\n",
       "2020-06-10     105\n",
       "2020-06-11      93\n",
       "2020-06-21      42\n",
       "2020-06-16      39\n",
       "2020-06-18      38\n",
       "2020-06-20      36\n",
       "2020-06-17      36\n",
       "2020-05-27      33\n",
       "2020-06-15      33\n",
       "2020-05-26      21\n",
       "2020-06-22       3\n",
       "Name: date, dtype: int64"
      ]
     },
     "execution_count": 7,
     "metadata": {},
     "output_type": "execute_result"
    }
   ],
   "source": [
    "df['date'] = pd.to_datetime(df['date']).dt.date\n",
    "df['date'].value_counts()"
   ]
  },
  {
   "cell_type": "code",
   "execution_count": 8,
   "metadata": {},
   "outputs": [
    {
     "data": {
      "text/plain": [
       "10529"
      ]
     },
     "execution_count": 8,
     "metadata": {},
     "output_type": "execute_result"
    }
   ],
   "source": [
    "# fix stay commas\n",
    "\n",
    "df['city_st'] = df['city_st'].str.replace(' , ', ', ')\n",
    "df['city_st'] = df['city_st'].str.strip()\n",
    "\n",
    "\n",
    "len(df)"
   ]
  },
  {
   "cell_type": "code",
   "execution_count": 9,
   "metadata": {},
   "outputs": [
    {
     "name": "stdout",
     "output_type": "stream",
     "text": [
      "Rickmansworth, England\n",
      "Harrogate, England\n",
      "Cobham, England\n",
      "Haverfordwest, Wales\n",
      "British Columbia, Canada\n",
      "Québec, Canada\n",
      "Manitoba, Canada\n",
      "Alberta, Canada\n",
      "Welwyn Garden City, England\n",
      "Aberdeen, Scotland\n",
      "Brighton, England\n",
      "Ulm, Germany\n",
      "London, England\n",
      "Guildford, England\n",
      "Nova Scotia, Canada\n",
      "Kampala, Uganda\n",
      "Crawley, England\n",
      "Cheltenham, England\n",
      "Cologne, Germany\n",
      "Bonn, Germany\n",
      "Coventry, England\n",
      "Coventry, England\n",
      "Horsham, England\n",
      "Northwest Territories, Canada\n",
      "Brussels, Belgium\n",
      "Budapest, Hungary\n",
      "Cairns, Australia\n",
      "London, England\n",
      "London, England\n",
      "Bristol, England\n",
      "Glasgow, Scotland\n",
      "Edinburgh, Scotland\n",
      "Flensburg, Germany\n",
      "Cologne, Germany\n",
      "Bonn, Germany\n",
      "Hamburg, Germany\n",
      "Munich, Germany\n",
      "Berlin, Germany\n",
      "Alberta, Canada\n",
      "Saskatchewan, Canada\n",
      "London, England\n",
      "Alberta, Canada\n",
      "Redditch, England\n",
      "London, England\n",
      "Ontario, Canada\n",
      "Canberra, Australia\n",
      "Alberta, Canada\n",
      "Lincoln, England\n",
      "Hull, England\n",
      "London, England\n",
      "Helsinki, Finland\n",
      "Alberta, Canada\n",
      "Alberta, Canada\n",
      "Stockholm, Sweden\n",
      "London, England\n",
      "Alberta, Canada\n",
      "Alberta, Canada\n",
      "Paris, France\n"
     ]
    },
    {
     "data": {
      "text/plain": [
       "10471"
      ]
     },
     "execution_count": 9,
     "metadata": {},
     "output_type": "execute_result"
    }
   ],
   "source": [
    "# eliminate non US events\n",
    "\n",
    "countries = [\n",
    "    \"Finland\",\n",
    "    \"England\", \"France\", \"Germany\",\n",
    "    \"Wales\",\n",
    "    \"Canada\",\n",
    "    \"Scotland\", 'Sweden', 'Ottowa'\n",
    "    \"Germany\", \"Netherlands\"\n",
    "    \"Ireland\", 'Sweden'\n",
    "    \"Netherlands\",\n",
    "    \"New Zealand\",\n",
    "    \"Denmark\",\n",
    "    \"Australia\",\n",
    "    \"Belgium\", \"Uganda\", 'Croatia'\n",
    "    \"France\", 'Hungary',\n",
    "]\n",
    "\n",
    "\n",
    "def in_us(city_st):\n",
    "    for c in countries:\n",
    "        c2 = \",\" + c\n",
    "        if c2.lower() in city_st.lower().replace(' ',''):\n",
    "            print(city_st)\n",
    "            return False\n",
    "\n",
    "    return True\n",
    "\n",
    "\n",
    "df = df[df[\"city_st\"].apply(in_us)].copy()\n",
    "len(df)"
   ]
  },
  {
   "cell_type": "code",
   "execution_count": 10,
   "metadata": {},
   "outputs": [],
   "source": [
    "errors = {'Albuqeurque, NM' : 'Albuquerque, NM',\n",
    "         'Bilings, MT' : 'Billings, MT',\n",
    "         'Breckinridge, CO' : 'Breckinridge, CO',\n",
    "          \"Longbranch, NJ\" : \"Long Branch, NJ\",\n",
    "          'Lousiville, KY' : 'Louisville, KY',\n",
    "          'Merrick, New York' : 'Merrick, NY',\n",
    "          'Pittsfield Charter Township, MI' : 'Pittsfield, MI',\n",
    "          'Pittsfield Township, MI' : 'Pittsfield, MI',\n",
    "          'Phillipsburg, PA' : 'Philipsburg, PA',\n",
    "          'South Sacramento, CA' :  'Sacramento, CA',\n",
    "          'Shelbourne Falls, MA' : 'Shelburne Falls, MA',\n",
    "          'Tallahasee, FL' : 'Tallahassee, FL',\n",
    "          'Tampa Bay, FL' : \"Tampa, Fl\",\n",
    "          'Voorhees Township, NJ' : 'Voorhees, NJ',\n",
    "          'Warren Township, NJ' : 'Warren, NJ', \n",
    "          'Summerlin, NV' : 'Las Vegas, NV',\n",
    "          'Stockton, TX' : 'Fort Stockton, TX',\n",
    "          'Standford, CA' : 'Stanford, CA',\n",
    "        \n",
    "          \n",
    "         }\n",
    "\n",
    "for city in errors:\n",
    "    df['city_st'] = df['city_st'].str.replace(city, errors[city])"
   ]
  },
  {
   "cell_type": "code",
   "execution_count": 11,
   "metadata": {},
   "outputs": [],
   "source": [
    "#uniform saint to st\n",
    "df['city_st'] = df['city_st'].str.replace('Saint ', 'St. ')"
   ]
  },
  {
   "cell_type": "code",
   "execution_count": 12,
   "metadata": {},
   "outputs": [
    {
     "data": {
      "text/plain": [
       "count     4792.0\n",
       "unique     276.0\n",
       "top        200.0\n",
       "freq       684.0\n",
       "Name: size, dtype: float64"
      ]
     },
     "execution_count": 12,
     "metadata": {},
     "output_type": "execute_result"
    }
   ],
   "source": [
    "df['size'].describe()"
   ]
  },
  {
   "cell_type": "code",
   "execution_count": 13,
   "metadata": {},
   "outputs": [],
   "source": [
    "df['size'] = df['size'].replace({'20,000': 20000,\n",
    "                                '200-300': 220,\n",
    "                                '$1,000.00' : np.nan,\n",
    "                                'hundreds': 200,\n",
    "                                'a  large crowd': np.nan})"
   ]
  },
  {
   "cell_type": "code",
   "execution_count": 14,
   "metadata": {},
   "outputs": [],
   "source": [
    "df['events'] = 1\n",
    "df['size'] = df['size'].replace(0,np.nan)\n",
    "df['size_imp'] = df['size'].fillna(11)\n",
    "\n",
    "\n",
    "df = pd.concat([df, pd.get_dummies(df['collection'])], axis=1)"
   ]
  },
  {
   "cell_type": "code",
   "execution_count": null,
   "metadata": {},
   "outputs": [],
   "source": []
  },
  {
   "cell_type": "code",
   "execution_count": 15,
   "metadata": {},
   "outputs": [],
   "source": [
    "df['size'] = df['size'].astype(float)"
   ]
  },
  {
   "cell_type": "code",
   "execution_count": 16,
   "metadata": {},
   "outputs": [
    {
     "name": "stderr",
     "output_type": "stream",
     "text": [
      "/Users/nealcaren/opt/anaconda3/envs/tmwp/lib/python3.8/site-packages/pandas/core/strings.py:1954: UserWarning: This pattern has match groups. To actually get the groups, use str.extract.\n",
      "  return func(self, *args, **kwargs)\n"
     ]
    }
   ],
   "source": [
    "# extract urls to make them variables\n",
    "\n",
    "def str_2_list(links):\n",
    "    return ast.literal_eval(links)\n",
    "\n",
    "df['url_list'] = df['urls'].apply(str_2_list)\n",
    "\n",
    "\n",
    "urls = set([item for sublist in df['url_list'].values for item in sublist])\n",
    "\n",
    "for url in urls:\n",
    "    df[url] = df['urls'].str.contains(url)"
   ]
  },
  {
   "cell_type": "markdown",
   "metadata": {},
   "source": [
    "First Pass at Aggregation"
   ]
  },
  {
   "cell_type": "code",
   "execution_count": null,
   "metadata": {},
   "outputs": [],
   "source": []
  },
  {
   "cell_type": "code",
   "execution_count": 17,
   "metadata": {},
   "outputs": [],
   "source": [
    "# first sum by collection for multiple events by city\n",
    "df_cd = df.groupby(['collection', 'date', 'city_st']).sum().reset_index()"
   ]
  },
  {
   "cell_type": "code",
   "execution_count": 18,
   "metadata": {},
   "outputs": [],
   "source": [
    "df_cd['size_imp'] = df_cd['size'].fillna(11)"
   ]
  },
  {
   "cell_type": "code",
   "execution_count": 19,
   "metadata": {},
   "outputs": [],
   "source": [
    "for v in [\"CCC\", \n",
    "    \"Count Love\", \n",
    "    \"Elephrame\",\n",
    "         \"Wikipedia\",\n",
    "         \"New York Times\"]:\n",
    "    df_cd[v] = df_cd[v] > 0\n",
    "    df_cd[v] = df_cd[v].astype(int)"
   ]
  },
  {
   "cell_type": "code",
   "execution_count": 20,
   "metadata": {},
   "outputs": [],
   "source": [
    "\n",
    "aggregation = {\n",
    "    \"events\": \"max\",\n",
    "    \"size\": \"max\",\n",
    "    \"size_imp\" : \"max\",\n",
    "    \"CCC\" : \"max\",\n",
    "    \"Wikipedia\" : \"max\",\n",
    "    \"Count Love\" : \"max\",\n",
    "    \"Elephrame\" : \"max\",\n",
    "    \"New York Times\": \"max\"\n",
    "}\n",
    "\n",
    "\n",
    "for url in urls:\n",
    "    aggregation[url] = 'max'\n",
    "\n",
    "df_cd = df_cd.groupby([\"date\", \"city_st\"]).agg(aggregation).reset_index()"
   ]
  },
  {
   "cell_type": "code",
   "execution_count": 21,
   "metadata": {},
   "outputs": [],
   "source": [
    "# Create list of URLs\n",
    "\n",
    "index_dict = defaultdict(list)\n",
    "\n",
    "http_urls = [u for u in df_cd.keys() if 'http' in u]\n",
    "\n",
    "for url in http_urls:\n",
    "    for i in df_cd[df_cd[url] == True].index.values:\n",
    "        index_dict[i].append(url)\n",
    "\n",
    "url_df = pd.Series(index_dict).to_frame(name='urls')\n",
    "\n"
   ]
  },
  {
   "cell_type": "code",
   "execution_count": null,
   "metadata": {},
   "outputs": [],
   "source": []
  },
  {
   "cell_type": "code",
   "execution_count": 22,
   "metadata": {},
   "outputs": [],
   "source": [
    "keep = [\n",
    "    \"date\",\n",
    "    \"city_st\",\n",
    "    \"events\",\n",
    "    \"size\",\n",
    "    \"size_imp\",\n",
    "    \"CCC\",\n",
    "    \"Count Love\",\n",
    "    \"Elephrame\",\n",
    "    \"New York Times\",\n",
    "    \"Wikipedia\"\n",
    "\n",
    "]"
   ]
  },
  {
   "cell_type": "code",
   "execution_count": 23,
   "metadata": {},
   "outputs": [],
   "source": [
    "df_cd = df_cd[keep].merge(url_df, left_index=True, right_index=True)"
   ]
  },
  {
   "cell_type": "code",
   "execution_count": 24,
   "metadata": {},
   "outputs": [],
   "source": [
    "df_cd['size'] = df_cd['size'].replace(0, np.nan)\n",
    "df_cd['size_imp'] = df_cd['size'].replace(0, np.nan)\n",
    "df_cd['size_imp'] = df_cd['size'].fillna(11)"
   ]
  },
  {
   "cell_type": "code",
   "execution_count": null,
   "metadata": {},
   "outputs": [],
   "source": []
  },
  {
   "cell_type": "code",
   "execution_count": null,
   "metadata": {},
   "outputs": [],
   "source": []
  },
  {
   "cell_type": "code",
   "execution_count": 25,
   "metadata": {},
   "outputs": [],
   "source": [
    "\n",
    "\n",
    "df_cd.to_csv('../BLM-GFAABT.csv', index =False)\n",
    "\n",
    "\n"
   ]
  },
  {
   "cell_type": "code",
   "execution_count": 26,
   "metadata": {},
   "outputs": [
    {
     "name": "stdout",
     "output_type": "stream",
     "text": [
      "| date       |   cities |   Elephrame |   CCC |   Count Love |   New York Times |   Wikipedia |\n",
      "|:-----------|---------:|------------:|------:|-------------:|-----------------:|------------:|\n",
      "| 2020-05-26 |       11 |           1 |     6 |            7 |                6 |           0 |\n",
      "| 2020-05-27 |       20 |           0 |    11 |           11 |               11 |           0 |\n",
      "| 2020-05-28 |       63 |           0 |    41 |           41 |               41 |           8 |\n",
      "| 2020-05-29 |      183 |           0 |   123 |          131 |               94 |          39 |\n",
      "| 2020-05-30 |      480 |           0 |   277 |          346 |              337 |         126 |\n",
      "| 2020-05-31 |      668 |           2 |   249 |          439 |              460 |         155 |\n",
      "| 2020-06-01 |      563 |          23 |   207 |          330 |              330 |          90 |\n",
      "| 2020-06-02 |      552 |          41 |   192 |          327 |              296 |          56 |\n",
      "| 2020-06-03 |      463 |          71 |   141 |          243 |              233 |          53 |\n",
      "| 2020-06-04 |      397 |          39 |   102 |          186 |              193 |          40 |\n",
      "| 2020-06-05 |      406 |          88 |   184 |          124 |              172 |          36 |\n",
      "| 2020-06-06 |      577 |          52 |   329 |          159 |              264 |          50 |\n",
      "| 2020-06-07 |      348 |          62 |   163 |           98 |              148 |          26 |\n",
      "| 2020-06-08 |      108 |          17 |    35 |           53 |               34 |           4 |\n",
      "| 2020-06-09 |       74 |          16 |    34 |           37 |                0 |           6 |\n",
      "| 2020-06-10 |       65 |          38 |    23 |           23 |                0 |           2 |\n",
      "| 2020-06-11 |       67 |          13 |    30 |           34 |                0 |           3 |\n",
      "| 2020-06-12 |      144 |          13 |    87 |           64 |                0 |          10 |\n",
      "| 2020-06-13 |      215 |          25 |   137 |          102 |                0 |           2 |\n",
      "| 2020-06-14 |      129 |          48 |    68 |           41 |                0 |           2 |\n",
      "| 2020-06-15 |       21 |           3 |     3 |           18 |                0 |           0 |\n",
      "| 2020-06-16 |       30 |           5 |     3 |           25 |                0 |           0 |\n",
      "| 2020-06-17 |       27 |          14 |     3 |           12 |                0 |           0 |\n",
      "| 2020-06-18 |       20 |           3 |     4 |           14 |                0 |           0 |\n",
      "| 2020-06-19 |      234 |           1 |   189 |           44 |                0 |           0 |\n",
      "| 2020-06-20 |       20 |           7 |     4 |            9 |                0 |           1 |\n",
      "| 2020-06-21 |       20 |          15 |     1 |            6 |                0 |           0 |\n",
      "| 2020-06-22 |        3 |           0 |     0 |            3 |                0 |           0 |\n"
     ]
    }
   ],
   "source": [
    "temp = df_cd.groupby(['date','city_st']).agg({'events': 'count',\n",
    "                                            'Elephrame' : 'max',\n",
    "                                            'CCC': 'max',\n",
    "                                            'Count Love': 'max',\n",
    "                                              \"New York Times\" : 'max',\n",
    "                                             'Wikipedia' : 'max'}).reset_index()\n",
    "\n",
    "temp['cities'] = temp['events']\n",
    "print(temp.groupby('date')[['cities','Elephrame','CCC','Count Love', 'New York Times', 'Wikipedia']].sum().to_markdown())"
   ]
  },
  {
   "cell_type": "code",
   "execution_count": 27,
   "metadata": {},
   "outputs": [
    {
     "data": {
      "text/plain": [
       "'Cities:'"
      ]
     },
     "metadata": {},
     "output_type": "display_data"
    },
    {
     "data": {
      "text/plain": [
       "3025"
      ]
     },
     "metadata": {},
     "output_type": "display_data"
    }
   ],
   "source": [
    "display(\"Cities:\", len(df_cd['city_st'].value_counts()))"
   ]
  },
  {
   "cell_type": "code",
   "execution_count": 28,
   "metadata": {},
   "outputs": [
    {
     "name": "stdout",
     "output_type": "stream",
     "text": [
      "| date       |   events |\n",
      "|:-----------|---------:|\n",
      "| 2020-05-26 |       12 |\n",
      "| 2020-05-27 |       20 |\n",
      "| 2020-05-28 |       73 |\n",
      "| 2020-05-29 |      211 |\n",
      "| 2020-05-30 |      540 |\n",
      "| 2020-05-31 |      706 |\n",
      "| 2020-06-01 |      586 |\n",
      "| 2020-06-02 |      588 |\n",
      "| 2020-06-03 |      499 |\n",
      "| 2020-06-04 |      412 |\n",
      "| 2020-06-05 |      443 |\n",
      "| 2020-06-06 |      639 |\n",
      "| 2020-06-07 |      410 |\n",
      "| 2020-06-08 |      134 |\n",
      "| 2020-06-09 |       86 |\n",
      "| 2020-06-10 |       78 |\n",
      "| 2020-06-11 |       76 |\n",
      "| 2020-06-12 |      183 |\n",
      "| 2020-06-13 |      268 |\n",
      "| 2020-06-14 |      173 |\n",
      "| 2020-06-15 |       23 |\n",
      "| 2020-06-16 |       31 |\n",
      "| 2020-06-17 |       27 |\n",
      "| 2020-06-18 |       21 |\n",
      "| 2020-06-19 |      237 |\n",
      "| 2020-06-20 |       26 |\n",
      "| 2020-06-21 |       37 |\n",
      "| 2020-06-22 |        3 |\n"
     ]
    }
   ],
   "source": [
    "print(df_cd.groupby('date')['events'].sum().to_markdown())"
   ]
  },
  {
   "cell_type": "code",
   "execution_count": 29,
   "metadata": {},
   "outputs": [
    {
     "data": {
      "image/png": "[encoded data removed]",
      "text/plain": [
       "<Figure size 432x288 with 1 Axes>"
      ]
     },
     "metadata": {
      "needs_background": "light"
     },
     "output_type": "display_data"
    }
   ],
   "source": [
    "df_cd.groupby('date')['events'].sum().plot();"
   ]
  },
  {
   "cell_type": "code",
   "execution_count": 30,
   "metadata": {},
   "outputs": [
    {
     "data": {
      "image/png": "[encoded data removed]",
      "text/plain": [
       "<Figure size 432x288 with 1 Axes>"
      ]
     },
     "metadata": {
      "needs_background": "light"
     },
     "output_type": "display_data"
    }
   ],
   "source": [
    "df_cd.groupby('date')['size_imp'].sum().plot();"
   ]
  },
  {
   "cell_type": "code",
   "execution_count": 31,
   "metadata": {},
   "outputs": [
    {
     "data": {
      "text/plain": [
       "5908"
      ]
     },
     "execution_count": 31,
     "metadata": {},
     "output_type": "execute_result"
    }
   ],
   "source": [
    "df_cd['size_imp'].count()"
   ]
  },
  {
   "cell_type": "code",
   "execution_count": 32,
   "metadata": {},
   "outputs": [
    {
     "data": {
      "text/plain": [
       "'Events:'"
      ]
     },
     "metadata": {},
     "output_type": "display_data"
    },
    {
     "data": {
      "text/plain": [
       "6542"
      ]
     },
     "metadata": {},
     "output_type": "display_data"
    }
   ],
   "source": [
    "display('Events:',df_cd['events'].sum())"
   ]
  },
  {
   "cell_type": "code",
   "execution_count": 33,
   "metadata": {
    "scrolled": true
   },
   "outputs": [
    {
     "data": {
      "text/plain": [
       "'Size:'"
      ]
     },
     "metadata": {},
     "output_type": "display_data"
    },
    {
     "data": {
      "text/plain": [
       "2055957.35"
      ]
     },
     "metadata": {},
     "output_type": "display_data"
    }
   ],
   "source": [
    "display(\"Size:\",df_cd['size_imp'].sum())"
   ]
  },
  {
   "cell_type": "code",
   "execution_count": 34,
   "metadata": {},
   "outputs": [
    {
     "data": {
      "text/plain": [
       "count     3350.000000\n",
       "mean       605.319209\n",
       "std       2375.111814\n",
       "min          1.000000\n",
       "25%        100.000000\n",
       "50%        200.000000\n",
       "75%        390.250000\n",
       "max      60200.000000\n",
       "Name: size, dtype: float64"
      ]
     },
     "execution_count": 34,
     "metadata": {},
     "output_type": "execute_result"
    }
   ],
   "source": [
    "\n",
    "\n",
    "df_cd['size'].describe()"
   ]
  },
  {
   "cell_type": "code",
   "execution_count": 35,
   "metadata": {
    "scrolled": true
   },
   "outputs": [
    {
     "data": {
      "text/html": [
       "<div>\n",
       "<style scoped>\n",
       "    .dataframe tbody tr th:only-of-type {\n",
       "        vertical-align: middle;\n",
       "    }\n",
       "\n",
       "    .dataframe tbody tr th {\n",
       "        vertical-align: top;\n",
       "    }\n",
       "\n",
       "    .dataframe thead th {\n",
       "        text-align: right;\n",
       "    }\n",
       "</style>\n",
       "<table border=\"1\" class=\"dataframe\">\n",
       "  <thead>\n",
       "    <tr style=\"text-align: right;\">\n",
       "      <th></th>\n",
       "      <th>CCC</th>\n",
       "      <th>Count Love</th>\n",
       "      <th>Elephrame</th>\n",
       "      <th>New York Times</th>\n",
       "      <th>Wikipedia</th>\n",
       "      <th>events</th>\n",
       "    </tr>\n",
       "  </thead>\n",
       "  <tbody>\n",
       "    <tr>\n",
       "      <th>0</th>\n",
       "      <td>0</td>\n",
       "      <td>0</td>\n",
       "      <td>0</td>\n",
       "      <td>0</td>\n",
       "      <td>1</td>\n",
       "      <td>112</td>\n",
       "    </tr>\n",
       "    <tr>\n",
       "      <th>1</th>\n",
       "      <td>0</td>\n",
       "      <td>0</td>\n",
       "      <td>0</td>\n",
       "      <td>1</td>\n",
       "      <td>0</td>\n",
       "      <td>957</td>\n",
       "    </tr>\n",
       "    <tr>\n",
       "      <th>2</th>\n",
       "      <td>0</td>\n",
       "      <td>0</td>\n",
       "      <td>0</td>\n",
       "      <td>1</td>\n",
       "      <td>1</td>\n",
       "      <td>120</td>\n",
       "    </tr>\n",
       "    <tr>\n",
       "      <th>3</th>\n",
       "      <td>0</td>\n",
       "      <td>0</td>\n",
       "      <td>1</td>\n",
       "      <td>0</td>\n",
       "      <td>0</td>\n",
       "      <td>260</td>\n",
       "    </tr>\n",
       "    <tr>\n",
       "      <th>4</th>\n",
       "      <td>0</td>\n",
       "      <td>0</td>\n",
       "      <td>1</td>\n",
       "      <td>0</td>\n",
       "      <td>1</td>\n",
       "      <td>3</td>\n",
       "    </tr>\n",
       "    <tr>\n",
       "      <th>5</th>\n",
       "      <td>0</td>\n",
       "      <td>0</td>\n",
       "      <td>1</td>\n",
       "      <td>1</td>\n",
       "      <td>0</td>\n",
       "      <td>25</td>\n",
       "    </tr>\n",
       "    <tr>\n",
       "      <th>6</th>\n",
       "      <td>0</td>\n",
       "      <td>0</td>\n",
       "      <td>1</td>\n",
       "      <td>1</td>\n",
       "      <td>1</td>\n",
       "      <td>10</td>\n",
       "    </tr>\n",
       "    <tr>\n",
       "      <th>7</th>\n",
       "      <td>0</td>\n",
       "      <td>1</td>\n",
       "      <td>0</td>\n",
       "      <td>0</td>\n",
       "      <td>0</td>\n",
       "      <td>1071</td>\n",
       "    </tr>\n",
       "    <tr>\n",
       "      <th>8</th>\n",
       "      <td>0</td>\n",
       "      <td>1</td>\n",
       "      <td>0</td>\n",
       "      <td>0</td>\n",
       "      <td>1</td>\n",
       "      <td>34</td>\n",
       "    </tr>\n",
       "    <tr>\n",
       "      <th>9</th>\n",
       "      <td>0</td>\n",
       "      <td>1</td>\n",
       "      <td>0</td>\n",
       "      <td>1</td>\n",
       "      <td>0</td>\n",
       "      <td>446</td>\n",
       "    </tr>\n",
       "    <tr>\n",
       "      <th>10</th>\n",
       "      <td>0</td>\n",
       "      <td>1</td>\n",
       "      <td>0</td>\n",
       "      <td>1</td>\n",
       "      <td>1</td>\n",
       "      <td>112</td>\n",
       "    </tr>\n",
       "    <tr>\n",
       "      <th>11</th>\n",
       "      <td>0</td>\n",
       "      <td>1</td>\n",
       "      <td>1</td>\n",
       "      <td>0</td>\n",
       "      <td>0</td>\n",
       "      <td>60</td>\n",
       "    </tr>\n",
       "    <tr>\n",
       "      <th>12</th>\n",
       "      <td>0</td>\n",
       "      <td>1</td>\n",
       "      <td>1</td>\n",
       "      <td>0</td>\n",
       "      <td>1</td>\n",
       "      <td>3</td>\n",
       "    </tr>\n",
       "    <tr>\n",
       "      <th>13</th>\n",
       "      <td>0</td>\n",
       "      <td>1</td>\n",
       "      <td>1</td>\n",
       "      <td>1</td>\n",
       "      <td>0</td>\n",
       "      <td>38</td>\n",
       "    </tr>\n",
       "    <tr>\n",
       "      <th>14</th>\n",
       "      <td>0</td>\n",
       "      <td>1</td>\n",
       "      <td>1</td>\n",
       "      <td>1</td>\n",
       "      <td>1</td>\n",
       "      <td>11</td>\n",
       "    </tr>\n",
       "    <tr>\n",
       "      <th>15</th>\n",
       "      <td>1</td>\n",
       "      <td>0</td>\n",
       "      <td>0</td>\n",
       "      <td>0</td>\n",
       "      <td>0</td>\n",
       "      <td>1123</td>\n",
       "    </tr>\n",
       "    <tr>\n",
       "      <th>16</th>\n",
       "      <td>1</td>\n",
       "      <td>0</td>\n",
       "      <td>0</td>\n",
       "      <td>0</td>\n",
       "      <td>1</td>\n",
       "      <td>25</td>\n",
       "    </tr>\n",
       "    <tr>\n",
       "      <th>17</th>\n",
       "      <td>1</td>\n",
       "      <td>0</td>\n",
       "      <td>0</td>\n",
       "      <td>1</td>\n",
       "      <td>0</td>\n",
       "      <td>210</td>\n",
       "    </tr>\n",
       "    <tr>\n",
       "      <th>18</th>\n",
       "      <td>1</td>\n",
       "      <td>0</td>\n",
       "      <td>0</td>\n",
       "      <td>1</td>\n",
       "      <td>1</td>\n",
       "      <td>47</td>\n",
       "    </tr>\n",
       "    <tr>\n",
       "      <th>19</th>\n",
       "      <td>1</td>\n",
       "      <td>0</td>\n",
       "      <td>1</td>\n",
       "      <td>0</td>\n",
       "      <td>0</td>\n",
       "      <td>72</td>\n",
       "    </tr>\n",
       "    <tr>\n",
       "      <th>20</th>\n",
       "      <td>1</td>\n",
       "      <td>0</td>\n",
       "      <td>1</td>\n",
       "      <td>0</td>\n",
       "      <td>1</td>\n",
       "      <td>2</td>\n",
       "    </tr>\n",
       "    <tr>\n",
       "      <th>21</th>\n",
       "      <td>1</td>\n",
       "      <td>0</td>\n",
       "      <td>1</td>\n",
       "      <td>1</td>\n",
       "      <td>0</td>\n",
       "      <td>10</td>\n",
       "    </tr>\n",
       "    <tr>\n",
       "      <th>22</th>\n",
       "      <td>1</td>\n",
       "      <td>0</td>\n",
       "      <td>1</td>\n",
       "      <td>1</td>\n",
       "      <td>1</td>\n",
       "      <td>5</td>\n",
       "    </tr>\n",
       "    <tr>\n",
       "      <th>23</th>\n",
       "      <td>1</td>\n",
       "      <td>1</td>\n",
       "      <td>0</td>\n",
       "      <td>0</td>\n",
       "      <td>0</td>\n",
       "      <td>417</td>\n",
       "    </tr>\n",
       "    <tr>\n",
       "      <th>24</th>\n",
       "      <td>1</td>\n",
       "      <td>1</td>\n",
       "      <td>0</td>\n",
       "      <td>0</td>\n",
       "      <td>1</td>\n",
       "      <td>30</td>\n",
       "    </tr>\n",
       "    <tr>\n",
       "      <th>25</th>\n",
       "      <td>1</td>\n",
       "      <td>1</td>\n",
       "      <td>0</td>\n",
       "      <td>1</td>\n",
       "      <td>0</td>\n",
       "      <td>419</td>\n",
       "    </tr>\n",
       "    <tr>\n",
       "      <th>26</th>\n",
       "      <td>1</td>\n",
       "      <td>1</td>\n",
       "      <td>0</td>\n",
       "      <td>1</td>\n",
       "      <td>1</td>\n",
       "      <td>188</td>\n",
       "    </tr>\n",
       "    <tr>\n",
       "      <th>27</th>\n",
       "      <td>1</td>\n",
       "      <td>1</td>\n",
       "      <td>1</td>\n",
       "      <td>0</td>\n",
       "      <td>0</td>\n",
       "      <td>75</td>\n",
       "    </tr>\n",
       "    <tr>\n",
       "      <th>28</th>\n",
       "      <td>1</td>\n",
       "      <td>1</td>\n",
       "      <td>1</td>\n",
       "      <td>0</td>\n",
       "      <td>1</td>\n",
       "      <td>2</td>\n",
       "    </tr>\n",
       "    <tr>\n",
       "      <th>29</th>\n",
       "      <td>1</td>\n",
       "      <td>1</td>\n",
       "      <td>1</td>\n",
       "      <td>1</td>\n",
       "      <td>0</td>\n",
       "      <td>16</td>\n",
       "    </tr>\n",
       "    <tr>\n",
       "      <th>30</th>\n",
       "      <td>1</td>\n",
       "      <td>1</td>\n",
       "      <td>1</td>\n",
       "      <td>1</td>\n",
       "      <td>1</td>\n",
       "      <td>5</td>\n",
       "    </tr>\n",
       "  </tbody>\n",
       "</table>\n",
       "</div>"
      ],
      "text/plain": [
       "    CCC  Count Love  Elephrame  New York Times  Wikipedia  events\n",
       "0     0           0          0               0          1     112\n",
       "1     0           0          0               1          0     957\n",
       "2     0           0          0               1          1     120\n",
       "3     0           0          1               0          0     260\n",
       "4     0           0          1               0          1       3\n",
       "5     0           0          1               1          0      25\n",
       "6     0           0          1               1          1      10\n",
       "7     0           1          0               0          0    1071\n",
       "8     0           1          0               0          1      34\n",
       "9     0           1          0               1          0     446\n",
       "10    0           1          0               1          1     112\n",
       "11    0           1          1               0          0      60\n",
       "12    0           1          1               0          1       3\n",
       "13    0           1          1               1          0      38\n",
       "14    0           1          1               1          1      11\n",
       "15    1           0          0               0          0    1123\n",
       "16    1           0          0               0          1      25\n",
       "17    1           0          0               1          0     210\n",
       "18    1           0          0               1          1      47\n",
       "19    1           0          1               0          0      72\n",
       "20    1           0          1               0          1       2\n",
       "21    1           0          1               1          0      10\n",
       "22    1           0          1               1          1       5\n",
       "23    1           1          0               0          0     417\n",
       "24    1           1          0               0          1      30\n",
       "25    1           1          0               1          0     419\n",
       "26    1           1          0               1          1     188\n",
       "27    1           1          1               0          0      75\n",
       "28    1           1          1               0          1       2\n",
       "29    1           1          1               1          0      16\n",
       "30    1           1          1               1          1       5"
      ]
     },
     "metadata": {},
     "output_type": "display_data"
    }
   ],
   "source": [
    "display(df_cd.groupby([\"CCC\", \"Count Love\", 'Elephrame','New York Times','Wikipedia'])['events'].count().reset_index())"
   ]
  },
  {
   "cell_type": "code",
   "execution_count": 36,
   "metadata": {},
   "outputs": [],
   "source": [
    "df_cd['city_st'].value_counts().to_frame().reset_index().sort_values(by='index').to_csv('cities.csv')"
   ]
  },
  {
   "cell_type": "code",
   "execution_count": null,
   "metadata": {},
   "outputs": [],
   "source": []
  }
 ],
 "metadata": {
  "kernelspec": {
   "display_name": "Python 3",
   "language": "python",
   "name": "python3"
  },
  "language_info": {
   "codemirror_mode": {
    "name": "ipython",
    "version": 3
   },
   "file_extension": ".py",
   "mimetype": "text/x-python",
   "name": "python",
   "nbconvert_exporter": "python",
   "pygments_lexer": "ipython3",
   "version": "3.8.3"
  }
 },
 "nbformat": 4,
 "nbformat_minor": 4
}
