{
 "cells": [
  {
   "cell_type": "code",
   "execution_count": 53,
   "metadata": {},
   "outputs": [],
   "source": [
    "%matplotlib inline\n",
    "\n",
    "\n",
    "\n",
    "import pandas as pd\n",
    "import requests\n",
    "import re\n",
    "import ast\n",
    "import numpy as np\n",
    "import seaborn as sns\n",
    "\n",
    "from collections import defaultdict\n"
   ]
  },
  {
   "cell_type": "code",
   "execution_count": 54,
   "metadata": {},
   "outputs": [],
   "source": [
    "ccc_df = pd.read_csv(\"data/ccc_blm.csv\")\n",
    "ele_df = pd.read_csv(\"data/ele.csv\")\n",
    "cl_df = pd.read_csv(\"data/cl_blm.csv\")\n",
    "wiki_df = pd.read_csv(\"data/wiki_blm.csv\")\n",
    "\n",
    "\n",
    "dfs = [ccc_df, ele_df, cl_df, wiki_df]"
   ]
  },
  {
   "cell_type": "code",
   "execution_count": 55,
   "metadata": {},
   "outputs": [
    {
     "data": {
      "text/html": [
       "<div>\n",
       "<style scoped>\n",
       "    .dataframe tbody tr th:only-of-type {\n",
       "        vertical-align: middle;\n",
       "    }\n",
       "\n",
       "    .dataframe tbody tr th {\n",
       "        vertical-align: top;\n",
       "    }\n",
       "\n",
       "    .dataframe thead th {\n",
       "        text-align: right;\n",
       "    }\n",
       "</style>\n",
       "<table border=\"1\" class=\"dataframe\">\n",
       "  <thead>\n",
       "    <tr style=\"text-align: right;\">\n",
       "      <th></th>\n",
       "      <th>id</th>\n",
       "      <th>date</th>\n",
       "      <th>city_st</th>\n",
       "      <th>location</th>\n",
       "      <th>size</th>\n",
       "      <th>size_str</th>\n",
       "      <th>urls</th>\n",
       "      <th>collection</th>\n",
       "      <th>Unnamed: 0</th>\n",
       "    </tr>\n",
       "  </thead>\n",
       "  <tbody>\n",
       "    <tr>\n",
       "      <th>0</th>\n",
       "      <td>NaN</td>\n",
       "      <td>2020-05-26</td>\n",
       "      <td>Houston, TX</td>\n",
       "      <td>Discovery Green, Houston, TX</td>\n",
       "      <td>NaN</td>\n",
       "      <td>NaN</td>\n",
       "      <td>['https://www.houstonchronicle.com/news/housto...</td>\n",
       "      <td>CCC</td>\n",
       "      <td>NaN</td>\n",
       "    </tr>\n",
       "    <tr>\n",
       "      <th>1</th>\n",
       "      <td>NaN</td>\n",
       "      <td>2020-05-26</td>\n",
       "      <td>Minneapolis, MN</td>\n",
       "      <td>site of Floyd's arrest; Minneapolis Police Dep...</td>\n",
       "      <td>2000.0</td>\n",
       "      <td>several thousand</td>\n",
       "      <td>['https://www.startribune.com/restraint-needed...</td>\n",
       "      <td>CCC</td>\n",
       "      <td>NaN</td>\n",
       "    </tr>\n",
       "    <tr>\n",
       "      <th>2</th>\n",
       "      <td>NaN</td>\n",
       "      <td>2020-05-26</td>\n",
       "      <td>Minneapolis, MN</td>\n",
       "      <td>outside third precinct, Minneapolis, MN</td>\n",
       "      <td>200.0</td>\n",
       "      <td>several hundred</td>\n",
       "      <td>['https://www.usatoday.com/story/news/nation/2...</td>\n",
       "      <td>CCC</td>\n",
       "      <td>NaN</td>\n",
       "    </tr>\n",
       "    <tr>\n",
       "      <th>3</th>\n",
       "      <td>NaN</td>\n",
       "      <td>2020-05-26</td>\n",
       "      <td>St. Paul, MN</td>\n",
       "      <td>near home of Derek Chauvin, St. Paul, MN</td>\n",
       "      <td>NaN</td>\n",
       "      <td>NaN</td>\n",
       "      <td>['https://www.cbsnews.com/news/george-floyd-de...</td>\n",
       "      <td>CCC</td>\n",
       "      <td>NaN</td>\n",
       "    </tr>\n",
       "    <tr>\n",
       "      <th>4</th>\n",
       "      <td>NaN</td>\n",
       "      <td>2020-05-26</td>\n",
       "      <td>Suffolk, VA</td>\n",
       "      <td>North Suffolk Police Station, Suffolk, VA</td>\n",
       "      <td>2.0</td>\n",
       "      <td>count pic</td>\n",
       "      <td>['https://www.suffolknewsherald.com/2020/05/27...</td>\n",
       "      <td>CCC</td>\n",
       "      <td>NaN</td>\n",
       "    </tr>\n",
       "    <tr>\n",
       "      <th>...</th>\n",
       "      <td>...</td>\n",
       "      <td>...</td>\n",
       "      <td>...</td>\n",
       "      <td>...</td>\n",
       "      <td>...</td>\n",
       "      <td>...</td>\n",
       "      <td>...</td>\n",
       "      <td>...</td>\n",
       "      <td>...</td>\n",
       "    </tr>\n",
       "    <tr>\n",
       "      <th>5261</th>\n",
       "      <td>NaN</td>\n",
       "      <td>2030-05-29</td>\n",
       "      <td>La Crosse, WI</td>\n",
       "      <td>NaN</td>\n",
       "      <td>NaN</td>\n",
       "      <td>NaN</td>\n",
       "      <td>['https://www.news8000.com/second-night-of-pea...</td>\n",
       "      <td>Wikipedia</td>\n",
       "      <td>955.0</td>\n",
       "    </tr>\n",
       "    <tr>\n",
       "      <th>5262</th>\n",
       "      <td>NaN</td>\n",
       "      <td>2020-05-30</td>\n",
       "      <td>Madison, WI</td>\n",
       "      <td>NaN</td>\n",
       "      <td>NaN</td>\n",
       "      <td>around 1000</td>\n",
       "      <td>['https://madison.com/wsj/news/local/govt-and-...</td>\n",
       "      <td>Wikipedia</td>\n",
       "      <td>956.0</td>\n",
       "    </tr>\n",
       "    <tr>\n",
       "      <th>5263</th>\n",
       "      <td>NaN</td>\n",
       "      <td>2020-01-01</td>\n",
       "      <td>Marinette, WI</td>\n",
       "      <td>NaN</td>\n",
       "      <td>NaN</td>\n",
       "      <td>41, Close to 100</td>\n",
       "      <td>['https://www.wbay.com/content/news/Protests-h...</td>\n",
       "      <td>Wikipedia</td>\n",
       "      <td>957.0</td>\n",
       "    </tr>\n",
       "    <tr>\n",
       "      <th>5264</th>\n",
       "      <td>NaN</td>\n",
       "      <td>2020-06-09</td>\n",
       "      <td>Milwaukee, WI</td>\n",
       "      <td>NaN</td>\n",
       "      <td>NaN</td>\n",
       "      <td>NaN</td>\n",
       "      <td>['https://fox6now.com/2020/06/09/12th-day-of-p...</td>\n",
       "      <td>Wikipedia</td>\n",
       "      <td>958.0</td>\n",
       "    </tr>\n",
       "    <tr>\n",
       "      <th>5265</th>\n",
       "      <td>NaN</td>\n",
       "      <td>2020-05-29</td>\n",
       "      <td>Wausau, WI</td>\n",
       "      <td>NaN</td>\n",
       "      <td>NaN</td>\n",
       "      <td>approximately 150 to 200</td>\n",
       "      <td>['https://www.wsaw.com/content/news/Black-Live...</td>\n",
       "      <td>Wikipedia</td>\n",
       "      <td>959.0</td>\n",
       "    </tr>\n",
       "  </tbody>\n",
       "</table>\n",
       "<p>5266 rows × 9 columns</p>\n",
       "</div>"
      ],
      "text/plain": [
       "      id        date          city_st  \\\n",
       "0    NaN  2020-05-26      Houston, TX   \n",
       "1    NaN  2020-05-26  Minneapolis, MN   \n",
       "2    NaN  2020-05-26  Minneapolis, MN   \n",
       "3    NaN  2020-05-26     St. Paul, MN   \n",
       "4    NaN  2020-05-26      Suffolk, VA   \n",
       "...   ..         ...              ...   \n",
       "5261 NaN  2030-05-29    La Crosse, WI   \n",
       "5262 NaN  2020-05-30      Madison, WI   \n",
       "5263 NaN  2020-01-01    Marinette, WI   \n",
       "5264 NaN  2020-06-09    Milwaukee, WI   \n",
       "5265 NaN  2020-05-29       Wausau, WI   \n",
       "\n",
       "                                               location    size  \\\n",
       "0                          Discovery Green, Houston, TX     NaN   \n",
       "1     site of Floyd's arrest; Minneapolis Police Dep...  2000.0   \n",
       "2               outside third precinct, Minneapolis, MN   200.0   \n",
       "3              near home of Derek Chauvin, St. Paul, MN     NaN   \n",
       "4             North Suffolk Police Station, Suffolk, VA     2.0   \n",
       "...                                                 ...     ...   \n",
       "5261                                                NaN     NaN   \n",
       "5262                                                NaN     NaN   \n",
       "5263                                                NaN     NaN   \n",
       "5264                                                NaN     NaN   \n",
       "5265                                                NaN     NaN   \n",
       "\n",
       "                      size_str  \\\n",
       "0                          NaN   \n",
       "1             several thousand   \n",
       "2              several hundred   \n",
       "3                          NaN   \n",
       "4                    count pic   \n",
       "...                        ...   \n",
       "5261                       NaN   \n",
       "5262               around 1000   \n",
       "5263          41, Close to 100   \n",
       "5264                       NaN   \n",
       "5265  approximately 150 to 200   \n",
       "\n",
       "                                                   urls collection  Unnamed: 0  \n",
       "0     ['https://www.houstonchronicle.com/news/housto...        CCC         NaN  \n",
       "1     ['https://www.startribune.com/restraint-needed...        CCC         NaN  \n",
       "2     ['https://www.usatoday.com/story/news/nation/2...        CCC         NaN  \n",
       "3     ['https://www.cbsnews.com/news/george-floyd-de...        CCC         NaN  \n",
       "4     ['https://www.suffolknewsherald.com/2020/05/27...        CCC         NaN  \n",
       "...                                                 ...        ...         ...  \n",
       "5261  ['https://www.news8000.com/second-night-of-pea...  Wikipedia       955.0  \n",
       "5262  ['https://madison.com/wsj/news/local/govt-and-...  Wikipedia       956.0  \n",
       "5263  ['https://www.wbay.com/content/news/Protests-h...  Wikipedia       957.0  \n",
       "5264  ['https://fox6now.com/2020/06/09/12th-day-of-p...  Wikipedia       958.0  \n",
       "5265  ['https://www.wsaw.com/content/news/Black-Live...  Wikipedia       959.0  \n",
       "\n",
       "[5266 rows x 9 columns]"
      ]
     },
     "metadata": {},
     "output_type": "display_data"
    }
   ],
   "source": [
    "df = pd.concat(dfs).reset_index(drop=True)\n",
    "display(df)"
   ]
  },
  {
   "cell_type": "code",
   "execution_count": 56,
   "metadata": {},
   "outputs": [],
   "source": [
    "date_start = pd.to_datetime('2020-05-25')\n",
    "df = df[pd.to_datetime(df['date']) > date_start].copy()\n",
    "df = df[pd.to_datetime(df['date']) <= pd.Timestamp.today()].copy()\n"
   ]
  },
  {
   "cell_type": "code",
   "execution_count": 57,
   "metadata": {},
   "outputs": [
    {
     "data": {
      "text/plain": [
       "2020-05-31    793\n",
       "2020-05-30    784\n",
       "2020-06-01    451\n",
       "2020-06-02    392\n",
       "2020-06-06    386\n",
       "2020-06-03    338\n",
       "2020-05-29    319\n",
       "2020-06-05    308\n",
       "2020-06-07    276\n",
       "2020-06-04    226\n",
       "2020-05-28    112\n",
       "2020-06-08     94\n",
       "2020-06-09     62\n",
       "2020-06-10     39\n",
       "2020-05-27     28\n",
       "2020-05-26     17\n",
       "2020-06-11     11\n",
       "Name: date, dtype: int64"
      ]
     },
     "execution_count": 57,
     "metadata": {},
     "output_type": "execute_result"
    }
   ],
   "source": [
    "df['date'] = pd.to_datetime(df['date']).dt.date\n",
    "df['date'].value_counts()"
   ]
  },
  {
   "cell_type": "code",
   "execution_count": 58,
   "metadata": {},
   "outputs": [
    {
     "data": {
      "text/plain": [
       "4636"
      ]
     },
     "execution_count": 58,
     "metadata": {},
     "output_type": "execute_result"
    }
   ],
   "source": [
    "# fix stay commas\n",
    "\n",
    "df['city_st'] = df['city_st'].str.replace(' , ', ', ')\n",
    "df['city_st'] = df['city_st'].str.strip()\n",
    "\n",
    "\n",
    "len(df)"
   ]
  },
  {
   "cell_type": "code",
   "execution_count": 59,
   "metadata": {},
   "outputs": [
    {
     "name": "stdout",
     "output_type": "stream",
     "text": [
      ", Uganda\n",
      ", England\n",
      ", England\n",
      ", England\n",
      ", England\n",
      ", England\n",
      ", Canada\n",
      ", Belgium\n",
      ", Hungary\n",
      ", Australia\n",
      ", England\n",
      ", England\n",
      ", England\n",
      ", Scotland\n",
      ", Scotland\n",
      ", Canada\n",
      ", England\n",
      ", Canada\n",
      ", England\n",
      ", England\n",
      ", Australia\n",
      ", Canada\n",
      ", England\n",
      ", England\n",
      ", Finland\n",
      ", Canada\n",
      ", Canada\n",
      ", Sweden\n",
      ", England\n",
      ", Canada\n",
      ", Canada\n",
      ", Canada\n",
      ", New Zealand\n",
      ", New Zealand\n",
      ", Canada\n",
      ", Canada\n",
      ", New Zealand\n",
      ", New Zealand\n",
      ", Canada\n",
      ", Wales\n",
      ", Canada\n",
      ", Denmark\n",
      ", England\n",
      ", England\n",
      ", England\n",
      ", Canada\n"
     ]
    },
    {
     "data": {
      "text/plain": [
       "4590"
      ]
     },
     "execution_count": 59,
     "metadata": {},
     "output_type": "execute_result"
    }
   ],
   "source": [
    "# eliminate non US events\n",
    "\n",
    "countries = [\n",
    "    \"Finland\",\n",
    "    \"England\",\n",
    "    \"Wales\",\n",
    "    \"Canada\",\n",
    "    \"Scotland\", 'Sweden', 'Ottowa'\n",
    "    \"Germany\", \"Netherlands\"\n",
    "    \"Ireland\", 'Sweden'\n",
    "    \"Netherlands\",\n",
    "    \"New Zealand\",\n",
    "    \"Denmark\",\n",
    "    \"Australia\",\n",
    "    \"Belgium\", \"Uganda\", 'Croatia'\n",
    "    \"France\", 'Hungary',\n",
    "]\n",
    "\n",
    "\n",
    "def in_us(city_st):\n",
    "    for c in countries:\n",
    "        c2 = \", \" + c\n",
    "        if c2 in city_st:\n",
    "            print(c2)\n",
    "            return False\n",
    "\n",
    "    return True\n",
    "\n",
    "\n",
    "df = df[df[\"city_st\"].apply(in_us)].copy()\n",
    "len(df)"
   ]
  },
  {
   "cell_type": "code",
   "execution_count": 60,
   "metadata": {},
   "outputs": [],
   "source": [
    "errors = {'Albuqeurque, NM' : 'Albuquerque, NM',\n",
    "         'Bilings, MT' : 'Billings, MT',\n",
    "         'Breckinridge, CO' : 'Breckinridge, CO',\n",
    "          \"Longbranch, NJ\" : \"Long Branch, NJ\",\n",
    "          'Lousiville, KY' : 'Louisville, KY',\n",
    "          'Merrick, New York' : 'Merrick, NY',\n",
    "          'Pittsfield Charter Township, MI' : 'Pittsfield, MI',\n",
    "          'Pittsfield Township, MI' : 'Pittsfield, MI',\n",
    "          'Phillipsburg, PA' : 'Philipsburg, PA',\n",
    "          'South Sacramento, CA' :  'Sacramento, CA',\n",
    "          'Shelbourne Falls, MA' : 'Shelburne Falls, MA',\n",
    "          'Tallahasee, FL' : 'Tallahassee, FL',\n",
    "          'Tampa Bay, FL' : \"Tampa, Fl\",\n",
    "          'Voorhees Township, NJ' : 'Voorhees, NJ',\n",
    "          'Warren Township, NJ' : 'Warren, NJ', \n",
    "          'Summerlin, NV' : 'Las Vegas, NV',\n",
    "          'Stockton, TX' : 'Fort Stockton, TX',\n",
    "          'Standford, CA' : 'Stanford, CA',\n",
    "        \n",
    "          \n",
    "         }\n",
    "\n",
    "for city in errors:\n",
    "    df['city_st'] = df['city_st'].str.replace(city, errors[city])"
   ]
  },
  {
   "cell_type": "code",
   "execution_count": 9,
   "metadata": {},
   "outputs": [],
   "source": [
    "#uniform saint to st\n",
    "df['city_st'] = df['city_st'].str.replace('Saint ', 'St. ')"
   ]
  },
  {
   "cell_type": "code",
   "execution_count": null,
   "metadata": {},
   "outputs": [],
   "source": []
  },
  {
   "cell_type": "code",
   "execution_count": 10,
   "metadata": {},
   "outputs": [],
   "source": [
    "df['events'] = 1\n",
    "df['size'] = df['size'].replace(0,np.nan)\n",
    "df['size_imp'] = df['size'].fillna(11)\n",
    "\n",
    "\n",
    "df = pd.concat([df, pd.get_dummies(df['collection'])], axis=1)"
   ]
  },
  {
   "cell_type": "code",
   "execution_count": 11,
   "metadata": {},
   "outputs": [
    {
     "data": {
      "text/plain": [
       "68805"
      ]
     },
     "execution_count": 11,
     "metadata": {},
     "output_type": "execute_result"
    }
   ],
   "source": [
    "df.size"
   ]
  },
  {
   "cell_type": "code",
   "execution_count": 12,
   "metadata": {},
   "outputs": [
    {
     "name": "stderr",
     "output_type": "stream",
     "text": [
      "/Users/nealcaren/opt/anaconda3/envs/tmwp/lib/python3.8/site-packages/pandas/core/strings.py:1954: UserWarning: This pattern has match groups. To actually get the groups, use str.extract.\n",
      "  return func(self, *args, **kwargs)\n"
     ]
    }
   ],
   "source": [
    "# extract urls to make them variables\n",
    "\n",
    "def str_2_list(links):\n",
    "    return ast.literal_eval(links)\n",
    "\n",
    "df['url_list'] = df['urls'].apply(str_2_list)\n",
    "\n",
    "\n",
    "urls = set([item for sublist in df['url_list'].values for item in sublist])\n",
    "\n",
    "for url in urls:\n",
    "    df[url] = df['urls'].str.contains(url)"
   ]
  },
  {
   "cell_type": "markdown",
   "metadata": {},
   "source": [
    "First Pass at Aggregation"
   ]
  },
  {
   "cell_type": "code",
   "execution_count": 13,
   "metadata": {},
   "outputs": [],
   "source": [
    "df['size'] = df['size'].replace('hundreds', 200).astype(float)"
   ]
  },
  {
   "cell_type": "code",
   "execution_count": 14,
   "metadata": {},
   "outputs": [],
   "source": [
    "# first sum by collection for multiple events by city\n",
    "df_cd = df.groupby(['collection', 'date', 'city_st']).sum().reset_index()"
   ]
  },
  {
   "cell_type": "code",
   "execution_count": 15,
   "metadata": {},
   "outputs": [],
   "source": [
    "df_cd['size_imp'] = df_cd['size'].fillna(11)"
   ]
  },
  {
   "cell_type": "code",
   "execution_count": 16,
   "metadata": {},
   "outputs": [],
   "source": [
    "for v in [\"CCC\", \n",
    "    \"Count Love\", \n",
    "    \"Elephrame\",\n",
    "         \"Wikipedia\"]:\n",
    "    df_cd[v] = df_cd[v] > 0\n",
    "    df_cd[v] = df_cd[v].astype(int)"
   ]
  },
  {
   "cell_type": "code",
   "execution_count": 17,
   "metadata": {},
   "outputs": [],
   "source": [
    "\n",
    "aggregation = {\n",
    "    \"events\": \"max\",\n",
    "    \"size\": \"max\",\n",
    "    \"size_imp\" : \"max\",\n",
    "    \"CCC\" : \"max\",\n",
    "    \"Wikipedia\" : \"max\",\n",
    "    \"Count Love\" : \"max\",\n",
    "    \"Elephrame\" : \"max\"\n",
    "}\n",
    "\n",
    "\n",
    "for url in urls:\n",
    "    aggregation[url] = 'max'\n",
    "\n",
    "df_cd = df_cd.groupby([\"date\", \"city_st\"]).agg(aggregation).reset_index()"
   ]
  },
  {
   "cell_type": "code",
   "execution_count": 18,
   "metadata": {},
   "outputs": [],
   "source": [
    "# Create list of URLs\n",
    "\n",
    "index_dict = defaultdict(list)\n",
    "\n",
    "http_urls = [u for u in df_cd.keys() if 'http' in u]\n",
    "\n",
    "for url in http_urls:\n",
    "    for i in df_cd[df_cd[url] == True].index.values:\n",
    "        index_dict[i].append(url)\n",
    "\n",
    "url_df = pd.Series(index_dict).to_frame(name='urls')\n",
    "\n"
   ]
  },
  {
   "cell_type": "code",
   "execution_count": null,
   "metadata": {},
   "outputs": [],
   "source": []
  },
  {
   "cell_type": "code",
   "execution_count": 19,
   "metadata": {},
   "outputs": [],
   "source": [
    "keep = [\n",
    "    \"date\",\n",
    "    \"city_st\",\n",
    "    \"events\",\n",
    "    \"size\",\n",
    "    \"size_imp\",\n",
    "    \"CCC\",\n",
    "    \"Count Love\",\n",
    "    \"Elephrame\",\n",
    "    \"Wikipedia\"\n",
    "\n",
    "]"
   ]
  },
  {
   "cell_type": "code",
   "execution_count": 20,
   "metadata": {},
   "outputs": [],
   "source": [
    "df_cd = df_cd[keep].merge(url_df, left_index=True, right_index=True)"
   ]
  },
  {
   "cell_type": "code",
   "execution_count": 21,
   "metadata": {},
   "outputs": [],
   "source": [
    "df_cd['size'] = df_cd['size'].replace(0, np.nan)\n",
    "df_cd['size_imp'] = df_cd['size'].replace(0, np.nan)\n",
    "df_cd['size_imp'] = df_cd['size'].fillna(11)"
   ]
  },
  {
   "cell_type": "code",
   "execution_count": null,
   "metadata": {},
   "outputs": [],
   "source": []
  },
  {
   "cell_type": "code",
   "execution_count": null,
   "metadata": {},
   "outputs": [],
   "source": []
  },
  {
   "cell_type": "code",
   "execution_count": 22,
   "metadata": {},
   "outputs": [],
   "source": [
    "\n",
    "\n",
    "df_cd.to_csv('../BLM-GFAABT.csv', index =False)\n",
    "\n",
    "\n"
   ]
  },
  {
   "cell_type": "code",
   "execution_count": 23,
   "metadata": {},
   "outputs": [
    {
     "name": "stdout",
     "output_type": "stream",
     "text": [
      "| date       |   cities |   Elephrame |   CCC |   Count Love |   Wikipedia |\n",
      "|:-----------|---------:|------------:|------:|-------------:|------------:|\n",
      "| 2020-05-26 |       10 |           3 |     4 |            7 |           1 |\n",
      "| 2020-05-27 |       14 |           6 |     9 |           11 |           0 |\n",
      "| 2020-05-28 |       49 |          10 |    35 |           41 |          12 |\n",
      "| 2020-05-29 |      157 |          33 |   100 |          121 |          41 |\n",
      "| 2020-05-30 |      377 |          69 |   177 |          308 |         160 |\n",
      "| 2020-05-31 |      461 |          86 |   178 |          312 |         166 |\n",
      "| 2020-06-01 |      307 |          36 |   133 |          147 |          99 |\n",
      "| 2020-06-02 |      275 |          35 |   149 |           96 |          63 |\n",
      "| 2020-06-03 |      240 |          64 |   110 |           72 |          53 |\n",
      "| 2020-06-04 |      181 |          31 |    44 |           87 |          46 |\n",
      "| 2020-06-05 |      207 |          79 |    66 |           79 |          31 |\n",
      "| 2020-06-06 |      252 |          35 |   114 |          119 |          45 |\n",
      "| 2020-06-07 |      169 |          52 |    69 |           66 |          14 |\n",
      "| 2020-06-08 |       62 |          12 |     9 |           42 |           5 |\n",
      "| 2020-06-09 |       44 |          15 |     4 |           25 |           6 |\n",
      "| 2020-06-10 |       26 |          16 |     4 |            7 |           1 |\n",
      "| 2020-06-11 |       11 |           9 |     0 |            0 |           2 |\n"
     ]
    }
   ],
   "source": [
    "temp = df_cd.groupby(['date','city_st']).agg({'events': 'count',\n",
    "                                            'Elephrame' : 'max',\n",
    "                                            'CCC': 'max',\n",
    "                                            'Count Love': 'max',\n",
    "                                             'Wikipedia' : 'max'}).reset_index()\n",
    "\n",
    "temp['cities'] = temp['events']\n",
    "print(temp.groupby('date')[['cities','Elephrame','CCC','Count Love', 'Wikipedia']].sum().to_markdown())"
   ]
  },
  {
   "cell_type": "code",
   "execution_count": 24,
   "metadata": {},
   "outputs": [
    {
     "data": {
      "text/plain": [
       "'Cities:'"
      ]
     },
     "metadata": {},
     "output_type": "display_data"
    },
    {
     "data": {
      "text/plain": [
       "1598"
      ]
     },
     "metadata": {},
     "output_type": "display_data"
    }
   ],
   "source": [
    "display(\"Cities:\", len(df_cd['city_st'].value_counts()))"
   ]
  },
  {
   "cell_type": "code",
   "execution_count": 25,
   "metadata": {},
   "outputs": [
    {
     "name": "stdout",
     "output_type": "stream",
     "text": [
      "| date       |   events |\n",
      "|:-----------|---------:|\n",
      "| 2020-05-26 |       11 |\n",
      "| 2020-05-27 |       16 |\n",
      "| 2020-05-28 |       58 |\n",
      "| 2020-05-29 |      176 |\n",
      "| 2020-05-30 |      426 |\n",
      "| 2020-05-31 |      487 |\n",
      "| 2020-06-01 |      328 |\n",
      "| 2020-06-02 |      306 |\n",
      "| 2020-06-03 |      264 |\n",
      "| 2020-06-04 |      191 |\n",
      "| 2020-06-05 |      236 |\n",
      "| 2020-06-06 |      291 |\n",
      "| 2020-06-07 |      212 |\n",
      "| 2020-06-08 |       81 |\n",
      "| 2020-06-09 |       54 |\n",
      "| 2020-06-10 |       36 |\n",
      "| 2020-06-11 |       11 |\n"
     ]
    }
   ],
   "source": [
    "print(df_cd.groupby('date')['events'].sum().to_markdown())"
   ]
  },
  {
   "cell_type": "code",
   "execution_count": 26,
   "metadata": {},
   "outputs": [
    {
     "data": {
      "image/png": "[encoded data removed]",
      "text/plain": [
       "<Figure size 432x288 with 1 Axes>"
      ]
     },
     "metadata": {
      "needs_background": "light"
     },
     "output_type": "display_data"
    }
   ],
   "source": [
    "df_cd.groupby('date')['events'].sum().plot();"
   ]
  },
  {
   "cell_type": "code",
   "execution_count": 27,
   "metadata": {},
   "outputs": [
    {
     "data": {
      "image/png": "[encoded data removed]",
      "text/plain": [
       "<Figure size 432x288 with 1 Axes>"
      ]
     },
     "metadata": {
      "needs_background": "light"
     },
     "output_type": "display_data"
    }
   ],
   "source": [
    "df_cd.groupby('date')['size_imp'].sum().plot();"
   ]
  },
  {
   "cell_type": "code",
   "execution_count": 28,
   "metadata": {},
   "outputs": [
    {
     "data": {
      "text/plain": [
       "2842"
      ]
     },
     "execution_count": 28,
     "metadata": {},
     "output_type": "execute_result"
    }
   ],
   "source": [
    "df_cd['size_imp'].count()"
   ]
  },
  {
   "cell_type": "code",
   "execution_count": 29,
   "metadata": {},
   "outputs": [
    {
     "data": {
      "text/plain": [
       "'Events:'"
      ]
     },
     "metadata": {},
     "output_type": "display_data"
    },
    {
     "data": {
      "text/plain": [
       "3184"
      ]
     },
     "metadata": {},
     "output_type": "display_data"
    }
   ],
   "source": [
    "display('Events:',df_cd['events'].sum())"
   ]
  },
  {
   "cell_type": "code",
   "execution_count": 30,
   "metadata": {
    "scrolled": true
   },
   "outputs": [
    {
     "data": {
      "text/plain": [
       "'Size:'"
      ]
     },
     "metadata": {},
     "output_type": "display_data"
    },
    {
     "data": {
      "text/plain": [
       "1313827.35"
      ]
     },
     "metadata": {},
     "output_type": "display_data"
    }
   ],
   "source": [
    "display(\"Size:\",df_cd['size_imp'].sum())"
   ]
  },
  {
   "cell_type": "code",
   "execution_count": 31,
   "metadata": {},
   "outputs": [
    {
     "data": {
      "text/plain": [
       "count     1869.000000\n",
       "mean       697.230792\n",
       "std       3291.441988\n",
       "min          1.000000\n",
       "25%        100.000000\n",
       "50%        200.000000\n",
       "75%        400.000000\n",
       "max      95500.000000\n",
       "Name: size, dtype: float64"
      ]
     },
     "execution_count": 31,
     "metadata": {},
     "output_type": "execute_result"
    }
   ],
   "source": [
    "\n",
    "\n",
    "df_cd['size'].describe()"
   ]
  },
  {
   "cell_type": "code",
   "execution_count": 32,
   "metadata": {
    "scrolled": true
   },
   "outputs": [
    {
     "data": {
      "text/html": [
       "<div>\n",
       "<style scoped>\n",
       "    .dataframe tbody tr th:only-of-type {\n",
       "        vertical-align: middle;\n",
       "    }\n",
       "\n",
       "    .dataframe tbody tr th {\n",
       "        vertical-align: top;\n",
       "    }\n",
       "\n",
       "    .dataframe thead th {\n",
       "        text-align: right;\n",
       "    }\n",
       "</style>\n",
       "<table border=\"1\" class=\"dataframe\">\n",
       "  <thead>\n",
       "    <tr style=\"text-align: right;\">\n",
       "      <th></th>\n",
       "      <th>CCC</th>\n",
       "      <th>Count Love</th>\n",
       "      <th>Elephrame</th>\n",
       "      <th>Wikipedia</th>\n",
       "      <th>events</th>\n",
       "    </tr>\n",
       "  </thead>\n",
       "  <tbody>\n",
       "    <tr>\n",
       "      <th>0</th>\n",
       "      <td>0</td>\n",
       "      <td>0</td>\n",
       "      <td>0</td>\n",
       "      <td>1</td>\n",
       "      <td>374</td>\n",
       "    </tr>\n",
       "    <tr>\n",
       "      <th>1</th>\n",
       "      <td>0</td>\n",
       "      <td>0</td>\n",
       "      <td>1</td>\n",
       "      <td>0</td>\n",
       "      <td>252</td>\n",
       "    </tr>\n",
       "    <tr>\n",
       "      <th>2</th>\n",
       "      <td>0</td>\n",
       "      <td>0</td>\n",
       "      <td>1</td>\n",
       "      <td>1</td>\n",
       "      <td>15</td>\n",
       "    </tr>\n",
       "    <tr>\n",
       "      <th>3</th>\n",
       "      <td>0</td>\n",
       "      <td>1</td>\n",
       "      <td>0</td>\n",
       "      <td>0</td>\n",
       "      <td>774</td>\n",
       "    </tr>\n",
       "    <tr>\n",
       "      <th>4</th>\n",
       "      <td>0</td>\n",
       "      <td>1</td>\n",
       "      <td>0</td>\n",
       "      <td>1</td>\n",
       "      <td>115</td>\n",
       "    </tr>\n",
       "    <tr>\n",
       "      <th>5</th>\n",
       "      <td>0</td>\n",
       "      <td>1</td>\n",
       "      <td>1</td>\n",
       "      <td>0</td>\n",
       "      <td>89</td>\n",
       "    </tr>\n",
       "    <tr>\n",
       "      <th>6</th>\n",
       "      <td>0</td>\n",
       "      <td>1</td>\n",
       "      <td>1</td>\n",
       "      <td>1</td>\n",
       "      <td>18</td>\n",
       "    </tr>\n",
       "    <tr>\n",
       "      <th>7</th>\n",
       "      <td>1</td>\n",
       "      <td>0</td>\n",
       "      <td>0</td>\n",
       "      <td>0</td>\n",
       "      <td>544</td>\n",
       "    </tr>\n",
       "    <tr>\n",
       "      <th>8</th>\n",
       "      <td>1</td>\n",
       "      <td>0</td>\n",
       "      <td>0</td>\n",
       "      <td>1</td>\n",
       "      <td>61</td>\n",
       "    </tr>\n",
       "    <tr>\n",
       "      <th>9</th>\n",
       "      <td>1</td>\n",
       "      <td>0</td>\n",
       "      <td>1</td>\n",
       "      <td>0</td>\n",
       "      <td>48</td>\n",
       "    </tr>\n",
       "    <tr>\n",
       "      <th>10</th>\n",
       "      <td>1</td>\n",
       "      <td>0</td>\n",
       "      <td>1</td>\n",
       "      <td>1</td>\n",
       "      <td>8</td>\n",
       "    </tr>\n",
       "    <tr>\n",
       "      <th>11</th>\n",
       "      <td>1</td>\n",
       "      <td>1</td>\n",
       "      <td>0</td>\n",
       "      <td>0</td>\n",
       "      <td>275</td>\n",
       "    </tr>\n",
       "    <tr>\n",
       "      <th>12</th>\n",
       "      <td>1</td>\n",
       "      <td>1</td>\n",
       "      <td>0</td>\n",
       "      <td>1</td>\n",
       "      <td>108</td>\n",
       "    </tr>\n",
       "    <tr>\n",
       "      <th>13</th>\n",
       "      <td>1</td>\n",
       "      <td>1</td>\n",
       "      <td>1</td>\n",
       "      <td>0</td>\n",
       "      <td>115</td>\n",
       "    </tr>\n",
       "    <tr>\n",
       "      <th>14</th>\n",
       "      <td>1</td>\n",
       "      <td>1</td>\n",
       "      <td>1</td>\n",
       "      <td>1</td>\n",
       "      <td>46</td>\n",
       "    </tr>\n",
       "  </tbody>\n",
       "</table>\n",
       "</div>"
      ],
      "text/plain": [
       "    CCC  Count Love  Elephrame  Wikipedia  events\n",
       "0     0           0          0          1     374\n",
       "1     0           0          1          0     252\n",
       "2     0           0          1          1      15\n",
       "3     0           1          0          0     774\n",
       "4     0           1          0          1     115\n",
       "5     0           1          1          0      89\n",
       "6     0           1          1          1      18\n",
       "7     1           0          0          0     544\n",
       "8     1           0          0          1      61\n",
       "9     1           0          1          0      48\n",
       "10    1           0          1          1       8\n",
       "11    1           1          0          0     275\n",
       "12    1           1          0          1     108\n",
       "13    1           1          1          0     115\n",
       "14    1           1          1          1      46"
      ]
     },
     "metadata": {},
     "output_type": "display_data"
    }
   ],
   "source": [
    "display(df_cd.groupby([\"CCC\", \"Count Love\", 'Elephrame','Wikipedia'])['events'].count().reset_index())"
   ]
  },
  {
   "cell_type": "code",
   "execution_count": 44,
   "metadata": {},
   "outputs": [],
   "source": [
    "df_cd['city_st'].value_counts().to_frame().reset_index().sort_values(by='index').to_csv('cities.csv')"
   ]
  },
  {
   "cell_type": "code",
   "execution_count": null,
   "metadata": {},
   "outputs": [],
   "source": []
  }
 ],
 "metadata": {
  "kernelspec": {
   "display_name": "Python 3",
   "language": "python",
   "name": "python3"
  },
  "language_info": {
   "codemirror_mode": {
    "name": "ipython",
    "version": 3
   },
   "file_extension": ".py",
   "mimetype": "text/x-python",
   "name": "python",
   "nbconvert_exporter": "python",
   "pygments_lexer": "ipython3",
   "version": "3.8.3"
  }
 },
 "nbformat": 4,
 "nbformat_minor": 4
}
