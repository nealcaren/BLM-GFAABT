{
 "cells": [
  {
   "cell_type": "code",
   "execution_count": 1,
   "metadata": {},
   "outputs": [],
   "source": [
    "%load_ext blackcellmagic\n",
    "\n",
    "import pandas as pd\n",
    "import requests\n",
    "import re\n",
    "import ast\n",
    "import numpy as np"
   ]
  },
  {
   "cell_type": "markdown",
   "metadata": {},
   "source": [
    "# Count Love"
   ]
  },
  {
   "cell_type": "code",
   "execution_count": 2,
   "metadata": {},
   "outputs": [],
   "source": [
    "# main data\n",
    "cl_url = \"https://countlove.org/data/events.json\"\n",
    "r = requests.get(cl_url)\n",
    "cl_df = pd.DataFrame(r.json()[\"data\"])"
   ]
  },
  {
   "cell_type": "code",
   "execution_count": 3,
   "metadata": {},
   "outputs": [],
   "source": [
    "# article links\n",
    "cl_links = \"https://countlove.org/data/links.json\"\n",
    "r = requests.get(cl_links)"
   ]
  },
  {
   "cell_type": "code",
   "execution_count": 4,
   "metadata": {},
   "outputs": [],
   "source": [
    "# parse article links so they can be merged into main data file\n",
    "\n",
    "l = []\n",
    "j = r.json()\n",
    "\n",
    "for key in j.keys():\n",
    "    # display(key)\n",
    "    id = j[key]\n",
    "    urls = []\n",
    "    for date in id.keys():\n",
    "        urls.append(id[date][0])\n",
    "\n",
    "    m = {\"id\": key, \"urls\": urls}\n",
    "\n",
    "    l.append(m)\n",
    "link_df = pd.DataFrame(l)\n",
    "link_df['url_count'] = link_df['urls'].str.len()"
   ]
  },
  {
   "cell_type": "code",
   "execution_count": null,
   "metadata": {},
   "outputs": [],
   "source": []
  },
  {
   "cell_type": "code",
   "execution_count": 5,
   "metadata": {},
   "outputs": [],
   "source": [
    "# merge cl data and links\n",
    "link_df['id'] = link_df['id'].astype(int)\n",
    "cl_df2 = pd.merge(cl_df, link_df, left_on='id', right_on='id')"
   ]
  },
  {
   "cell_type": "code",
   "execution_count": 6,
   "metadata": {},
   "outputs": [],
   "source": [
    "# turn tag list into strings for matching\n",
    "def tag2(tags):\n",
    "    try:\n",
    "        return ', '.join([str(i) for i in tags])\n",
    "    except:\n",
    "        return str(tags)"
   ]
  },
  {
   "cell_type": "code",
   "execution_count": 7,
   "metadata": {},
   "outputs": [],
   "source": [
    "# variable cleaning\n",
    "\n",
    "cl_df2['date'] = pd.to_datetime(cl_df2['date'])\n",
    "cl_df2['collection'] = 'Count Love'\n",
    "cl_df2['size_str'] = cl_df2['count'].astype(str)\n",
    "cl_df2['size'] = cl_df2['count']"
   ]
  },
  {
   "cell_type": "code",
   "execution_count": 8,
   "metadata": {},
   "outputs": [],
   "source": [
    "#extract floyed protests\n",
    "blm_screen = cl_df2['tags'].apply(tag2) == '2, 19, 4661, 4662'\n",
    "cl_blm = cl_df2[blm_screen].copy()"
   ]
  },
  {
   "cell_type": "code",
   "execution_count": 9,
   "metadata": {},
   "outputs": [
    {
     "data": {
      "text/plain": [
       "1835"
      ]
     },
     "execution_count": 9,
     "metadata": {},
     "output_type": "execute_result"
    }
   ],
   "source": [
    "len(cl_blm)"
   ]
  },
  {
   "cell_type": "code",
   "execution_count": 10,
   "metadata": {},
   "outputs": [],
   "source": [
    "#remove extra pieces that aren't city/state\n",
    "\n",
    "def location_fix(location):\n",
    "    locations = location.split(', ')\n",
    "    if len(locations) <=2:\n",
    "        return location\n",
    "    return ', '.join(locations[-2:])\n",
    "\n",
    "cl_blm['city_st'] = cl_blm['location'].apply(location_fix)"
   ]
  },
  {
   "cell_type": "code",
   "execution_count": 11,
   "metadata": {},
   "outputs": [],
   "source": [
    "keep = ['id', 'date', 'city_st', 'location', 'size', 'size_str', 'urls', 'collection']"
   ]
  },
  {
   "cell_type": "code",
   "execution_count": 12,
   "metadata": {},
   "outputs": [],
   "source": [
    "cl_blm[keep].to_csv('cl_blm.csv', index=False)"
   ]
  },
  {
   "cell_type": "markdown",
   "metadata": {},
   "source": [
    "# Elephrame\n",
    "(Scraping using \"BLM Scrape Elephrame.ipynb\")"
   ]
  },
  {
   "cell_type": "code",
   "execution_count": 13,
   "metadata": {},
   "outputs": [],
   "source": [
    "ele_df = pd.read_csv('Elephrame.csv')\n",
    "ele_df['date'] = pd.to_datetime(ele_df['Date'])"
   ]
  },
  {
   "cell_type": "code",
   "execution_count": 14,
   "metadata": {},
   "outputs": [],
   "source": [
    "def str_2_list(links):\n",
    "    return ast.literal_eval(links)\n",
    "\n",
    "ele_df['urls'] = ele_df['Links'].apply(str_2_list)"
   ]
  },
  {
   "cell_type": "code",
   "execution_count": 15,
   "metadata": {},
   "outputs": [],
   "source": [
    "ele_df['city_st'] = ele_df['Location'].apply(location_fix)\n",
    "\n"
   ]
  },
  {
   "cell_type": "code",
   "execution_count": 16,
   "metadata": {},
   "outputs": [],
   "source": [
    "# Extract numberic component of size_str for size est.\n",
    "\n",
    "\n",
    "def size_est(size):\n",
    "    try:\n",
    "        return int(re.findall('(\\d+)', size)[0])\n",
    "    except:\n",
    "        if 'undreds' in size:\n",
    "            return 200\n",
    "        if 'housands' in size:\n",
    "            return 2000\n",
    "        if 'ozens' in size:\n",
    "            return 24\n",
    "\n",
    "ele_df['size'] = ele_df['Size'].apply(size_est)\n"
   ]
  },
  {
   "cell_type": "code",
   "execution_count": 17,
   "metadata": {},
   "outputs": [],
   "source": [
    "ele_df.rename(\n",
    "    columns={\n",
    "        \"ID\": \"id\",\n",
    "        \"Collection\": \"collection\",\n",
    "        \"Size\": \"size_str\",\n",
    "        \"Description\": \"description\",\n",
    "        \"Location\" : \"location\"\n",
    "    },\n",
    "    inplace=True,\n",
    ")"
   ]
  },
  {
   "cell_type": "code",
   "execution_count": null,
   "metadata": {},
   "outputs": [],
   "source": []
  },
  {
   "cell_type": "code",
   "execution_count": 18,
   "metadata": {},
   "outputs": [],
   "source": [
    "ele_df[keep].to_csv('ele.csv', index=False)"
   ]
  },
  {
   "cell_type": "markdown",
   "metadata": {},
   "source": [
    "CCC"
   ]
  },
  {
   "cell_type": "code",
   "execution_count": 19,
   "metadata": {},
   "outputs": [],
   "source": [
    "may_sheet = ('https://docs.google.com/spreadsheets/d/'\n",
    "               '1pZo5p9EKZJ87IvPVjIp50nQQPET_ucV8vKVfZ6NpOvg/'\n",
    "               'edit#gid=1571725208')\n",
    "\n",
    "may_sheet = may_sheet.replace('edit#gid','export?format=csv&gid')"
   ]
  },
  {
   "cell_type": "code",
   "execution_count": 20,
   "metadata": {},
   "outputs": [],
   "source": [
    "may_df = pd.read_csv(may_sheet)"
   ]
  },
  {
   "cell_type": "code",
   "execution_count": 21,
   "metadata": {},
   "outputs": [
    {
     "data": {
      "text/plain": [
       "'https://docs.google.com/spreadsheets/d/1pZo5p9EKZJ87IvPVjIp50nQQPET_ucV8vKVfZ6NpOvg/export?format=csv&gid=1571725208'"
      ]
     },
     "execution_count": 21,
     "metadata": {},
     "output_type": "execute_result"
    }
   ],
   "source": [
    "may_sheet"
   ]
  },
  {
   "cell_type": "code",
   "execution_count": 22,
   "metadata": {},
   "outputs": [],
   "source": [
    "june_sheet = ('https://docs.google.com/spreadsheets/d/'\n",
    "              '1-HM-bFsnTd9omYOrB8JOMeQ0XzPvCaVaADKqXQ_RpXg/'\n",
    "              'edit#gid=0')\n",
    "june_sheet = june_sheet.replace('edit#gid','export?format=csv&gid')"
   ]
  },
  {
   "cell_type": "code",
   "execution_count": 23,
   "metadata": {},
   "outputs": [],
   "source": [
    "june_df = pd.read_csv(june_sheet)"
   ]
  },
  {
   "cell_type": "code",
   "execution_count": 24,
   "metadata": {},
   "outputs": [],
   "source": [
    "ccc_df = may_df.append(june_df, ignore_index=True)"
   ]
  },
  {
   "cell_type": "code",
   "execution_count": 25,
   "metadata": {},
   "outputs": [],
   "source": [
    "ccc_df['size_str'] = ccc_df['EstimateText']"
   ]
  },
  {
   "cell_type": "code",
   "execution_count": null,
   "metadata": {},
   "outputs": [],
   "source": []
  },
  {
   "cell_type": "code",
   "execution_count": 26,
   "metadata": {},
   "outputs": [],
   "source": [
    "ccc_df['city_st'] = ccc_df['CityTown'] +', ' + ccc_df['StateTerritory']\n",
    "ccc_df['location'] = ccc_df['Location'].fillna('') + ', ' + ccc_df['city_st']\n",
    "ccc_df['date'] = pd.to_datetime(ccc_df['Date'])\n",
    "ccc_df['collection'] = 'CCC'\n",
    "ccc_df['id'] = None\n",
    "\n",
    "#remove blank rows from Excel\n",
    "ccc_df.dropna(subset=['city_st'], inplace=True)"
   ]
  },
  {
   "cell_type": "code",
   "execution_count": 27,
   "metadata": {},
   "outputs": [],
   "source": [
    "#needs to be better average\n",
    "\n",
    "\n",
    "def ccc_size(row):\n",
    "    if np.isnan(row['BestGuess']) == False:\n",
    "        return row['BestGuess']\n",
    "    \n",
    "    if row['EstimateLow'] == row['EstimateHigh']:\n",
    "        return row['EstimateLow']\n",
    "\n",
    "    \n",
    "    return (row['EstimateLow'] + row['EstimateHigh']) / 2\n",
    "\n",
    "ccc_df['size'] = ccc_df.apply(ccc_size, axis=1)\n"
   ]
  },
  {
   "cell_type": "code",
   "execution_count": 28,
   "metadata": {},
   "outputs": [],
   "source": [
    "#combine URLS across three variables\n",
    "def fix_urls(row):\n",
    "    urls  = []\n",
    "    for s in ['Source1', 'Source2', 'Source3']:\n",
    "        if isinstance(row[s], float) == False:\n",
    "            urls.append(row[s])\n",
    "    urls = list(set(urls))\n",
    "    return urls\n",
    "        \n",
    "ccc_df['urls'] = ccc_df.apply(fix_urls, axis=1) "
   ]
  },
  {
   "cell_type": "code",
   "execution_count": 29,
   "metadata": {},
   "outputs": [],
   "source": [
    "ccc_df[keep].to_csv('ccc_blm.csv', index=False)"
   ]
  }
 ],
 "metadata": {
  "kernelspec": {
   "display_name": "Python 3",
   "language": "python",
   "name": "python3"
  },
  "language_info": {
   "codemirror_mode": {
    "name": "ipython",
    "version": 3
   },
   "file_extension": ".py",
   "mimetype": "text/x-python",
   "name": "python",
   "nbconvert_exporter": "python",
   "pygments_lexer": "ipython3",
   "version": "3.8.3"
  }
 },
 "nbformat": 4,
 "nbformat_minor": 4
}
