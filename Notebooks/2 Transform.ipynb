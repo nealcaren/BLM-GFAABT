{
 "cells": [
  {
   "cell_type": "code",
   "execution_count": 30,
   "metadata": {},
   "outputs": [
    {
     "name": "stdout",
     "output_type": "stream",
     "text": [
      "The blackcellmagic extension is already loaded. To reload it, use:\n",
      "  %reload_ext blackcellmagic\n"
     ]
    }
   ],
   "source": [
    "%load_ext blackcellmagic\n",
    "\n",
    "import pandas as pd\n",
    "import requests\n",
    "import re\n",
    "import ast\n",
    "import numpy as np"
   ]
  },
  {
   "cell_type": "markdown",
   "metadata": {},
   "source": [
    "# Count Love"
   ]
  },
  {
   "cell_type": "code",
   "execution_count": 31,
   "metadata": {},
   "outputs": [],
   "source": [
    "# main data\n",
    "cl_url = \"https://countlove.org/data/events.json\"\n",
    "r = requests.get(cl_url)\n",
    "cl_df = pd.DataFrame(r.json()[\"data\"])"
   ]
  },
  {
   "cell_type": "code",
   "execution_count": 32,
   "metadata": {},
   "outputs": [],
   "source": [
    "# article links\n",
    "cl_links = \"https://countlove.org/data/links.json\"\n",
    "r = requests.get(cl_links)"
   ]
  },
  {
   "cell_type": "code",
   "execution_count": 33,
   "metadata": {},
   "outputs": [],
   "source": [
    "# parse article links so they can be merged into main data file\n",
    "\n",
    "l = []\n",
    "j = r.json()\n",
    "\n",
    "for key in j.keys():\n",
    "    # display(key)\n",
    "    id = j[key]\n",
    "    urls = []\n",
    "    for date in id.keys():\n",
    "        urls.append(id[date][0])\n",
    "\n",
    "    m = {\"id\": key, \"urls\": urls}\n",
    "\n",
    "    l.append(m)\n",
    "link_df = pd.DataFrame(l)\n",
    "link_df['url_count'] = link_df['urls'].str.len()"
   ]
  },
  {
   "cell_type": "code",
   "execution_count": null,
   "metadata": {},
   "outputs": [],
   "source": []
  },
  {
   "cell_type": "code",
   "execution_count": 34,
   "metadata": {},
   "outputs": [],
   "source": [
    "# merge cl data and links\n",
    "link_df['id'] = link_df['id'].astype(int)\n",
    "cl_df2 = pd.merge(cl_df, link_df, left_on='id', right_on='id')"
   ]
  },
  {
   "cell_type": "code",
   "execution_count": 35,
   "metadata": {},
   "outputs": [],
   "source": [
    "# turn tag list into strings for matching\n",
    "def tag2(tags):\n",
    "    try:\n",
    "        return ', '.join([str(i) for i in tags])\n",
    "    except:\n",
    "        return str(tags)"
   ]
  },
  {
   "cell_type": "code",
   "execution_count": 36,
   "metadata": {},
   "outputs": [],
   "source": [
    "# variable cleaning\n",
    "\n",
    "cl_df2['date'] = pd.to_datetime(cl_df2['date'])\n",
    "cl_df2['collection'] = 'Count Love'\n",
    "cl_df2['size_str'] = cl_df2['count'].astype(str)\n",
    "cl_df2['size'] = cl_df2['count']"
   ]
  },
  {
   "cell_type": "code",
   "execution_count": 37,
   "metadata": {},
   "outputs": [],
   "source": [
    "#extract floyed protests\n",
    "blm_screen = cl_df2['tags'].apply(tag2) == '2, 19, 4661, 4662'\n",
    "cl_blm = cl_df2[blm_screen].copy()"
   ]
  },
  {
   "cell_type": "code",
   "execution_count": 38,
   "metadata": {},
   "outputs": [
    {
     "data": {
      "text/plain": [
       "1835"
      ]
     },
     "execution_count": 38,
     "metadata": {},
     "output_type": "execute_result"
    }
   ],
   "source": [
    "len(cl_blm)"
   ]
  },
  {
   "cell_type": "code",
   "execution_count": 39,
   "metadata": {},
   "outputs": [],
   "source": [
    "#remove extra pieces that aren't city/state\n",
    "\n",
    "def location_fix(location):\n",
    "    locations = location.split(', ')\n",
    "    if len(locations) <=2:\n",
    "        return location\n",
    "    return ', '.join(locations[-2:])\n",
    "\n",
    "cl_blm['city_st'] = cl_blm['location'].apply(location_fix)"
   ]
  },
  {
   "cell_type": "code",
   "execution_count": 40,
   "metadata": {},
   "outputs": [],
   "source": [
    "#wrong date on early event\n",
    "\n",
    "cl_blm.loc[cl_blm['id'] == 30289, 'date'] = pd.to_datetime('2020-05-30')\n"
   ]
  },
  {
   "cell_type": "code",
   "execution_count": 41,
   "metadata": {},
   "outputs": [
    {
     "data": {
      "text/html": [
       "<div>\n",
       "<style scoped>\n",
       "    .dataframe tbody tr th:only-of-type {\n",
       "        vertical-align: middle;\n",
       "    }\n",
       "\n",
       "    .dataframe tbody tr th {\n",
       "        vertical-align: top;\n",
       "    }\n",
       "\n",
       "    .dataframe thead th {\n",
       "        text-align: right;\n",
       "    }\n",
       "</style>\n",
       "<table border=\"1\" class=\"dataframe\">\n",
       "  <thead>\n",
       "    <tr style=\"text-align: right;\">\n",
       "      <th></th>\n",
       "      <th>id</th>\n",
       "      <th>date</th>\n",
       "      <th>location</th>\n",
       "      <th>count</th>\n",
       "      <th>lat</th>\n",
       "      <th>lon</th>\n",
       "      <th>event</th>\n",
       "      <th>source</th>\n",
       "      <th>tags</th>\n",
       "      <th>relevant</th>\n",
       "      <th>total_articles</th>\n",
       "      <th>urls</th>\n",
       "      <th>url_count</th>\n",
       "      <th>collection</th>\n",
       "      <th>size_str</th>\n",
       "      <th>size</th>\n",
       "      <th>city_st</th>\n",
       "    </tr>\n",
       "  </thead>\n",
       "  <tbody>\n",
       "    <tr>\n",
       "      <th>24443</th>\n",
       "      <td>30289</td>\n",
       "      <td>2020-05-30</td>\n",
       "      <td>Tulsa, OK</td>\n",
       "      <td>NaN</td>\n",
       "      <td>36.154</td>\n",
       "      <td>-95.993</td>\n",
       "      <td>Uncategorized</td>\n",
       "      <td>https://kfor.com/news/local/protester-hit-by-v...</td>\n",
       "      <td>[2, 19, 4661, 4662]</td>\n",
       "      <td>True</td>\n",
       "      <td>1</td>\n",
       "      <td>[https://kfor.com/news/local/protester-hit-by-...</td>\n",
       "      <td>1</td>\n",
       "      <td>Count Love</td>\n",
       "      <td>nan</td>\n",
       "      <td>NaN</td>\n",
       "      <td>Tulsa, OK</td>\n",
       "    </tr>\n",
       "    <tr>\n",
       "      <th>24444</th>\n",
       "      <td>29731</td>\n",
       "      <td>2020-05-26</td>\n",
       "      <td>Powderhorn, Minneapolis, MN</td>\n",
       "      <td>1000.0</td>\n",
       "      <td>44.940</td>\n",
       "      <td>-93.263</td>\n",
       "      <td>Uncategorized</td>\n",
       "      <td>https://www.startribune.com/police-protesters-...</td>\n",
       "      <td>[2, 19, 4661, 4662]</td>\n",
       "      <td>True</td>\n",
       "      <td>53</td>\n",
       "      <td>[https://www.grandforksherald.com/news/governm...</td>\n",
       "      <td>6</td>\n",
       "      <td>Count Love</td>\n",
       "      <td>1000.0</td>\n",
       "      <td>1000.0</td>\n",
       "      <td>Minneapolis, MN</td>\n",
       "    </tr>\n",
       "    <tr>\n",
       "      <th>24449</th>\n",
       "      <td>29741</td>\n",
       "      <td>2020-05-26</td>\n",
       "      <td>Ann Arbor, MI</td>\n",
       "      <td>20.0</td>\n",
       "      <td>42.281</td>\n",
       "      <td>-83.743</td>\n",
       "      <td>Uncategorized</td>\n",
       "      <td>https://www.mlive.com/news/ann-arbor/2020/05/y...</td>\n",
       "      <td>[2, 19, 4661, 4662]</td>\n",
       "      <td>True</td>\n",
       "      <td>4</td>\n",
       "      <td>[https://www.mlive.com/news/ann-arbor/2020/05/...</td>\n",
       "      <td>4</td>\n",
       "      <td>Count Love</td>\n",
       "      <td>20.0</td>\n",
       "      <td>20.0</td>\n",
       "      <td>Ann Arbor, MI</td>\n",
       "    </tr>\n",
       "    <tr>\n",
       "      <th>24450</th>\n",
       "      <td>29744</td>\n",
       "      <td>2020-05-26</td>\n",
       "      <td>St. Paul, MN</td>\n",
       "      <td>NaN</td>\n",
       "      <td>44.954</td>\n",
       "      <td>-93.090</td>\n",
       "      <td>Uncategorized</td>\n",
       "      <td>https://www.cbsnews.com/news/protesters-gather...</td>\n",
       "      <td>[2, 19, 4661, 4662]</td>\n",
       "      <td>True</td>\n",
       "      <td>2</td>\n",
       "      <td>[https://www.cbsnews.com/news/protesters-gathe...</td>\n",
       "      <td>2</td>\n",
       "      <td>Count Love</td>\n",
       "      <td>nan</td>\n",
       "      <td>NaN</td>\n",
       "      <td>St. Paul, MN</td>\n",
       "    </tr>\n",
       "    <tr>\n",
       "      <th>24453</th>\n",
       "      <td>29792</td>\n",
       "      <td>2020-05-26</td>\n",
       "      <td>Emancipation Park, Houston, TX</td>\n",
       "      <td>NaN</td>\n",
       "      <td>29.736</td>\n",
       "      <td>-95.364</td>\n",
       "      <td>Uncategorized</td>\n",
       "      <td>https://www.houstonchronicle.com/news/houston-...</td>\n",
       "      <td>[2, 19, 4661, 4662]</td>\n",
       "      <td>True</td>\n",
       "      <td>3</td>\n",
       "      <td>[https://www.houstonchronicle.com/news/houston...</td>\n",
       "      <td>2</td>\n",
       "      <td>Count Love</td>\n",
       "      <td>nan</td>\n",
       "      <td>NaN</td>\n",
       "      <td>Houston, TX</td>\n",
       "    </tr>\n",
       "    <tr>\n",
       "      <th>...</th>\n",
       "      <td>...</td>\n",
       "      <td>...</td>\n",
       "      <td>...</td>\n",
       "      <td>...</td>\n",
       "      <td>...</td>\n",
       "      <td>...</td>\n",
       "      <td>...</td>\n",
       "      <td>...</td>\n",
       "      <td>...</td>\n",
       "      <td>...</td>\n",
       "      <td>...</td>\n",
       "      <td>...</td>\n",
       "      <td>...</td>\n",
       "      <td>...</td>\n",
       "      <td>...</td>\n",
       "      <td>...</td>\n",
       "      <td>...</td>\n",
       "    </tr>\n",
       "    <tr>\n",
       "      <th>25923</th>\n",
       "      <td>31332</td>\n",
       "      <td>2020-06-08</td>\n",
       "      <td>Houston, TX</td>\n",
       "      <td>100.0</td>\n",
       "      <td>29.760</td>\n",
       "      <td>-95.370</td>\n",
       "      <td>Uncategorized</td>\n",
       "      <td>https://www.ocregister.com/southern-california...</td>\n",
       "      <td>[2, 19, 4661, 4662]</td>\n",
       "      <td>True</td>\n",
       "      <td>1</td>\n",
       "      <td>[https://www.ocregister.com/southern-californi...</td>\n",
       "      <td>1</td>\n",
       "      <td>Count Love</td>\n",
       "      <td>100.0</td>\n",
       "      <td>100.0</td>\n",
       "      <td>Houston, TX</td>\n",
       "    </tr>\n",
       "    <tr>\n",
       "      <th>25925</th>\n",
       "      <td>31347</td>\n",
       "      <td>2020-06-08</td>\n",
       "      <td>Desert Hot Springs, CA</td>\n",
       "      <td>50.0</td>\n",
       "      <td>33.961</td>\n",
       "      <td>-116.502</td>\n",
       "      <td>Uncategorized</td>\n",
       "      <td>https://www.desertsun.com/story/news/2020/06/0...</td>\n",
       "      <td>[2, 19, 4661, 4662]</td>\n",
       "      <td>True</td>\n",
       "      <td>1</td>\n",
       "      <td>[https://www.desertsun.com/story/news/2020/06/...</td>\n",
       "      <td>1</td>\n",
       "      <td>Count Love</td>\n",
       "      <td>50.0</td>\n",
       "      <td>50.0</td>\n",
       "      <td>Desert Hot Springs, CA</td>\n",
       "    </tr>\n",
       "    <tr>\n",
       "      <th>25926</th>\n",
       "      <td>31348</td>\n",
       "      <td>2020-06-08</td>\n",
       "      <td>Palm Springs, CA</td>\n",
       "      <td>NaN</td>\n",
       "      <td>33.830</td>\n",
       "      <td>-116.545</td>\n",
       "      <td>Uncategorized</td>\n",
       "      <td>https://www.desertsun.com/story/news/2020/06/0...</td>\n",
       "      <td>[2, 19, 4661, 4662]</td>\n",
       "      <td>True</td>\n",
       "      <td>1</td>\n",
       "      <td>[https://www.desertsun.com/story/news/2020/06/...</td>\n",
       "      <td>1</td>\n",
       "      <td>Count Love</td>\n",
       "      <td>nan</td>\n",
       "      <td>NaN</td>\n",
       "      <td>Palm Springs, CA</td>\n",
       "    </tr>\n",
       "    <tr>\n",
       "      <th>25927</th>\n",
       "      <td>31351</td>\n",
       "      <td>2020-06-08</td>\n",
       "      <td>Manchester, NJ</td>\n",
       "      <td>200.0</td>\n",
       "      <td>39.971</td>\n",
       "      <td>-74.339</td>\n",
       "      <td>Uncategorized</td>\n",
       "      <td>https://www.app.com/story/news/local/community...</td>\n",
       "      <td>[2, 19, 4661, 4662]</td>\n",
       "      <td>True</td>\n",
       "      <td>1</td>\n",
       "      <td>[https://www.app.com/story/news/local/communit...</td>\n",
       "      <td>1</td>\n",
       "      <td>Count Love</td>\n",
       "      <td>200.0</td>\n",
       "      <td>200.0</td>\n",
       "      <td>Manchester, NJ</td>\n",
       "    </tr>\n",
       "    <tr>\n",
       "      <th>25928</th>\n",
       "      <td>31376</td>\n",
       "      <td>2020-06-08</td>\n",
       "      <td>Naperville, IL</td>\n",
       "      <td>150.0</td>\n",
       "      <td>41.751</td>\n",
       "      <td>-88.154</td>\n",
       "      <td>Uncategorized</td>\n",
       "      <td>https://www.chicagotribune.com/suburbs/napervi...</td>\n",
       "      <td>[2, 19, 4661, 4662]</td>\n",
       "      <td>True</td>\n",
       "      <td>1</td>\n",
       "      <td>[https://www.chicagotribune.com/suburbs/naperv...</td>\n",
       "      <td>1</td>\n",
       "      <td>Count Love</td>\n",
       "      <td>150.0</td>\n",
       "      <td>150.0</td>\n",
       "      <td>Naperville, IL</td>\n",
       "    </tr>\n",
       "  </tbody>\n",
       "</table>\n",
       "<p>1376 rows × 17 columns</p>\n",
       "</div>"
      ],
      "text/plain": [
       "          id       date                        location   count     lat  \\\n",
       "24443  30289 2020-05-30                       Tulsa, OK     NaN  36.154   \n",
       "24444  29731 2020-05-26     Powderhorn, Minneapolis, MN  1000.0  44.940   \n",
       "24449  29741 2020-05-26                   Ann Arbor, MI    20.0  42.281   \n",
       "24450  29744 2020-05-26                    St. Paul, MN     NaN  44.954   \n",
       "24453  29792 2020-05-26  Emancipation Park, Houston, TX     NaN  29.736   \n",
       "...      ...        ...                             ...     ...     ...   \n",
       "25923  31332 2020-06-08                     Houston, TX   100.0  29.760   \n",
       "25925  31347 2020-06-08          Desert Hot Springs, CA    50.0  33.961   \n",
       "25926  31348 2020-06-08                Palm Springs, CA     NaN  33.830   \n",
       "25927  31351 2020-06-08                  Manchester, NJ   200.0  39.971   \n",
       "25928  31376 2020-06-08                  Naperville, IL   150.0  41.751   \n",
       "\n",
       "           lon          event  \\\n",
       "24443  -95.993  Uncategorized   \n",
       "24444  -93.263  Uncategorized   \n",
       "24449  -83.743  Uncategorized   \n",
       "24450  -93.090  Uncategorized   \n",
       "24453  -95.364  Uncategorized   \n",
       "...        ...            ...   \n",
       "25923  -95.370  Uncategorized   \n",
       "25925 -116.502  Uncategorized   \n",
       "25926 -116.545  Uncategorized   \n",
       "25927  -74.339  Uncategorized   \n",
       "25928  -88.154  Uncategorized   \n",
       "\n",
       "                                                  source                 tags  \\\n",
       "24443  https://kfor.com/news/local/protester-hit-by-v...  [2, 19, 4661, 4662]   \n",
       "24444  https://www.startribune.com/police-protesters-...  [2, 19, 4661, 4662]   \n",
       "24449  https://www.mlive.com/news/ann-arbor/2020/05/y...  [2, 19, 4661, 4662]   \n",
       "24450  https://www.cbsnews.com/news/protesters-gather...  [2, 19, 4661, 4662]   \n",
       "24453  https://www.houstonchronicle.com/news/houston-...  [2, 19, 4661, 4662]   \n",
       "...                                                  ...                  ...   \n",
       "25923  https://www.ocregister.com/southern-california...  [2, 19, 4661, 4662]   \n",
       "25925  https://www.desertsun.com/story/news/2020/06/0...  [2, 19, 4661, 4662]   \n",
       "25926  https://www.desertsun.com/story/news/2020/06/0...  [2, 19, 4661, 4662]   \n",
       "25927  https://www.app.com/story/news/local/community...  [2, 19, 4661, 4662]   \n",
       "25928  https://www.chicagotribune.com/suburbs/napervi...  [2, 19, 4661, 4662]   \n",
       "\n",
       "       relevant  total_articles  \\\n",
       "24443      True               1   \n",
       "24444      True              53   \n",
       "24449      True               4   \n",
       "24450      True               2   \n",
       "24453      True               3   \n",
       "...         ...             ...   \n",
       "25923      True               1   \n",
       "25925      True               1   \n",
       "25926      True               1   \n",
       "25927      True               1   \n",
       "25928      True               1   \n",
       "\n",
       "                                                    urls  url_count  \\\n",
       "24443  [https://kfor.com/news/local/protester-hit-by-...          1   \n",
       "24444  [https://www.grandforksherald.com/news/governm...          6   \n",
       "24449  [https://www.mlive.com/news/ann-arbor/2020/05/...          4   \n",
       "24450  [https://www.cbsnews.com/news/protesters-gathe...          2   \n",
       "24453  [https://www.houstonchronicle.com/news/houston...          2   \n",
       "...                                                  ...        ...   \n",
       "25923  [https://www.ocregister.com/southern-californi...          1   \n",
       "25925  [https://www.desertsun.com/story/news/2020/06/...          1   \n",
       "25926  [https://www.desertsun.com/story/news/2020/06/...          1   \n",
       "25927  [https://www.app.com/story/news/local/communit...          1   \n",
       "25928  [https://www.chicagotribune.com/suburbs/naperv...          1   \n",
       "\n",
       "       collection size_str    size                 city_st  \n",
       "24443  Count Love      nan     NaN               Tulsa, OK  \n",
       "24444  Count Love   1000.0  1000.0         Minneapolis, MN  \n",
       "24449  Count Love     20.0    20.0           Ann Arbor, MI  \n",
       "24450  Count Love      nan     NaN            St. Paul, MN  \n",
       "24453  Count Love      nan     NaN             Houston, TX  \n",
       "...           ...      ...     ...                     ...  \n",
       "25923  Count Love    100.0   100.0             Houston, TX  \n",
       "25925  Count Love     50.0    50.0  Desert Hot Springs, CA  \n",
       "25926  Count Love      nan     NaN        Palm Springs, CA  \n",
       "25927  Count Love    200.0   200.0          Manchester, NJ  \n",
       "25928  Count Love    150.0   150.0          Naperville, IL  \n",
       "\n",
       "[1376 rows x 17 columns]"
      ]
     },
     "execution_count": 41,
     "metadata": {},
     "output_type": "execute_result"
    }
   ],
   "source": [
    "date_start = pd.to_datetime('2020-05-24')\n",
    "cl_blm[pd.to_datetime(cl_blm['date']) >= date_start]\n",
    "\n"
   ]
  },
  {
   "cell_type": "code",
   "execution_count": 42,
   "metadata": {},
   "outputs": [],
   "source": [
    "keep = ['id', 'date', 'city_st', 'location', 'size', 'size_str', 'urls', 'collection']"
   ]
  },
  {
   "cell_type": "code",
   "execution_count": 43,
   "metadata": {},
   "outputs": [],
   "source": [
    "cl_blm[keep].to_csv('cl_blm.csv', index=False)"
   ]
  },
  {
   "cell_type": "markdown",
   "metadata": {},
   "source": [
    "# Elephrame\n",
    "(Scraping using \"BLM Scrape Elephrame.ipynb\")"
   ]
  },
  {
   "cell_type": "code",
   "execution_count": 44,
   "metadata": {},
   "outputs": [],
   "source": [
    "ele_df = pd.read_csv('Elephrame.csv')\n",
    "ele_df['date'] = pd.to_datetime(ele_df['Date'])"
   ]
  },
  {
   "cell_type": "code",
   "execution_count": 45,
   "metadata": {},
   "outputs": [],
   "source": [
    "def str_2_list(links):\n",
    "    return ast.literal_eval(links)\n",
    "\n",
    "ele_df['urls'] = ele_df['Links'].apply(str_2_list)"
   ]
  },
  {
   "cell_type": "code",
   "execution_count": 46,
   "metadata": {},
   "outputs": [],
   "source": [
    "ele_df['city_st'] = ele_df['Location'].apply(location_fix)\n",
    "\n"
   ]
  },
  {
   "cell_type": "code",
   "execution_count": 47,
   "metadata": {},
   "outputs": [],
   "source": [
    "# Extract numberic component of size_str for size est.\n",
    "\n",
    "\n",
    "def size_est(size):\n",
    "    try:\n",
    "        return int(re.findall('(\\d+)', size)[0])\n",
    "    except:\n",
    "        if 'undreds' in size:\n",
    "            return 200\n",
    "        if 'housands' in size:\n",
    "            return 2000\n",
    "        if 'ozens' in size:\n",
    "            return 24\n",
    "\n",
    "ele_df['size'] = ele_df['Size'].apply(size_est)\n"
   ]
  },
  {
   "cell_type": "code",
   "execution_count": 48,
   "metadata": {},
   "outputs": [],
   "source": [
    "ele_df.rename(\n",
    "    columns={\n",
    "        \"ID\": \"id\",\n",
    "        \"Collection\": \"collection\",\n",
    "        \"Size\": \"size_str\",\n",
    "        \"Description\": \"description\",\n",
    "        \"Location\" : \"location\"\n",
    "    },\n",
    "    inplace=True,\n",
    ")"
   ]
  },
  {
   "cell_type": "code",
   "execution_count": null,
   "metadata": {},
   "outputs": [],
   "source": []
  },
  {
   "cell_type": "code",
   "execution_count": 49,
   "metadata": {},
   "outputs": [],
   "source": [
    "ele_df[keep].to_csv('ele.csv', index=False)"
   ]
  },
  {
   "cell_type": "markdown",
   "metadata": {},
   "source": [
    "CCC"
   ]
  },
  {
   "cell_type": "code",
   "execution_count": 50,
   "metadata": {},
   "outputs": [],
   "source": [
    "may_sheet = ('https://docs.google.com/spreadsheets/d/'\n",
    "               '1pZo5p9EKZJ87IvPVjIp50nQQPET_ucV8vKVfZ6NpOvg/'\n",
    "               'edit#gid=1571725208')\n",
    "\n",
    "may_sheet = may_sheet.replace('edit#gid','export?format=csv&gid')"
   ]
  },
  {
   "cell_type": "code",
   "execution_count": 51,
   "metadata": {},
   "outputs": [],
   "source": [
    "may_df = pd.read_csv(may_sheet)"
   ]
  },
  {
   "cell_type": "code",
   "execution_count": 52,
   "metadata": {},
   "outputs": [
    {
     "data": {
      "text/plain": [
       "'https://docs.google.com/spreadsheets/d/1pZo5p9EKZJ87IvPVjIp50nQQPET_ucV8vKVfZ6NpOvg/export?format=csv&gid=1571725208'"
      ]
     },
     "execution_count": 52,
     "metadata": {},
     "output_type": "execute_result"
    }
   ],
   "source": [
    "may_sheet"
   ]
  },
  {
   "cell_type": "code",
   "execution_count": 53,
   "metadata": {},
   "outputs": [],
   "source": [
    "june_sheet = ('https://docs.google.com/spreadsheets/d/'\n",
    "              '1-HM-bFsnTd9omYOrB8JOMeQ0XzPvCaVaADKqXQ_RpXg/'\n",
    "              'edit#gid=0')\n",
    "june_sheet = june_sheet.replace('edit#gid','export?format=csv&gid')"
   ]
  },
  {
   "cell_type": "code",
   "execution_count": 54,
   "metadata": {},
   "outputs": [],
   "source": [
    "june_df = pd.read_csv(june_sheet)"
   ]
  },
  {
   "cell_type": "code",
   "execution_count": 55,
   "metadata": {},
   "outputs": [],
   "source": [
    "ccc_df = may_df.append(june_df, ignore_index=True)"
   ]
  },
  {
   "cell_type": "code",
   "execution_count": 56,
   "metadata": {},
   "outputs": [],
   "source": [
    "ccc_df['size_str'] = ccc_df['EstimateText']"
   ]
  },
  {
   "cell_type": "code",
   "execution_count": null,
   "metadata": {},
   "outputs": [],
   "source": []
  },
  {
   "cell_type": "code",
   "execution_count": 57,
   "metadata": {},
   "outputs": [],
   "source": [
    "ccc_df['city_st'] = ccc_df['CityTown'] +', ' + ccc_df['StateTerritory']\n",
    "ccc_df['location'] = ccc_df['Location'].fillna('') + ', ' + ccc_df['city_st']\n",
    "ccc_df['date'] = pd.to_datetime(ccc_df['Date'])\n",
    "ccc_df['collection'] = 'CCC'\n",
    "ccc_df['id'] = None\n",
    "\n",
    "#remove blank rows from Excel\n",
    "ccc_df.dropna(subset=['city_st'], inplace=True)"
   ]
  },
  {
   "cell_type": "code",
   "execution_count": 58,
   "metadata": {},
   "outputs": [],
   "source": [
    "#needs to be better average\n",
    "\n",
    "\n",
    "def ccc_size(row):\n",
    "    if np.isnan(row['BestGuess']) == False:\n",
    "        return row['BestGuess']\n",
    "    \n",
    "    if row['EstimateLow'] == row['EstimateHigh']:\n",
    "        return row['EstimateLow']\n",
    "\n",
    "    \n",
    "    return (row['EstimateLow'] + row['EstimateHigh']) / 2\n",
    "\n",
    "ccc_df['size'] = ccc_df.apply(ccc_size, axis=1)\n"
   ]
  },
  {
   "cell_type": "code",
   "execution_count": 59,
   "metadata": {},
   "outputs": [],
   "source": [
    "#combine URLS across three variables\n",
    "def fix_urls(row):\n",
    "    urls  = []\n",
    "    for s in ['Source1', 'Source2', 'Source3']:\n",
    "        if isinstance(row[s], float) == False:\n",
    "            urls.append(row[s])\n",
    "    urls = list(set(urls))\n",
    "    return urls\n",
    "        \n",
    "ccc_df['urls'] = ccc_df.apply(fix_urls, axis=1) "
   ]
  },
  {
   "cell_type": "code",
   "execution_count": 60,
   "metadata": {},
   "outputs": [],
   "source": [
    "ccc_df[keep].to_csv('ccc_blm.csv', index=False)"
   ]
  }
 ],
 "metadata": {
  "kernelspec": {
   "display_name": "Python 3",
   "language": "python",
   "name": "python3"
  },
  "language_info": {
   "codemirror_mode": {
    "name": "ipython",
    "version": 3
   },
   "file_extension": ".py",
   "mimetype": "text/x-python",
   "name": "python",
   "nbconvert_exporter": "python",
   "pygments_lexer": "ipython3",
   "version": "3.8.3"
  }
 },
 "nbformat": 4,
 "nbformat_minor": 4
}
