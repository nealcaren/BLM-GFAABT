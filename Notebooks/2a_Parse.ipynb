{
 "cells": [
  {
   "cell_type": "code",
   "execution_count": 1,
   "metadata": {},
   "outputs": [],
   "source": [
    "\n",
    "import pandas as pd\n",
    "import requests\n",
    "import re\n",
    "import ast\n",
    "import numpy as np"
   ]
  },
  {
   "cell_type": "markdown",
   "metadata": {},
   "source": [
    "# Count Love"
   ]
  },
  {
   "cell_type": "code",
   "execution_count": 2,
   "metadata": {},
   "outputs": [],
   "source": [
    "# main data\n",
    "cl_url = \"https://countlove.org/data/events.json\"\n",
    "r = requests.get(cl_url)\n",
    "cl_df = pd.DataFrame(r.json()[\"data\"])"
   ]
  },
  {
   "cell_type": "code",
   "execution_count": 3,
   "metadata": {},
   "outputs": [],
   "source": [
    "# article links\n",
    "cl_links = \"https://countlove.org/data/links.json\"\n",
    "r = requests.get(cl_links)"
   ]
  },
  {
   "cell_type": "code",
   "execution_count": 4,
   "metadata": {},
   "outputs": [],
   "source": [
    "# parse article links so they can be merged into main data file\n",
    "\n",
    "l = []\n",
    "j = r.json()\n",
    "\n",
    "for key in j.keys():\n",
    "    # display(key)\n",
    "    id = j[key]\n",
    "    urls = []\n",
    "    for date in id.keys():\n",
    "        urls.append(id[date][0])\n",
    "\n",
    "    m = {\"id\": key, \"urls\": urls}\n",
    "\n",
    "    l.append(m)\n",
    "link_df = pd.DataFrame(l)\n",
    "link_df['url_count'] = link_df['urls'].str.len()"
   ]
  },
  {
   "cell_type": "code",
   "execution_count": null,
   "metadata": {},
   "outputs": [],
   "source": []
  },
  {
   "cell_type": "code",
   "execution_count": 5,
   "metadata": {},
   "outputs": [],
   "source": [
    "# merge cl data and links\n",
    "link_df['id'] = link_df['id'].astype(int)\n",
    "cl_df2 = pd.merge(cl_df, link_df, left_on='id', right_on='id')"
   ]
  },
  {
   "cell_type": "code",
   "execution_count": 6,
   "metadata": {},
   "outputs": [],
   "source": [
    "# turn tag list into strings for matching\n",
    "def tag2(tags):\n",
    "    try:\n",
    "        return ', '.join([str(i) for i in tags])\n",
    "    except:\n",
    "        return str(tags)"
   ]
  },
  {
   "cell_type": "code",
   "execution_count": 7,
   "metadata": {},
   "outputs": [],
   "source": [
    "# variable cleaning\n",
    "\n",
    "cl_df2['date'] = pd.to_datetime(cl_df2['date'])\n",
    "cl_df2['collection'] = 'Count Love'\n",
    "cl_df2['size_str'] = cl_df2['count'].astype(str)\n",
    "cl_df2['size'] = cl_df2['count']"
   ]
  },
  {
   "cell_type": "code",
   "execution_count": 8,
   "metadata": {},
   "outputs": [],
   "source": [
    "#extract floyed protests\n",
    "blm_screen = cl_df2['tags'].apply(tag2) == '2, 19, 4661, 4662'\n",
    "cl_blm = cl_df2[blm_screen].copy()"
   ]
  },
  {
   "cell_type": "code",
   "execution_count": 9,
   "metadata": {},
   "outputs": [
    {
     "data": {
      "text/plain": [
       "2035"
      ]
     },
     "execution_count": 9,
     "metadata": {},
     "output_type": "execute_result"
    }
   ],
   "source": [
    "len(cl_blm)"
   ]
  },
  {
   "cell_type": "code",
   "execution_count": 10,
   "metadata": {},
   "outputs": [],
   "source": [
    "#remove extra pieces that aren't city/state\n",
    "\n",
    "def location_fix(location):\n",
    "    locations = location.split(', ')\n",
    "    if len(locations) <=2:\n",
    "        return location\n",
    "    return ', '.join(locations[-2:])\n",
    "\n",
    "cl_blm['city_st'] = cl_blm['location'].apply(location_fix)"
   ]
  },
  {
   "cell_type": "code",
   "execution_count": 11,
   "metadata": {},
   "outputs": [],
   "source": [
    "#wrong date on early event\n",
    "\n",
    "cl_blm.loc[cl_blm['id'] == 30289, 'date'] = pd.to_datetime('2020-05-30')\n"
   ]
  },
  {
   "cell_type": "code",
   "execution_count": 12,
   "metadata": {},
   "outputs": [
    {
     "data": {
      "text/html": [
       "<div>\n",
       "<style scoped>\n",
       "    .dataframe tbody tr th:only-of-type {\n",
       "        vertical-align: middle;\n",
       "    }\n",
       "\n",
       "    .dataframe tbody tr th {\n",
       "        vertical-align: top;\n",
       "    }\n",
       "\n",
       "    .dataframe thead th {\n",
       "        text-align: right;\n",
       "    }\n",
       "</style>\n",
       "<table border=\"1\" class=\"dataframe\">\n",
       "  <thead>\n",
       "    <tr style=\"text-align: right;\">\n",
       "      <th></th>\n",
       "      <th>id</th>\n",
       "      <th>date</th>\n",
       "      <th>location</th>\n",
       "      <th>count</th>\n",
       "      <th>lat</th>\n",
       "      <th>lon</th>\n",
       "      <th>event</th>\n",
       "      <th>source</th>\n",
       "      <th>tags</th>\n",
       "      <th>relevant</th>\n",
       "      <th>total_articles</th>\n",
       "      <th>urls</th>\n",
       "      <th>url_count</th>\n",
       "      <th>collection</th>\n",
       "      <th>size_str</th>\n",
       "      <th>size</th>\n",
       "      <th>city_st</th>\n",
       "    </tr>\n",
       "  </thead>\n",
       "  <tbody>\n",
       "    <tr>\n",
       "      <th>24445</th>\n",
       "      <td>30289</td>\n",
       "      <td>2020-05-30</td>\n",
       "      <td>Tulsa, OK</td>\n",
       "      <td>NaN</td>\n",
       "      <td>36.154</td>\n",
       "      <td>-95.993</td>\n",
       "      <td>Uncategorized</td>\n",
       "      <td>https://kfor.com/news/local/protester-hit-by-v...</td>\n",
       "      <td>[2, 19, 4661, 4662]</td>\n",
       "      <td>True</td>\n",
       "      <td>1</td>\n",
       "      <td>[https://kfor.com/news/local/protester-hit-by-...</td>\n",
       "      <td>1</td>\n",
       "      <td>Count Love</td>\n",
       "      <td>nan</td>\n",
       "      <td>NaN</td>\n",
       "      <td>Tulsa, OK</td>\n",
       "    </tr>\n",
       "    <tr>\n",
       "      <th>24446</th>\n",
       "      <td>29731</td>\n",
       "      <td>2020-05-26</td>\n",
       "      <td>Powderhorn, Minneapolis, MN</td>\n",
       "      <td>1000.0</td>\n",
       "      <td>44.940</td>\n",
       "      <td>-93.263</td>\n",
       "      <td>Uncategorized</td>\n",
       "      <td>https://www.startribune.com/police-protesters-...</td>\n",
       "      <td>[2, 19, 4661, 4662]</td>\n",
       "      <td>True</td>\n",
       "      <td>53</td>\n",
       "      <td>[https://www.grandforksherald.com/news/governm...</td>\n",
       "      <td>6</td>\n",
       "      <td>Count Love</td>\n",
       "      <td>1000.0</td>\n",
       "      <td>1000.0</td>\n",
       "      <td>Minneapolis, MN</td>\n",
       "    </tr>\n",
       "    <tr>\n",
       "      <th>24451</th>\n",
       "      <td>29741</td>\n",
       "      <td>2020-05-26</td>\n",
       "      <td>Ann Arbor, MI</td>\n",
       "      <td>20.0</td>\n",
       "      <td>42.281</td>\n",
       "      <td>-83.743</td>\n",
       "      <td>Uncategorized</td>\n",
       "      <td>https://www.mlive.com/news/ann-arbor/2020/05/y...</td>\n",
       "      <td>[2, 19, 4661, 4662]</td>\n",
       "      <td>True</td>\n",
       "      <td>4</td>\n",
       "      <td>[https://www.mlive.com/news/ann-arbor/2020/05/...</td>\n",
       "      <td>4</td>\n",
       "      <td>Count Love</td>\n",
       "      <td>20.0</td>\n",
       "      <td>20.0</td>\n",
       "      <td>Ann Arbor, MI</td>\n",
       "    </tr>\n",
       "    <tr>\n",
       "      <th>24452</th>\n",
       "      <td>29744</td>\n",
       "      <td>2020-05-26</td>\n",
       "      <td>St. Paul, MN</td>\n",
       "      <td>NaN</td>\n",
       "      <td>44.954</td>\n",
       "      <td>-93.090</td>\n",
       "      <td>Uncategorized</td>\n",
       "      <td>https://www.cbsnews.com/news/protesters-gather...</td>\n",
       "      <td>[2, 19, 4661, 4662]</td>\n",
       "      <td>True</td>\n",
       "      <td>2</td>\n",
       "      <td>[https://www.cbsnews.com/news/protesters-gathe...</td>\n",
       "      <td>2</td>\n",
       "      <td>Count Love</td>\n",
       "      <td>nan</td>\n",
       "      <td>NaN</td>\n",
       "      <td>St. Paul, MN</td>\n",
       "    </tr>\n",
       "    <tr>\n",
       "      <th>24455</th>\n",
       "      <td>29792</td>\n",
       "      <td>2020-05-26</td>\n",
       "      <td>Emancipation Park, Houston, TX</td>\n",
       "      <td>NaN</td>\n",
       "      <td>29.736</td>\n",
       "      <td>-95.364</td>\n",
       "      <td>Uncategorized</td>\n",
       "      <td>https://www.houstonchronicle.com/news/houston-...</td>\n",
       "      <td>[2, 19, 4661, 4662]</td>\n",
       "      <td>True</td>\n",
       "      <td>3</td>\n",
       "      <td>[https://www.houstonchronicle.com/news/houston...</td>\n",
       "      <td>2</td>\n",
       "      <td>Count Love</td>\n",
       "      <td>nan</td>\n",
       "      <td>NaN</td>\n",
       "      <td>Houston, TX</td>\n",
       "    </tr>\n",
       "    <tr>\n",
       "      <th>...</th>\n",
       "      <td>...</td>\n",
       "      <td>...</td>\n",
       "      <td>...</td>\n",
       "      <td>...</td>\n",
       "      <td>...</td>\n",
       "      <td>...</td>\n",
       "      <td>...</td>\n",
       "      <td>...</td>\n",
       "      <td>...</td>\n",
       "      <td>...</td>\n",
       "      <td>...</td>\n",
       "      <td>...</td>\n",
       "      <td>...</td>\n",
       "      <td>...</td>\n",
       "      <td>...</td>\n",
       "      <td>...</td>\n",
       "      <td>...</td>\n",
       "    </tr>\n",
       "    <tr>\n",
       "      <th>26135</th>\n",
       "      <td>31539</td>\n",
       "      <td>2020-06-10</td>\n",
       "      <td>City Hall, Portland, OR</td>\n",
       "      <td>1000.0</td>\n",
       "      <td>45.515</td>\n",
       "      <td>-122.679</td>\n",
       "      <td>Uncategorized</td>\n",
       "      <td>https://www.oregonlive.com/portland/2020/06/as...</td>\n",
       "      <td>[2, 19, 4661, 4662]</td>\n",
       "      <td>True</td>\n",
       "      <td>1</td>\n",
       "      <td>[https://www.oregonlive.com/portland/2020/06/a...</td>\n",
       "      <td>1</td>\n",
       "      <td>Count Love</td>\n",
       "      <td>1000.0</td>\n",
       "      <td>1000.0</td>\n",
       "      <td>Portland, OR</td>\n",
       "    </tr>\n",
       "    <tr>\n",
       "      <th>26136</th>\n",
       "      <td>31554</td>\n",
       "      <td>2020-06-10</td>\n",
       "      <td>Milwaukee, WI</td>\n",
       "      <td>NaN</td>\n",
       "      <td>43.039</td>\n",
       "      <td>-87.906</td>\n",
       "      <td>Uncategorized</td>\n",
       "      <td>https://fox6now.com/2020/06/10/group-of-milwau...</td>\n",
       "      <td>[2, 19, 4661, 4662]</td>\n",
       "      <td>True</td>\n",
       "      <td>1</td>\n",
       "      <td>[https://fox6now.com/2020/06/10/group-of-milwa...</td>\n",
       "      <td>1</td>\n",
       "      <td>Count Love</td>\n",
       "      <td>nan</td>\n",
       "      <td>NaN</td>\n",
       "      <td>Milwaukee, WI</td>\n",
       "    </tr>\n",
       "    <tr>\n",
       "      <th>26137</th>\n",
       "      <td>31556</td>\n",
       "      <td>2020-06-10</td>\n",
       "      <td>San Marcos, TX</td>\n",
       "      <td>100.0</td>\n",
       "      <td>29.883</td>\n",
       "      <td>-97.941</td>\n",
       "      <td>Uncategorized</td>\n",
       "      <td>https://www.statesman.com/news/20200610/dozens...</td>\n",
       "      <td>[2, 19, 4661, 4662]</td>\n",
       "      <td>True</td>\n",
       "      <td>2</td>\n",
       "      <td>[https://www.statesman.com/news/20200610/dozen...</td>\n",
       "      <td>2</td>\n",
       "      <td>Count Love</td>\n",
       "      <td>100.0</td>\n",
       "      <td>100.0</td>\n",
       "      <td>San Marcos, TX</td>\n",
       "    </tr>\n",
       "    <tr>\n",
       "      <th>26138</th>\n",
       "      <td>31568</td>\n",
       "      <td>2020-06-10</td>\n",
       "      <td>Boston, MA</td>\n",
       "      <td>100.0</td>\n",
       "      <td>42.360</td>\n",
       "      <td>-71.059</td>\n",
       "      <td>Uncategorized</td>\n",
       "      <td>https://www.bostonherald.com/2020/06/10/defund...</td>\n",
       "      <td>[2, 19, 4661, 4662]</td>\n",
       "      <td>True</td>\n",
       "      <td>1</td>\n",
       "      <td>[https://www.bostonherald.com/2020/06/10/defun...</td>\n",
       "      <td>1</td>\n",
       "      <td>Count Love</td>\n",
       "      <td>100.0</td>\n",
       "      <td>100.0</td>\n",
       "      <td>Boston, MA</td>\n",
       "    </tr>\n",
       "    <tr>\n",
       "      <th>26145</th>\n",
       "      <td>31585</td>\n",
       "      <td>2020-06-10</td>\n",
       "      <td>Washington, DC</td>\n",
       "      <td>20.0</td>\n",
       "      <td>38.907</td>\n",
       "      <td>-77.037</td>\n",
       "      <td>Uncategorized</td>\n",
       "      <td>https://www.washingtonpost.com/local/as-dc-pro...</td>\n",
       "      <td>[2, 19, 4661, 4662]</td>\n",
       "      <td>True</td>\n",
       "      <td>1</td>\n",
       "      <td>[https://www.washingtonpost.com/local/as-dc-pr...</td>\n",
       "      <td>1</td>\n",
       "      <td>Count Love</td>\n",
       "      <td>20.0</td>\n",
       "      <td>20.0</td>\n",
       "      <td>Washington, DC</td>\n",
       "    </tr>\n",
       "  </tbody>\n",
       "</table>\n",
       "<p>1576 rows × 17 columns</p>\n",
       "</div>"
      ],
      "text/plain": [
       "          id       date                        location   count     lat  \\\n",
       "24445  30289 2020-05-30                       Tulsa, OK     NaN  36.154   \n",
       "24446  29731 2020-05-26     Powderhorn, Minneapolis, MN  1000.0  44.940   \n",
       "24451  29741 2020-05-26                   Ann Arbor, MI    20.0  42.281   \n",
       "24452  29744 2020-05-26                    St. Paul, MN     NaN  44.954   \n",
       "24455  29792 2020-05-26  Emancipation Park, Houston, TX     NaN  29.736   \n",
       "...      ...        ...                             ...     ...     ...   \n",
       "26135  31539 2020-06-10         City Hall, Portland, OR  1000.0  45.515   \n",
       "26136  31554 2020-06-10                   Milwaukee, WI     NaN  43.039   \n",
       "26137  31556 2020-06-10                  San Marcos, TX   100.0  29.883   \n",
       "26138  31568 2020-06-10                      Boston, MA   100.0  42.360   \n",
       "26145  31585 2020-06-10                  Washington, DC    20.0  38.907   \n",
       "\n",
       "           lon          event  \\\n",
       "24445  -95.993  Uncategorized   \n",
       "24446  -93.263  Uncategorized   \n",
       "24451  -83.743  Uncategorized   \n",
       "24452  -93.090  Uncategorized   \n",
       "24455  -95.364  Uncategorized   \n",
       "...        ...            ...   \n",
       "26135 -122.679  Uncategorized   \n",
       "26136  -87.906  Uncategorized   \n",
       "26137  -97.941  Uncategorized   \n",
       "26138  -71.059  Uncategorized   \n",
       "26145  -77.037  Uncategorized   \n",
       "\n",
       "                                                  source                 tags  \\\n",
       "24445  https://kfor.com/news/local/protester-hit-by-v...  [2, 19, 4661, 4662]   \n",
       "24446  https://www.startribune.com/police-protesters-...  [2, 19, 4661, 4662]   \n",
       "24451  https://www.mlive.com/news/ann-arbor/2020/05/y...  [2, 19, 4661, 4662]   \n",
       "24452  https://www.cbsnews.com/news/protesters-gather...  [2, 19, 4661, 4662]   \n",
       "24455  https://www.houstonchronicle.com/news/houston-...  [2, 19, 4661, 4662]   \n",
       "...                                                  ...                  ...   \n",
       "26135  https://www.oregonlive.com/portland/2020/06/as...  [2, 19, 4661, 4662]   \n",
       "26136  https://fox6now.com/2020/06/10/group-of-milwau...  [2, 19, 4661, 4662]   \n",
       "26137  https://www.statesman.com/news/20200610/dozens...  [2, 19, 4661, 4662]   \n",
       "26138  https://www.bostonherald.com/2020/06/10/defund...  [2, 19, 4661, 4662]   \n",
       "26145  https://www.washingtonpost.com/local/as-dc-pro...  [2, 19, 4661, 4662]   \n",
       "\n",
       "       relevant  total_articles  \\\n",
       "24445      True               1   \n",
       "24446      True              53   \n",
       "24451      True               4   \n",
       "24452      True               2   \n",
       "24455      True               3   \n",
       "...         ...             ...   \n",
       "26135      True               1   \n",
       "26136      True               1   \n",
       "26137      True               2   \n",
       "26138      True               1   \n",
       "26145      True               1   \n",
       "\n",
       "                                                    urls  url_count  \\\n",
       "24445  [https://kfor.com/news/local/protester-hit-by-...          1   \n",
       "24446  [https://www.grandforksherald.com/news/governm...          6   \n",
       "24451  [https://www.mlive.com/news/ann-arbor/2020/05/...          4   \n",
       "24452  [https://www.cbsnews.com/news/protesters-gathe...          2   \n",
       "24455  [https://www.houstonchronicle.com/news/houston...          2   \n",
       "...                                                  ...        ...   \n",
       "26135  [https://www.oregonlive.com/portland/2020/06/a...          1   \n",
       "26136  [https://fox6now.com/2020/06/10/group-of-milwa...          1   \n",
       "26137  [https://www.statesman.com/news/20200610/dozen...          2   \n",
       "26138  [https://www.bostonherald.com/2020/06/10/defun...          1   \n",
       "26145  [https://www.washingtonpost.com/local/as-dc-pr...          1   \n",
       "\n",
       "       collection size_str    size          city_st  \n",
       "24445  Count Love      nan     NaN        Tulsa, OK  \n",
       "24446  Count Love   1000.0  1000.0  Minneapolis, MN  \n",
       "24451  Count Love     20.0    20.0    Ann Arbor, MI  \n",
       "24452  Count Love      nan     NaN     St. Paul, MN  \n",
       "24455  Count Love      nan     NaN      Houston, TX  \n",
       "...           ...      ...     ...              ...  \n",
       "26135  Count Love   1000.0  1000.0     Portland, OR  \n",
       "26136  Count Love      nan     NaN    Milwaukee, WI  \n",
       "26137  Count Love    100.0   100.0   San Marcos, TX  \n",
       "26138  Count Love    100.0   100.0       Boston, MA  \n",
       "26145  Count Love     20.0    20.0   Washington, DC  \n",
       "\n",
       "[1576 rows x 17 columns]"
      ]
     },
     "execution_count": 12,
     "metadata": {},
     "output_type": "execute_result"
    }
   ],
   "source": [
    "date_start = pd.to_datetime('2020-05-24')\n",
    "cl_blm[pd.to_datetime(cl_blm['date']) >= date_start]\n",
    "\n"
   ]
  },
  {
   "cell_type": "code",
   "execution_count": 13,
   "metadata": {},
   "outputs": [],
   "source": [
    "keep = ['id', 'date', 'city_st', 'location', 'size', 'size_str', 'urls', 'collection']"
   ]
  },
  {
   "cell_type": "code",
   "execution_count": 14,
   "metadata": {},
   "outputs": [],
   "source": [
    "cl_blm[keep].to_csv('data/cl_blm.csv', index=False)"
   ]
  },
  {
   "cell_type": "markdown",
   "metadata": {},
   "source": [
    "# Elephrame\n",
    "(Scraping using \"BLM Scrape Elephrame.ipynb\")"
   ]
  },
  {
   "cell_type": "code",
   "execution_count": 15,
   "metadata": {},
   "outputs": [],
   "source": [
    "ele_df = pd.read_csv('data/Elephrame.csv')\n",
    "ele_df['date'] = pd.to_datetime(ele_df['Date'])"
   ]
  },
  {
   "cell_type": "code",
   "execution_count": 16,
   "metadata": {},
   "outputs": [],
   "source": [
    "def str_2_list(links):\n",
    "    return ast.literal_eval(links)\n",
    "\n",
    "ele_df['urls'] = ele_df['Links'].apply(str_2_list)"
   ]
  },
  {
   "cell_type": "code",
   "execution_count": 17,
   "metadata": {},
   "outputs": [],
   "source": [
    "ele_df['city_st'] = ele_df['Location'].apply(location_fix)\n",
    "\n"
   ]
  },
  {
   "cell_type": "code",
   "execution_count": 18,
   "metadata": {},
   "outputs": [],
   "source": [
    "# Extract numberic component of size_str for size est.\n",
    "\n",
    "\n",
    "def size_est(size):\n",
    "    try:\n",
    "        return int(re.findall('(\\d+)', size)[0])\n",
    "    except:\n",
    "        if 'undreds' in size:\n",
    "            return 200\n",
    "        if 'housands' in size:\n",
    "            return 2000\n",
    "        if 'ozens' in size:\n",
    "            return 24\n",
    "\n",
    "ele_df['size'] = ele_df['Size'].apply(size_est)\n"
   ]
  },
  {
   "cell_type": "code",
   "execution_count": 19,
   "metadata": {},
   "outputs": [],
   "source": [
    "ele_df.rename(\n",
    "    columns={\n",
    "        \"ID\": \"id\",\n",
    "        \"Collection\": \"collection\",\n",
    "        \"Size\": \"size_str\",\n",
    "        \"Description\": \"description\",\n",
    "        \"Location\" : \"location\"\n",
    "    },\n",
    "    inplace=True,\n",
    ")"
   ]
  },
  {
   "cell_type": "code",
   "execution_count": 20,
   "metadata": {},
   "outputs": [],
   "source": [
    "ele_df[keep].to_csv('data/ele.csv', index=False)"
   ]
  },
  {
   "cell_type": "markdown",
   "metadata": {},
   "source": [
    "CCC"
   ]
  },
  {
   "cell_type": "code",
   "execution_count": 21,
   "metadata": {},
   "outputs": [],
   "source": [
    "may_sheet = ('https://docs.google.com/spreadsheets/d/'\n",
    "               '1pZo5p9EKZJ87IvPVjIp50nQQPET_ucV8vKVfZ6NpOvg/'\n",
    "               'edit#gid=1571725208')\n",
    "\n",
    "may_sheet = may_sheet.replace('edit#gid','export?format=csv&gid')"
   ]
  },
  {
   "cell_type": "code",
   "execution_count": 22,
   "metadata": {},
   "outputs": [],
   "source": [
    "may_df = pd.read_csv(may_sheet)"
   ]
  },
  {
   "cell_type": "code",
   "execution_count": 23,
   "metadata": {},
   "outputs": [],
   "source": [
    "june_sheet = ('https://docs.google.com/spreadsheets/d/'\n",
    "              '1-HM-bFsnTd9omYOrB8JOMeQ0XzPvCaVaADKqXQ_RpXg/'\n",
    "              'edit#gid=0')\n",
    "june_sheet = june_sheet.replace('edit#gid','export?format=csv&gid')"
   ]
  },
  {
   "cell_type": "code",
   "execution_count": 24,
   "metadata": {},
   "outputs": [],
   "source": [
    "june_df = pd.read_csv(june_sheet)"
   ]
  },
  {
   "cell_type": "code",
   "execution_count": 25,
   "metadata": {},
   "outputs": [],
   "source": [
    "ccc_df = may_df.append(june_df, ignore_index=True)"
   ]
  },
  {
   "cell_type": "code",
   "execution_count": 26,
   "metadata": {},
   "outputs": [],
   "source": [
    "ccc_df['size_str'] = ccc_df['EstimateText']"
   ]
  },
  {
   "cell_type": "code",
   "execution_count": 27,
   "metadata": {},
   "outputs": [],
   "source": [
    "ccc_df['city_st'] = ccc_df['CityTown'] +', ' + ccc_df['StateTerritory']\n",
    "ccc_df['location'] = ccc_df['Location'].fillna('') + ', ' + ccc_df['city_st']\n",
    "ccc_df['date'] = pd.to_datetime(ccc_df['Date'])\n",
    "ccc_df['collection'] = 'CCC'\n",
    "ccc_df['id'] = None\n",
    "\n",
    "#remove blank rows from Excel\n",
    "ccc_df.dropna(subset=['city_st'], inplace=True)"
   ]
  },
  {
   "cell_type": "code",
   "execution_count": 28,
   "metadata": {},
   "outputs": [],
   "source": [
    "#needs to be better average\n",
    "\n",
    "\n",
    "def ccc_size(row):\n",
    "    '''if np.isnan(row['BestGuess']) == False:\n",
    "        return row['BestGuess']'''\n",
    "    \n",
    "    if row['EstimateLow'] == row['EstimateHigh']:\n",
    "        return row['EstimateLow']\n",
    "    \n",
    "    try:\n",
    "        return (row['EstimateLow']*1.1 + row['EstimateHigh']*.9) / 2\n",
    "    except:\n",
    "        pass\n",
    "    \n",
    "    return row['EstimateLow']\n",
    "\n",
    "ccc_df['size'] = ccc_df.apply(ccc_size, axis=1)\n"
   ]
  },
  {
   "cell_type": "code",
   "execution_count": 29,
   "metadata": {},
   "outputs": [],
   "source": [
    "#combine URLS across three variables\n",
    "def fix_urls(row):\n",
    "    urls  = []\n",
    "    for s in ['Source1', 'Source2', 'Source3']:\n",
    "        if isinstance(row[s], float) == False:\n",
    "            urls.append(row[s])\n",
    "    urls = list(set(urls))\n",
    "    return urls\n",
    "        \n",
    "ccc_df['urls'] = ccc_df.apply(fix_urls, axis=1) "
   ]
  },
  {
   "cell_type": "code",
   "execution_count": 30,
   "metadata": {},
   "outputs": [],
   "source": [
    "ccc_df[keep].to_csv('data/ccc_blm.csv', index=False)"
   ]
  },
  {
   "cell_type": "code",
   "execution_count": null,
   "metadata": {},
   "outputs": [],
   "source": []
  }
 ],
 "metadata": {
  "kernelspec": {
   "display_name": "Python 3",
   "language": "python",
   "name": "python3"
  },
  "language_info": {
   "codemirror_mode": {
    "name": "ipython",
    "version": 3
   },
   "file_extension": ".py",
   "mimetype": "text/x-python",
   "name": "python",
   "nbconvert_exporter": "python",
   "pygments_lexer": "ipython3",
   "version": "3.8.3"
  }
 },
 "nbformat": 4,
 "nbformat_minor": 4
}
