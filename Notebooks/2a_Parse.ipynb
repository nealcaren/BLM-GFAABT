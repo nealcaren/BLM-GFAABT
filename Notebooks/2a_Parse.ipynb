{
 "cells": [
  {
   "cell_type": "code",
   "execution_count": 49,
   "metadata": {},
   "outputs": [],
   "source": [
    "\n",
    "import pandas as pd\n",
    "import requests\n",
    "import re\n",
    "import ast\n",
    "import numpy as np"
   ]
  },
  {
   "cell_type": "markdown",
   "metadata": {},
   "source": [
    "# Count Love"
   ]
  },
  {
   "cell_type": "code",
   "execution_count": 50,
   "metadata": {},
   "outputs": [],
   "source": [
    "# main data\n",
    "cl_url = \"https://countlove.org/data/events.json\"\n",
    "r = requests.get(cl_url)\n",
    "cl_df = pd.DataFrame(r.json()[\"data\"])"
   ]
  },
  {
   "cell_type": "code",
   "execution_count": 51,
   "metadata": {},
   "outputs": [],
   "source": [
    "# article links\n",
    "cl_links = \"https://countlove.org/data/links.json\"\n",
    "r = requests.get(cl_links)"
   ]
  },
  {
   "cell_type": "code",
   "execution_count": 52,
   "metadata": {},
   "outputs": [],
   "source": [
    "# parse article links so they can be merged into main data file\n",
    "\n",
    "l = []\n",
    "j = r.json()\n",
    "\n",
    "for key in j.keys():\n",
    "    # display(key)\n",
    "    id = j[key]\n",
    "    urls = []\n",
    "    for date in id.keys():\n",
    "        urls.append(id[date][0])\n",
    "\n",
    "    m = {\"id\": key, \"urls\": urls}\n",
    "\n",
    "    l.append(m)\n",
    "link_df = pd.DataFrame(l)\n",
    "link_df['url_count'] = link_df['urls'].str.len()"
   ]
  },
  {
   "cell_type": "code",
   "execution_count": null,
   "metadata": {},
   "outputs": [],
   "source": []
  },
  {
   "cell_type": "code",
   "execution_count": 53,
   "metadata": {},
   "outputs": [],
   "source": [
    "# merge cl data and links\n",
    "link_df['id'] = link_df['id'].astype(int)\n",
    "cl_df2 = pd.merge(cl_df, link_df, left_on='id', right_on='id')"
   ]
  },
  {
   "cell_type": "code",
   "execution_count": 54,
   "metadata": {},
   "outputs": [],
   "source": [
    "# turn tag list into strings for matching\n",
    "def tag2(tags):\n",
    "    try:\n",
    "        return ', '.join([str(i) for i in tags])\n",
    "    except:\n",
    "        return str(tags)"
   ]
  },
  {
   "cell_type": "code",
   "execution_count": 55,
   "metadata": {},
   "outputs": [],
   "source": [
    "# variable cleaning\n",
    "\n",
    "cl_df2['date'] = pd.to_datetime(cl_df2['date'])\n",
    "cl_df2['collection'] = 'Count Love'\n",
    "cl_df2['size_str'] = cl_df2['count'].astype(str)\n",
    "cl_df2['size'] = cl_df2['count']"
   ]
  },
  {
   "cell_type": "code",
   "execution_count": 56,
   "metadata": {},
   "outputs": [],
   "source": [
    "#extract floyed protests\n",
    "blm_screen = cl_df2['tags'].apply(tag2) == '2, 19, 4661, 4662'\n",
    "cl_blm = cl_df2[blm_screen].copy()"
   ]
  },
  {
   "cell_type": "code",
   "execution_count": 57,
   "metadata": {},
   "outputs": [
    {
     "data": {
      "text/plain": [
       "3418"
      ]
     },
     "execution_count": 57,
     "metadata": {},
     "output_type": "execute_result"
    }
   ],
   "source": [
    "len(cl_blm)"
   ]
  },
  {
   "cell_type": "code",
   "execution_count": 58,
   "metadata": {},
   "outputs": [],
   "source": [
    "#remove extra pieces that aren't city/state\n",
    "\n",
    "def location_fix(location):\n",
    "    locations = location.split(', ')\n",
    "    if len(locations) <=2:\n",
    "        return location\n",
    "    return ', '.join(locations[-2:])\n",
    "\n",
    "cl_blm['city_st'] = cl_blm['location'].apply(location_fix)"
   ]
  },
  {
   "cell_type": "code",
   "execution_count": 59,
   "metadata": {},
   "outputs": [],
   "source": [
    "#wrong date on early event\n",
    "\n",
    "cl_blm.loc[cl_blm['id'] == 30289, 'date'] = pd.to_datetime('2020-05-30')\n"
   ]
  },
  {
   "cell_type": "code",
   "execution_count": 60,
   "metadata": {},
   "outputs": [
    {
     "data": {
      "text/html": [
       "<div>\n",
       "<style scoped>\n",
       "    .dataframe tbody tr th:only-of-type {\n",
       "        vertical-align: middle;\n",
       "    }\n",
       "\n",
       "    .dataframe tbody tr th {\n",
       "        vertical-align: top;\n",
       "    }\n",
       "\n",
       "    .dataframe thead th {\n",
       "        text-align: right;\n",
       "    }\n",
       "</style>\n",
       "<table border=\"1\" class=\"dataframe\">\n",
       "  <thead>\n",
       "    <tr style=\"text-align: right;\">\n",
       "      <th></th>\n",
       "      <th>id</th>\n",
       "      <th>date</th>\n",
       "      <th>location</th>\n",
       "      <th>count</th>\n",
       "      <th>lat</th>\n",
       "      <th>lon</th>\n",
       "      <th>event</th>\n",
       "      <th>source</th>\n",
       "      <th>tags</th>\n",
       "      <th>relevant</th>\n",
       "      <th>total_articles</th>\n",
       "      <th>urls</th>\n",
       "      <th>url_count</th>\n",
       "      <th>collection</th>\n",
       "      <th>size_str</th>\n",
       "      <th>size</th>\n",
       "      <th>city_st</th>\n",
       "    </tr>\n",
       "  </thead>\n",
       "  <tbody>\n",
       "    <tr>\n",
       "      <th>24446</th>\n",
       "      <td>30289</td>\n",
       "      <td>2020-05-30</td>\n",
       "      <td>Tulsa, OK</td>\n",
       "      <td>NaN</td>\n",
       "      <td>36.154</td>\n",
       "      <td>-95.993</td>\n",
       "      <td>Uncategorized</td>\n",
       "      <td>https://kfor.com/news/local/protester-hit-by-v...</td>\n",
       "      <td>[2, 19, 4661, 4662]</td>\n",
       "      <td>True</td>\n",
       "      <td>1</td>\n",
       "      <td>[https://kfor.com/news/local/protester-hit-by-...</td>\n",
       "      <td>1</td>\n",
       "      <td>Count Love</td>\n",
       "      <td>nan</td>\n",
       "      <td>NaN</td>\n",
       "      <td>Tulsa, OK</td>\n",
       "    </tr>\n",
       "    <tr>\n",
       "      <th>24447</th>\n",
       "      <td>29731</td>\n",
       "      <td>2020-05-26</td>\n",
       "      <td>Powderhorn, Minneapolis, MN</td>\n",
       "      <td>1000.0</td>\n",
       "      <td>44.940</td>\n",
       "      <td>-93.263</td>\n",
       "      <td>Uncategorized</td>\n",
       "      <td>https://www.startribune.com/police-protesters-...</td>\n",
       "      <td>[2, 19, 4661, 4662]</td>\n",
       "      <td>True</td>\n",
       "      <td>57</td>\n",
       "      <td>[https://www.grandforksherald.com/news/governm...</td>\n",
       "      <td>7</td>\n",
       "      <td>Count Love</td>\n",
       "      <td>1000.0</td>\n",
       "      <td>1000.0</td>\n",
       "      <td>Minneapolis, MN</td>\n",
       "    </tr>\n",
       "    <tr>\n",
       "      <th>24452</th>\n",
       "      <td>29741</td>\n",
       "      <td>2020-05-26</td>\n",
       "      <td>Ann Arbor, MI</td>\n",
       "      <td>20.0</td>\n",
       "      <td>42.281</td>\n",
       "      <td>-83.743</td>\n",
       "      <td>Uncategorized</td>\n",
       "      <td>https://www.mlive.com/news/ann-arbor/2020/05/y...</td>\n",
       "      <td>[2, 19, 4661, 4662]</td>\n",
       "      <td>True</td>\n",
       "      <td>4</td>\n",
       "      <td>[https://www.mlive.com/news/ann-arbor/2020/05/...</td>\n",
       "      <td>4</td>\n",
       "      <td>Count Love</td>\n",
       "      <td>20.0</td>\n",
       "      <td>20.0</td>\n",
       "      <td>Ann Arbor, MI</td>\n",
       "    </tr>\n",
       "    <tr>\n",
       "      <th>24453</th>\n",
       "      <td>29744</td>\n",
       "      <td>2020-05-26</td>\n",
       "      <td>St. Paul, MN</td>\n",
       "      <td>NaN</td>\n",
       "      <td>44.954</td>\n",
       "      <td>-93.090</td>\n",
       "      <td>Uncategorized</td>\n",
       "      <td>https://www.cbsnews.com/news/protesters-gather...</td>\n",
       "      <td>[2, 19, 4661, 4662]</td>\n",
       "      <td>True</td>\n",
       "      <td>2</td>\n",
       "      <td>[https://www.cbsnews.com/news/protesters-gathe...</td>\n",
       "      <td>2</td>\n",
       "      <td>Count Love</td>\n",
       "      <td>nan</td>\n",
       "      <td>NaN</td>\n",
       "      <td>St. Paul, MN</td>\n",
       "    </tr>\n",
       "    <tr>\n",
       "      <th>24456</th>\n",
       "      <td>29792</td>\n",
       "      <td>2020-05-26</td>\n",
       "      <td>Emancipation Park, Houston, TX</td>\n",
       "      <td>NaN</td>\n",
       "      <td>29.736</td>\n",
       "      <td>-95.364</td>\n",
       "      <td>Uncategorized</td>\n",
       "      <td>https://www.houstonchronicle.com/news/houston-...</td>\n",
       "      <td>[2, 19, 4661, 4662]</td>\n",
       "      <td>True</td>\n",
       "      <td>3</td>\n",
       "      <td>[https://www.houstonchronicle.com/news/houston...</td>\n",
       "      <td>2</td>\n",
       "      <td>Count Love</td>\n",
       "      <td>nan</td>\n",
       "      <td>NaN</td>\n",
       "      <td>Houston, TX</td>\n",
       "    </tr>\n",
       "    <tr>\n",
       "      <th>...</th>\n",
       "      <td>...</td>\n",
       "      <td>...</td>\n",
       "      <td>...</td>\n",
       "      <td>...</td>\n",
       "      <td>...</td>\n",
       "      <td>...</td>\n",
       "      <td>...</td>\n",
       "      <td>...</td>\n",
       "      <td>...</td>\n",
       "      <td>...</td>\n",
       "      <td>...</td>\n",
       "      <td>...</td>\n",
       "      <td>...</td>\n",
       "      <td>...</td>\n",
       "      <td>...</td>\n",
       "      <td>...</td>\n",
       "      <td>...</td>\n",
       "    </tr>\n",
       "    <tr>\n",
       "      <th>27692</th>\n",
       "      <td>33417</td>\n",
       "      <td>2020-06-20</td>\n",
       "      <td>Cambridge, MA</td>\n",
       "      <td>2000.0</td>\n",
       "      <td>42.374</td>\n",
       "      <td>-71.110</td>\n",
       "      <td>Uncategorized</td>\n",
       "      <td>http://www.cambridgeday.com/2020/06/21/two-tho...</td>\n",
       "      <td>[2, 19, 4661, 4662]</td>\n",
       "      <td>False</td>\n",
       "      <td>1</td>\n",
       "      <td>[http://www.cambridgeday.com/2020/06/21/two-th...</td>\n",
       "      <td>1</td>\n",
       "      <td>Count Love</td>\n",
       "      <td>2000.0</td>\n",
       "      <td>2000.0</td>\n",
       "      <td>Cambridge, MA</td>\n",
       "    </tr>\n",
       "    <tr>\n",
       "      <th>27697</th>\n",
       "      <td>33429</td>\n",
       "      <td>2020-06-20</td>\n",
       "      <td>Baltimore, MD</td>\n",
       "      <td>NaN</td>\n",
       "      <td>39.290</td>\n",
       "      <td>-76.612</td>\n",
       "      <td>Uncategorized</td>\n",
       "      <td>https://baltimore.cbslocal.com/2020/06/20/prot...</td>\n",
       "      <td>[2, 19, 4661, 4662]</td>\n",
       "      <td>True</td>\n",
       "      <td>1</td>\n",
       "      <td>[https://baltimore.cbslocal.com/2020/06/20/pro...</td>\n",
       "      <td>1</td>\n",
       "      <td>Count Love</td>\n",
       "      <td>nan</td>\n",
       "      <td>NaN</td>\n",
       "      <td>Baltimore, MD</td>\n",
       "    </tr>\n",
       "    <tr>\n",
       "      <th>27698</th>\n",
       "      <td>33436</td>\n",
       "      <td>2020-06-20</td>\n",
       "      <td>Currie Park, West Palm Beach, FL</td>\n",
       "      <td>100.0</td>\n",
       "      <td>26.735</td>\n",
       "      <td>-80.050</td>\n",
       "      <td>Uncategorized</td>\n",
       "      <td>https://www.palmbeachpost.com/news/20200620/ab...</td>\n",
       "      <td>[2, 19, 4661, 4662]</td>\n",
       "      <td>True</td>\n",
       "      <td>1</td>\n",
       "      <td>[https://www.palmbeachpost.com/news/20200620/a...</td>\n",
       "      <td>1</td>\n",
       "      <td>Count Love</td>\n",
       "      <td>100.0</td>\n",
       "      <td>100.0</td>\n",
       "      <td>West Palm Beach, FL</td>\n",
       "    </tr>\n",
       "    <tr>\n",
       "      <th>27699</th>\n",
       "      <td>33446</td>\n",
       "      <td>2020-06-20</td>\n",
       "      <td>Austin, TX</td>\n",
       "      <td>50.0</td>\n",
       "      <td>30.267</td>\n",
       "      <td>-97.743</td>\n",
       "      <td>Uncategorized</td>\n",
       "      <td>https://www.kxan.com/austin-george-floyd-mike-...</td>\n",
       "      <td>[2, 19, 4661, 4662]</td>\n",
       "      <td>True</td>\n",
       "      <td>1</td>\n",
       "      <td>[https://www.kxan.com/austin-george-floyd-mike...</td>\n",
       "      <td>1</td>\n",
       "      <td>Count Love</td>\n",
       "      <td>50.0</td>\n",
       "      <td>50.0</td>\n",
       "      <td>Austin, TX</td>\n",
       "    </tr>\n",
       "    <tr>\n",
       "      <th>27700</th>\n",
       "      <td>33453</td>\n",
       "      <td>2020-06-21</td>\n",
       "      <td>Compton, CA</td>\n",
       "      <td>600.0</td>\n",
       "      <td>33.896</td>\n",
       "      <td>-118.220</td>\n",
       "      <td>Uncategorized</td>\n",
       "      <td>https://www.dailybreeze.com/2020/06/21/demonst...</td>\n",
       "      <td>[2, 19, 4661, 4662]</td>\n",
       "      <td>True</td>\n",
       "      <td>2</td>\n",
       "      <td>[https://curated.tncontentexchange.com/news/pr...</td>\n",
       "      <td>2</td>\n",
       "      <td>Count Love</td>\n",
       "      <td>600.0</td>\n",
       "      <td>600.0</td>\n",
       "      <td>Compton, CA</td>\n",
       "    </tr>\n",
       "  </tbody>\n",
       "</table>\n",
       "<p>2958 rows × 17 columns</p>\n",
       "</div>"
      ],
      "text/plain": [
       "          id       date                          location   count     lat  \\\n",
       "24446  30289 2020-05-30                         Tulsa, OK     NaN  36.154   \n",
       "24447  29731 2020-05-26       Powderhorn, Minneapolis, MN  1000.0  44.940   \n",
       "24452  29741 2020-05-26                     Ann Arbor, MI    20.0  42.281   \n",
       "24453  29744 2020-05-26                      St. Paul, MN     NaN  44.954   \n",
       "24456  29792 2020-05-26    Emancipation Park, Houston, TX     NaN  29.736   \n",
       "...      ...        ...                               ...     ...     ...   \n",
       "27692  33417 2020-06-20                     Cambridge, MA  2000.0  42.374   \n",
       "27697  33429 2020-06-20                     Baltimore, MD     NaN  39.290   \n",
       "27698  33436 2020-06-20  Currie Park, West Palm Beach, FL   100.0  26.735   \n",
       "27699  33446 2020-06-20                        Austin, TX    50.0  30.267   \n",
       "27700  33453 2020-06-21                       Compton, CA   600.0  33.896   \n",
       "\n",
       "           lon          event  \\\n",
       "24446  -95.993  Uncategorized   \n",
       "24447  -93.263  Uncategorized   \n",
       "24452  -83.743  Uncategorized   \n",
       "24453  -93.090  Uncategorized   \n",
       "24456  -95.364  Uncategorized   \n",
       "...        ...            ...   \n",
       "27692  -71.110  Uncategorized   \n",
       "27697  -76.612  Uncategorized   \n",
       "27698  -80.050  Uncategorized   \n",
       "27699  -97.743  Uncategorized   \n",
       "27700 -118.220  Uncategorized   \n",
       "\n",
       "                                                  source                 tags  \\\n",
       "24446  https://kfor.com/news/local/protester-hit-by-v...  [2, 19, 4661, 4662]   \n",
       "24447  https://www.startribune.com/police-protesters-...  [2, 19, 4661, 4662]   \n",
       "24452  https://www.mlive.com/news/ann-arbor/2020/05/y...  [2, 19, 4661, 4662]   \n",
       "24453  https://www.cbsnews.com/news/protesters-gather...  [2, 19, 4661, 4662]   \n",
       "24456  https://www.houstonchronicle.com/news/houston-...  [2, 19, 4661, 4662]   \n",
       "...                                                  ...                  ...   \n",
       "27692  http://www.cambridgeday.com/2020/06/21/two-tho...  [2, 19, 4661, 4662]   \n",
       "27697  https://baltimore.cbslocal.com/2020/06/20/prot...  [2, 19, 4661, 4662]   \n",
       "27698  https://www.palmbeachpost.com/news/20200620/ab...  [2, 19, 4661, 4662]   \n",
       "27699  https://www.kxan.com/austin-george-floyd-mike-...  [2, 19, 4661, 4662]   \n",
       "27700  https://www.dailybreeze.com/2020/06/21/demonst...  [2, 19, 4661, 4662]   \n",
       "\n",
       "       relevant  total_articles  \\\n",
       "24446      True               1   \n",
       "24447      True              57   \n",
       "24452      True               4   \n",
       "24453      True               2   \n",
       "24456      True               3   \n",
       "...         ...             ...   \n",
       "27692     False               1   \n",
       "27697      True               1   \n",
       "27698      True               1   \n",
       "27699      True               1   \n",
       "27700      True               2   \n",
       "\n",
       "                                                    urls  url_count  \\\n",
       "24446  [https://kfor.com/news/local/protester-hit-by-...          1   \n",
       "24447  [https://www.grandforksherald.com/news/governm...          7   \n",
       "24452  [https://www.mlive.com/news/ann-arbor/2020/05/...          4   \n",
       "24453  [https://www.cbsnews.com/news/protesters-gathe...          2   \n",
       "24456  [https://www.houstonchronicle.com/news/houston...          2   \n",
       "...                                                  ...        ...   \n",
       "27692  [http://www.cambridgeday.com/2020/06/21/two-th...          1   \n",
       "27697  [https://baltimore.cbslocal.com/2020/06/20/pro...          1   \n",
       "27698  [https://www.palmbeachpost.com/news/20200620/a...          1   \n",
       "27699  [https://www.kxan.com/austin-george-floyd-mike...          1   \n",
       "27700  [https://curated.tncontentexchange.com/news/pr...          2   \n",
       "\n",
       "       collection size_str    size              city_st  \n",
       "24446  Count Love      nan     NaN            Tulsa, OK  \n",
       "24447  Count Love   1000.0  1000.0      Minneapolis, MN  \n",
       "24452  Count Love     20.0    20.0        Ann Arbor, MI  \n",
       "24453  Count Love      nan     NaN         St. Paul, MN  \n",
       "24456  Count Love      nan     NaN          Houston, TX  \n",
       "...           ...      ...     ...                  ...  \n",
       "27692  Count Love   2000.0  2000.0        Cambridge, MA  \n",
       "27697  Count Love      nan     NaN        Baltimore, MD  \n",
       "27698  Count Love    100.0   100.0  West Palm Beach, FL  \n",
       "27699  Count Love     50.0    50.0           Austin, TX  \n",
       "27700  Count Love    600.0   600.0          Compton, CA  \n",
       "\n",
       "[2958 rows x 17 columns]"
      ]
     },
     "execution_count": 60,
     "metadata": {},
     "output_type": "execute_result"
    }
   ],
   "source": [
    "date_start = pd.to_datetime('2020-05-24')\n",
    "cl_blm[pd.to_datetime(cl_blm['date']) >= date_start]\n",
    "\n"
   ]
  },
  {
   "cell_type": "code",
   "execution_count": 61,
   "metadata": {},
   "outputs": [],
   "source": [
    "keep = ['id', 'date', 'city_st', 'location', 'size', 'size_str', 'urls', 'collection']"
   ]
  },
  {
   "cell_type": "code",
   "execution_count": 62,
   "metadata": {},
   "outputs": [],
   "source": [
    "cl_blm[keep].to_csv('data/cl_blm.csv', index=False)"
   ]
  },
  {
   "cell_type": "markdown",
   "metadata": {},
   "source": [
    "# Elephrame\n",
    "(Scraping using \"BLM Scrape Elephrame.ipynb\")"
   ]
  },
  {
   "cell_type": "code",
   "execution_count": 63,
   "metadata": {},
   "outputs": [],
   "source": [
    "ele_df = pd.read_csv('data/Elephrame.csv')\n",
    "ele_df['date'] = pd.to_datetime(ele_df['Date'])"
   ]
  },
  {
   "cell_type": "code",
   "execution_count": 64,
   "metadata": {},
   "outputs": [],
   "source": [
    "def str_2_list(links):\n",
    "    return ast.literal_eval(links)\n",
    "\n",
    "ele_df['urls'] = ele_df['Links'].apply(str_2_list)"
   ]
  },
  {
   "cell_type": "code",
   "execution_count": 65,
   "metadata": {},
   "outputs": [],
   "source": [
    "ele_df['city_st'] = ele_df['Location'].apply(location_fix)\n",
    "\n"
   ]
  },
  {
   "cell_type": "code",
   "execution_count": 66,
   "metadata": {},
   "outputs": [],
   "source": [
    "# Extract numberic component of size_str for size est.\n",
    "\n",
    "\n",
    "def size_est(size):\n",
    "    try:\n",
    "        return int(re.findall('(\\d+)', size)[0])\n",
    "    except:\n",
    "        if 'undreds' in size:\n",
    "            return 200\n",
    "        if 'housands' in size:\n",
    "            return 2000\n",
    "        if 'ozens' in size:\n",
    "            return 24\n",
    "\n",
    "ele_df['size'] = ele_df['Size'].apply(size_est)\n"
   ]
  },
  {
   "cell_type": "code",
   "execution_count": 67,
   "metadata": {},
   "outputs": [],
   "source": [
    "ele_df.rename(\n",
    "    columns={\n",
    "        \"ID\": \"id\",\n",
    "        \"Collection\": \"collection\",\n",
    "        \"Size\": \"size_str\",\n",
    "        \"Description\": \"description\",\n",
    "        \"Location\" : \"location\"\n",
    "    },\n",
    "    inplace=True,\n",
    ")"
   ]
  },
  {
   "cell_type": "code",
   "execution_count": 68,
   "metadata": {},
   "outputs": [],
   "source": [
    "ele_df[keep].to_csv('data/ele.csv', index=False)"
   ]
  },
  {
   "cell_type": "markdown",
   "metadata": {},
   "source": [
    "CCC"
   ]
  },
  {
   "cell_type": "code",
   "execution_count": 69,
   "metadata": {},
   "outputs": [],
   "source": [
    "may_sheet = ('https://docs.google.com/spreadsheets/d/'\n",
    "               '1pZo5p9EKZJ87IvPVjIp50nQQPET_ucV8vKVfZ6NpOvg/'\n",
    "               'edit#gid=1571725208')\n",
    "\n",
    "may_sheet = may_sheet.replace('edit#gid','export?format=csv&gid')"
   ]
  },
  {
   "cell_type": "code",
   "execution_count": 70,
   "metadata": {},
   "outputs": [],
   "source": [
    "may_df = pd.read_csv(may_sheet)"
   ]
  },
  {
   "cell_type": "code",
   "execution_count": 71,
   "metadata": {},
   "outputs": [],
   "source": [
    "june_sheet = ('https://docs.google.com/spreadsheets/d/'\n",
    "              '1-HM-bFsnTd9omYOrB8JOMeQ0XzPvCaVaADKqXQ_RpXg/'\n",
    "              'edit#gid=0')\n",
    "june_sheet = june_sheet.replace('edit#gid','export?format=csv&gid')"
   ]
  },
  {
   "cell_type": "code",
   "execution_count": 72,
   "metadata": {},
   "outputs": [],
   "source": [
    "june_df = pd.read_csv(june_sheet)"
   ]
  },
  {
   "cell_type": "code",
   "execution_count": 73,
   "metadata": {},
   "outputs": [],
   "source": [
    "ccc_df = may_df.append(june_df, ignore_index=True)"
   ]
  },
  {
   "cell_type": "code",
   "execution_count": 74,
   "metadata": {},
   "outputs": [],
   "source": [
    "ccc_df['size_str'] = ccc_df['EstimateText']"
   ]
  },
  {
   "cell_type": "code",
   "execution_count": 90,
   "metadata": {},
   "outputs": [],
   "source": [
    "ccc_df['Date'] = ccc_df['Date'].replace({'2020-045-3': '2020-05-30', \n",
    "                                         '6/114':'2020-06-14',\n",
    "                                        '6/13' : '2020-06-13'})"
   ]
  },
  {
   "cell_type": "code",
   "execution_count": 91,
   "metadata": {},
   "outputs": [
    {
     "data": {
      "text/plain": [
       "Index(['City/Town', 'Location', 'County', 'StateTerritory', 'Country', 'Date',\n",
       "       'EstimateText', 'EstimateLow', 'BestGuess', 'EstimateHigh',\n",
       "       'AdjustedLow', 'AdjustedHigh', 'Actor', 'Claim', 'Pro(2)/Anti(1)',\n",
       "       'EventType', 'ReportedArrests', 'ReportedParticipantInjuries',\n",
       "       'ReportedPoliceInjuries', 'ReportedPropertyDamage', 'TownsCities',\n",
       "       'Events', 'Source1', 'Source2', 'Source3', 'Misc.', 'TearGas',\n",
       "       'Unnamed: 27', 'Unnamed: 28', 'Unnamed: 29', 'Unnamed: 30',\n",
       "       'Unnamed: 31', 'Unnamed: 32', 'Unnamed: 33', 'Unnamed: 34',\n",
       "       'Unnamed: 35', 'Unnamed: 36', 'Unnamed: 37', 'Unnamed: 38',\n",
       "       'Unnamed: 39', 'Unnamed: 40', 'Unnamed: 41', 'Unnamed: 42',\n",
       "       'Unnamed: 43', 'Unnamed: 44', 'size_str', 'city_st', 'location'],\n",
       "      dtype='object')"
      ]
     },
     "execution_count": 91,
     "metadata": {},
     "output_type": "execute_result"
    }
   ],
   "source": [
    "ccc_df.keys()"
   ]
  },
  {
   "cell_type": "code",
   "execution_count": 92,
   "metadata": {},
   "outputs": [
    {
     "data": {
      "text/plain": [
       "3463    2020-06-21\n",
       "3462    2020-06-21\n",
       "3461    2020-06-21\n",
       "3460    2020-06-21\n",
       "3459    2020-06-21\n",
       "3458    2020-06-21\n",
       "3457    2020-06-21\n",
       "3456    2020-06-21\n",
       "3453    2020-06-21\n",
       "3454    2020-06-21\n",
       "3452    2020-06-21\n",
       "3451    2020-06-21\n",
       "3450    2020-06-21\n",
       "3449    2020-06-21\n",
       "3448    2020-06-21\n",
       "3447    2020-06-21\n",
       "3455    2020-06-21\n",
       "3467    2020-06-26\n",
       "3466    2020-06-26\n",
       "3468    2020-06-27\n",
       "Name: Date, dtype: object"
      ]
     },
     "execution_count": 92,
     "metadata": {},
     "output_type": "execute_result"
    }
   ],
   "source": [
    "ccc_df['Date'].dropna().sort_values().tail(20)"
   ]
  },
  {
   "cell_type": "code",
   "execution_count": 93,
   "metadata": {},
   "outputs": [],
   "source": [
    "ccc_df['city_st'] = ccc_df['City/Town'] +', ' + ccc_df['StateTerritory']\n",
    "ccc_df['location'] = ccc_df['Location'].fillna('') + ', ' + ccc_df['city_st']\n",
    "ccc_df['date'] = pd.to_datetime(ccc_df['Date'])\n",
    "ccc_df['collection'] = 'CCC'\n",
    "ccc_df['id'] = None\n",
    "\n",
    "#remove blank rows from Excel\n",
    "ccc_df.dropna(subset=['city_st'], inplace=True)"
   ]
  },
  {
   "cell_type": "code",
   "execution_count": 94,
   "metadata": {},
   "outputs": [
    {
     "data": {
      "text/plain": [
       "2020-06-06    389\n",
       "2020-05-30    332\n",
       "2020-05-31    286\n",
       "2020-06-19    250\n",
       "2020-06-07    235\n",
       "2020-06-02    234\n",
       "2020-06-01    221\n",
       "2020-06-05    218\n",
       "2020-06-13    170\n",
       "2020-06-03    157\n",
       "2020-05-29    151\n",
       "2020-06-12    120\n",
       "2020-06-14    116\n",
       "2020-06-04    114\n",
       "2020-06-08     62\n",
       "2020-05-28     52\n",
       "2020-06-09     48\n",
       "2020-06-10     34\n",
       "2020-06-11     32\n",
       "2020-06-18     18\n",
       "2020-06-21     17\n",
       "2020-06-20     14\n",
       "2020-05-27     11\n",
       "2020-06-15     10\n",
       "2020-06-17      9\n",
       "2020-06-16      8\n",
       "2020-05-26      7\n",
       "2020-06-26      2\n",
       "2020-05-25      1\n",
       "2020-06-27      1\n",
       "Name: date, dtype: int64"
      ]
     },
     "execution_count": 94,
     "metadata": {},
     "output_type": "execute_result"
    }
   ],
   "source": [
    "ccc_df['date'].value_counts()"
   ]
  },
  {
   "cell_type": "code",
   "execution_count": 95,
   "metadata": {},
   "outputs": [],
   "source": [
    "#needs to be better average\n",
    "\n",
    "\n",
    "def ccc_size(row):\n",
    "    '''if np.isnan(row['BestGuess']) == False:\n",
    "        return row['BestGuess']'''\n",
    "    \n",
    "    if row['EstimateLow'] == row['EstimateHigh']:\n",
    "        return row['EstimateLow']\n",
    "    \n",
    "    try:\n",
    "        return (row['EstimateLow']*1.1 + row['EstimateHigh']*.9) / 2\n",
    "    except:\n",
    "        pass\n",
    "    \n",
    "    return row['EstimateLow']\n",
    "\n",
    "ccc_df['size'] = ccc_df.apply(ccc_size, axis=1)\n"
   ]
  },
  {
   "cell_type": "code",
   "execution_count": 96,
   "metadata": {},
   "outputs": [],
   "source": [
    "#combine URLS across three variables\n",
    "def fix_urls(row):\n",
    "    urls  = []\n",
    "    for s in ['Source1', 'Source2', 'Source3']:\n",
    "        if isinstance(row[s], float) == False:\n",
    "            urls.append(row[s])\n",
    "    urls = list(set(urls))\n",
    "    return urls\n",
    "        \n",
    "ccc_df['urls'] = ccc_df.apply(fix_urls, axis=1) "
   ]
  },
  {
   "cell_type": "code",
   "execution_count": 97,
   "metadata": {},
   "outputs": [],
   "source": [
    "ccc_df[keep].to_csv('data/ccc_blm.csv', index=False)"
   ]
  },
  {
   "cell_type": "code",
   "execution_count": null,
   "metadata": {},
   "outputs": [],
   "source": []
  },
  {
   "cell_type": "code",
   "execution_count": null,
   "metadata": {},
   "outputs": [],
   "source": []
  }
 ],
 "metadata": {
  "kernelspec": {
   "display_name": "Python 3",
   "language": "python",
   "name": "python3"
  },
  "language_info": {
   "codemirror_mode": {
    "name": "ipython",
    "version": 3
   },
   "file_extension": ".py",
   "mimetype": "text/x-python",
   "name": "python",
   "nbconvert_exporter": "python",
   "pygments_lexer": "ipython3",
   "version": "3.8.3"
  }
 },
 "nbformat": 4,
 "nbformat_minor": 4
}
